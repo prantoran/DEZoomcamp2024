{
 "cells": [
  {
   "cell_type": "code",
   "execution_count": 3,
   "id": "1d6b426f-9fcb-456c-a17c-bc433fc6e64b",
   "metadata": {},
   "outputs": [],
   "source": [
    "import pyspark\n",
    "from pyspark.sql import SparkSession"
   ]
  },
  {
   "cell_type": "code",
   "execution_count": 4,
   "id": "aef1a915-e494-4aef-808c-37c24b4ce460",
   "metadata": {},
   "outputs": [
    {
     "name": "stdout",
     "output_type": "stream",
     "text": [
      "24/03/03 00:37:53 WARN Utils: Your hostname, queen resolves to a loopback address: 127.0.1.1; using 192.168.1.124 instead (on interface wlo1)\n",
      "24/03/03 00:37:53 WARN Utils: Set SPARK_LOCAL_IP if you need to bind to another address\n"
     ]
    },
    {
     "name": "stderr",
     "output_type": "stream",
     "text": [
      "Setting default log level to \"WARN\".\n",
      "To adjust logging level use sc.setLogLevel(newLevel). For SparkR, use setLogLevel(newLevel).\n"
     ]
    },
    {
     "name": "stdout",
     "output_type": "stream",
     "text": [
      "24/03/03 00:37:54 WARN NativeCodeLoader: Unable to load native-hadoop library for your platform... using builtin-java classes where applicable\n"
     ]
    }
   ],
   "source": [
    "spark = SparkSession.builder \\\n",
    "    .master(\"local[*]\") \\\n",
    "    .appName('test') \\\n",
    "    .getOrCreate()"
   ]
  },
  {
   "cell_type": "code",
   "execution_count": 5,
   "id": "df3c117a-baa9-4421-8bad-f3ff1256efd2",
   "metadata": {},
   "outputs": [],
   "source": [
    "df_green = spark.read.parquet('data/pq/green/*/*')"
   ]
  },
  {
   "cell_type": "markdown",
   "id": "53a555e0-d0c6-4f23-9fd2-1c6388a3a762",
   "metadata": {},
   "source": [
    "```\n",
    "SELECT \n",
    "    date_trunc('hour', lpep_pickup_datetime) AS hour, \n",
    "    PULocationID AS zone,\n",
    "\n",
    "    SUM(total_amount) AS amount,\n",
    "    COUNT(1) AS number_records\n",
    "FROM\n",
    "    green\n",
    "WHERE \n",
    "    lpep_pickup_datetime >= '2020-01-01 00:00:00'\n",
    "GROUP BY\n",
    "    1, 2\n",
    "ORDER BY \n",
    "    1, 2\n",
    "```"
   ]
  },
  {
   "cell_type": "code",
   "execution_count": 6,
   "id": "bd42be87-c425-4534-8ea4-179a4ddf2a7b",
   "metadata": {},
   "outputs": [
    {
     "name": "stderr",
     "output_type": "stream",
     "text": [
      "                                                                                \r"
     ]
    },
    {
     "data": {
      "text/plain": [
       "[Row(VendorID=2, lpep_pickup_datetime=datetime.datetime(2020, 1, 29, 14, 32), lpep_dropoff_datetime=datetime.datetime(2020, 1, 29, 14, 37, 24), store_and_fwd_flag='N', RatecodeID=1, PULocationID=97, DOLocationID=97, passenger_count=1, trip_distance=0.81, fare_amount=5.5, extra=0.0, mta_tax=0.5, tip_amount=1.0, tolls_amount=0.0, ehail_fee=None, improvement_surcharge=0.3, total_amount=7.3, payment_type=1, trip_type=1, congestion_surcharge=0.0),\n",
       " Row(VendorID=2, lpep_pickup_datetime=datetime.datetime(2020, 1, 24, 4, 36, 44), lpep_dropoff_datetime=datetime.datetime(2020, 1, 24, 4, 46, 50), store_and_fwd_flag='N', RatecodeID=5, PULocationID=7, DOLocationID=141, passenger_count=1, trip_distance=3.02, fare_amount=40.0, extra=0.0, mta_tax=0.0, tip_amount=0.0, tolls_amount=0.0, ehail_fee=None, improvement_surcharge=0.0, total_amount=42.75, payment_type=1, trip_type=2, congestion_surcharge=2.75)]"
      ]
     },
     "execution_count": 6,
     "metadata": {},
     "output_type": "execute_result"
    }
   ],
   "source": [
    "df_green.rdd.take(2)"
   ]
  },
  {
   "cell_type": "code",
   "execution_count": 7,
   "id": "337a2fcd-5d06-46aa-bf55-c6a0f76e1488",
   "metadata": {},
   "outputs": [
    {
     "data": {
      "text/plain": [
       "[Row(VendorID=2, lpep_pickup_datetime=datetime.datetime(2020, 1, 29, 14, 32), lpep_dropoff_datetime=datetime.datetime(2020, 1, 29, 14, 37, 24), store_and_fwd_flag='N', RatecodeID=1, PULocationID=97, DOLocationID=97, passenger_count=1, trip_distance=0.81, fare_amount=5.5, extra=0.0, mta_tax=0.5, tip_amount=1.0, tolls_amount=0.0, ehail_fee=None, improvement_surcharge=0.3, total_amount=7.3, payment_type=1, trip_type=1, congestion_surcharge=0.0),\n",
       " Row(VendorID=2, lpep_pickup_datetime=datetime.datetime(2020, 1, 24, 4, 36, 44), lpep_dropoff_datetime=datetime.datetime(2020, 1, 24, 4, 46, 50), store_and_fwd_flag='N', RatecodeID=5, PULocationID=7, DOLocationID=141, passenger_count=1, trip_distance=3.02, fare_amount=40.0, extra=0.0, mta_tax=0.0, tip_amount=0.0, tolls_amount=0.0, ehail_fee=None, improvement_surcharge=0.0, total_amount=42.75, payment_type=1, trip_type=2, congestion_surcharge=2.75)]"
      ]
     },
     "execution_count": 7,
     "metadata": {},
     "output_type": "execute_result"
    }
   ],
   "source": [
    "df_green.take(2)"
   ]
  },
  {
   "cell_type": "code",
   "execution_count": 8,
   "id": "28706fc6-69e4-4001-b96c-a9e59a7e6649",
   "metadata": {},
   "outputs": [],
   "source": [
    "rdd = df_green \\\n",
    "    .select('lpep_pickup_datetime', 'PULocationID', 'total_amount') \\\n",
    "    .rdd"
   ]
  },
  {
   "cell_type": "code",
   "execution_count": 9,
   "id": "c8b77ffc-c648-4271-9035-e4fc9d091966",
   "metadata": {},
   "outputs": [
    {
     "data": {
      "text/plain": [
       "[Row(lpep_pickup_datetime=datetime.datetime(2020, 1, 29, 14, 32), PULocationID=97, total_amount=7.3),\n",
       " Row(lpep_pickup_datetime=datetime.datetime(2020, 1, 24, 4, 36, 44), PULocationID=7, total_amount=42.75)]"
      ]
     },
     "execution_count": 9,
     "metadata": {},
     "output_type": "execute_result"
    }
   ],
   "source": [
    "rdd.take(2)"
   ]
  },
  {
   "cell_type": "markdown",
   "id": "6098daa6-3a76-4718-bf88-ca2f77c44278",
   "metadata": {},
   "source": [
    "## Implementing Filter"
   ]
  },
  {
   "cell_type": "code",
   "execution_count": 10,
   "id": "52b464d4-fc12-4ca6-8561-6e60dc6a7ba3",
   "metadata": {},
   "outputs": [],
   "source": [
    "from datetime import datetime"
   ]
  },
  {
   "cell_type": "code",
   "execution_count": 11,
   "id": "08c1c44e-474c-4112-9781-9e03fc2f9081",
   "metadata": {},
   "outputs": [],
   "source": [
    "start = datetime(year=2020, month=1, day=1)\n",
    "\n",
    "def filter_outliers(row):\n",
    "    return row.lpep_pickup_datetime >= start"
   ]
  },
  {
   "cell_type": "code",
   "execution_count": 12,
   "id": "e9c6460e-2003-4dd7-830c-8c82b45f6853",
   "metadata": {},
   "outputs": [
    {
     "data": {
      "text/plain": [
       "[Row(lpep_pickup_datetime=datetime.datetime(2020, 1, 29, 14, 32), PULocationID=97, total_amount=7.3),\n",
       " Row(lpep_pickup_datetime=datetime.datetime(2020, 1, 24, 4, 36, 44), PULocationID=7, total_amount=42.75)]"
      ]
     },
     "execution_count": 12,
     "metadata": {},
     "output_type": "execute_result"
    }
   ],
   "source": [
    "rdd.filter(filter_outliers).take(2)"
   ]
  },
  {
   "cell_type": "markdown",
   "id": "a2f0ca0d-91d2-4c89-9fd2-883d2a5434ec",
   "metadata": {},
   "source": [
    "## Group By"
   ]
  },
  {
   "cell_type": "markdown",
   "id": "f3295f2f-dfd2-46e4-be3b-f4163a4bf12a",
   "metadata": {},
   "source": [
    "### Prepare for grouping"
   ]
  },
  {
   "cell_type": "code",
   "execution_count": 13,
   "id": "6360ba69-1834-4ace-b8ff-b4080f3d907d",
   "metadata": {},
   "outputs": [
    {
     "data": {
      "text/plain": [
       "Row(lpep_pickup_datetime=datetime.datetime(2020, 1, 29, 14, 32), PULocationID=97, total_amount=7.3)"
      ]
     },
     "execution_count": 13,
     "metadata": {},
     "output_type": "execute_result"
    }
   ],
   "source": [
    "rows = rdd.take(10)\n",
    "row = rows[0]\n",
    "row"
   ]
  },
  {
   "cell_type": "code",
   "execution_count": 14,
   "id": "15ecd8f5-384c-49a0-ab5c-c54f8d690fe7",
   "metadata": {},
   "outputs": [
    {
     "data": {
      "text/plain": [
       "datetime.datetime(2020, 1, 29, 14, 32)"
      ]
     },
     "execution_count": 14,
     "metadata": {},
     "output_type": "execute_result"
    }
   ],
   "source": [
    "row.lpep_pickup_datetime"
   ]
  },
  {
   "cell_type": "code",
   "execution_count": 15,
   "id": "ba69a479-3c9f-499e-a0bc-1f744e16cf7a",
   "metadata": {},
   "outputs": [
    {
     "data": {
      "text/plain": [
       "datetime.datetime(2020, 1, 29, 14, 0)"
      ]
     },
     "execution_count": 15,
     "metadata": {},
     "output_type": "execute_result"
    }
   ],
   "source": [
    "row.lpep_pickup_datetime.replace(minute=0, second=0, microsecond=0)"
   ]
  },
  {
   "cell_type": "code",
   "execution_count": 16,
   "id": "5e000a07-ae8f-4d31-973e-ae82385b7464",
   "metadata": {},
   "outputs": [],
   "source": [
    "def prepare_for_grouping(row):\n",
    "    hour = row.lpep_pickup_datetime.replace(minute=0, second=0, microsecond=0)\n",
    "    zone = row.PULocationID\n",
    "    key = (hour, zone)\n",
    "\n",
    "    amount = row.total_amount\n",
    "    count = 1\n",
    "    value = (amount, count)\n",
    "\n",
    "    return (key, value)"
   ]
  },
  {
   "cell_type": "code",
   "execution_count": 17,
   "id": "99945b80-0d90-4524-8911-3a022d7ee6b7",
   "metadata": {},
   "outputs": [
    {
     "data": {
      "text/plain": [
       "[((datetime.datetime(2020, 1, 29, 14, 0), 97), (7.3, 1)),\n",
       " ((datetime.datetime(2020, 1, 24, 4, 0), 7), (42.75, 1))]"
      ]
     },
     "execution_count": 17,
     "metadata": {},
     "output_type": "execute_result"
    }
   ],
   "source": [
    "rdd \\\n",
    "    .filter(filter_outliers) \\\n",
    "    .map(prepare_for_grouping) \\\n",
    "    .take(2)"
   ]
  },
  {
   "cell_type": "markdown",
   "id": "2eb5e44e-7f4a-41b6-9da4-dd824b4f934e",
   "metadata": {},
   "source": [
    "### Reduce by key"
   ]
  },
  {
   "cell_type": "code",
   "execution_count": 18,
   "id": "f3e948ff-6095-45e7-af0a-a6bee5fc5f48",
   "metadata": {},
   "outputs": [],
   "source": [
    "def calculate_revenue(left_value, right_value):\n",
    "    l_amount, l_count = left_value\n",
    "    r_amount, r_count = right_value\n",
    "    \n",
    "    return (l_amount+r_amount, l_count+r_count)"
   ]
  },
  {
   "cell_type": "code",
   "execution_count": 19,
   "id": "6b7cbe6d-9099-4ccc-a17b-537bcd77406c",
   "metadata": {},
   "outputs": [
    {
     "name": "stderr",
     "output_type": "stream",
     "text": [
      "                                                                                \r"
     ]
    },
    {
     "data": {
      "text/plain": [
       "[((datetime.datetime(2020, 1, 26, 11, 0), 166), (373.69000000000005, 23)),\n",
       " ((datetime.datetime(2020, 1, 30, 17, 0), 82), (503.90000000000015, 37))]"
      ]
     },
     "execution_count": 19,
     "metadata": {},
     "output_type": "execute_result"
    }
   ],
   "source": [
    "rdd \\\n",
    "    .filter(filter_outliers) \\\n",
    "    .map(prepare_for_grouping) \\\n",
    "    .reduceByKey(calculate_revenue) \\\n",
    "    .take(2)"
   ]
  },
  {
   "cell_type": "markdown",
   "id": "d58c61e1-a846-410d-9326-d22ba5fadfbe",
   "metadata": {},
   "source": [
    "### Unnest/unwrap the tuples"
   ]
  },
  {
   "cell_type": "code",
   "execution_count": 20,
   "id": "2944233d-8352-4f8a-9d61-bc9180d67cdc",
   "metadata": {},
   "outputs": [
    {
     "name": "stderr",
     "output_type": "stream",
     "text": [
      "                                                                                \r"
     ]
    },
    {
     "data": {
      "text/plain": [
       "[(datetime.datetime(2020, 1, 26, 11, 0), 166, 373.69000000000005, 23),\n",
       " (datetime.datetime(2020, 1, 30, 17, 0), 82, 503.90000000000015, 37)]"
      ]
     },
     "execution_count": 20,
     "metadata": {},
     "output_type": "execute_result"
    }
   ],
   "source": [
    "rdd \\\n",
    "    .filter(filter_outliers) \\\n",
    "    .map(prepare_for_grouping) \\\n",
    "    .reduceByKey(calculate_revenue) \\\n",
    "    .map(lambda row: (row[0][0], row[0][1], row[1][0], row[1][1])) \\\n",
    "    .take(2)"
   ]
  },
  {
   "cell_type": "code",
   "execution_count": 21,
   "id": "22818bb7-a654-4527-b521-f38d4def574f",
   "metadata": {},
   "outputs": [
    {
     "name": "stderr",
     "output_type": "stream",
     "text": [
      "                                                                                \r"
     ]
    },
    {
     "data": {
      "text/plain": [
       "[Row(_1=datetime.datetime(2020, 1, 26, 11, 0), _2=166, _3=373.69000000000005, _4=23),\n",
       " Row(_1=datetime.datetime(2020, 1, 30, 17, 0), _2=82, _3=503.90000000000015, _4=37)]"
      ]
     },
     "execution_count": 21,
     "metadata": {},
     "output_type": "execute_result"
    }
   ],
   "source": [
    "rdd \\\n",
    "    .filter(filter_outliers) \\\n",
    "    .map(prepare_for_grouping) \\\n",
    "    .reduceByKey(calculate_revenue) \\\n",
    "    .map(lambda row: (row[0][0], row[0][1], row[1][0], row[1][1])) \\\n",
    "    .toDF() \\\n",
    "    .take(2)"
   ]
  },
  {
   "cell_type": "code",
   "execution_count": 22,
   "id": "8d7bddfe-f968-4f0e-9f96-15bae15a4a52",
   "metadata": {},
   "outputs": [
    {
     "name": "stderr",
     "output_type": "stream",
     "text": [
      "                                                                                \r"
     ]
    },
    {
     "name": "stdout",
     "output_type": "stream",
     "text": [
      "+-------------------+---+------------------+---+\n",
      "|                 _1| _2|                _3| _4|\n",
      "+-------------------+---+------------------+---+\n",
      "|2020-01-26 11:00:00|166|373.69000000000005| 23|\n",
      "|2020-01-30 17:00:00| 82|503.90000000000015| 37|\n",
      "+-------------------+---+------------------+---+\n",
      "only showing top 2 rows\n",
      "\n"
     ]
    }
   ],
   "source": [
    "rdd \\\n",
    "    .filter(filter_outliers) \\\n",
    "    .map(prepare_for_grouping) \\\n",
    "    .reduceByKey(calculate_revenue) \\\n",
    "    .map(lambda row: (row[0][0], row[0][1], row[1][0], row[1][1])) \\\n",
    "    .toDF() \\\n",
    "    .show(2)"
   ]
  },
  {
   "cell_type": "code",
   "execution_count": 23,
   "id": "6467b587-9633-4305-813e-e8d2e3414dad",
   "metadata": {},
   "outputs": [],
   "source": [
    "from collections import namedtuple"
   ]
  },
  {
   "cell_type": "code",
   "execution_count": 24,
   "id": "216a0da9-42ea-4d52-b2bf-1ac6b258e548",
   "metadata": {},
   "outputs": [],
   "source": [
    "RevenueRow = namedtuple('RevenueRow', ['hour', 'zone', 'revenue', 'count'])\n",
    "\n",
    "def unwrap(row):\n",
    "    return RevenueRow(\n",
    "        hour=row[0][0], \n",
    "        zone=row[0][1],\n",
    "        revenue=row[1][0],\n",
    "        count=row[1][1]\n",
    "    )"
   ]
  },
  {
   "cell_type": "code",
   "execution_count": 25,
   "id": "5bb2c902-67de-484f-a097-2fb201b4fada",
   "metadata": {},
   "outputs": [
    {
     "name": "stderr",
     "output_type": "stream",
     "text": [
      "                                                                                \r"
     ]
    }
   ],
   "source": [
    "df_result= rdd \\\n",
    "    .filter(filter_outliers) \\\n",
    "    .map(prepare_for_grouping) \\\n",
    "    .reduceByKey(calculate_revenue) \\\n",
    "    .map(unwrap) \\\n",
    "    .toDF()"
   ]
  },
  {
   "cell_type": "code",
   "execution_count": 26,
   "id": "f4b38d35-98b1-4bdc-89c3-8485d99a97c1",
   "metadata": {},
   "outputs": [
    {
     "name": "stdout",
     "output_type": "stream",
     "text": [
      "+-------------------+----+------------------+-----+\n",
      "|               hour|zone|           revenue|count|\n",
      "+-------------------+----+------------------+-----+\n",
      "|2020-01-26 11:00:00| 166|373.69000000000005|   23|\n",
      "|2020-01-30 17:00:00|  82|503.90000000000015|   37|\n",
      "+-------------------+----+------------------+-----+\n",
      "only showing top 2 rows\n",
      "\n"
     ]
    }
   ],
   "source": [
    "df_result.show(2)"
   ]
  },
  {
   "cell_type": "markdown",
   "id": "f66ec162-0d56-4527-b648-43b84a6b660b",
   "metadata": {},
   "source": [
    "### Set schema"
   ]
  },
  {
   "cell_type": "code",
   "execution_count": 27,
   "id": "8113fd88-9f05-49f6-bb9f-0378f9a2f735",
   "metadata": {},
   "outputs": [
    {
     "data": {
      "text/plain": [
       "StructType([StructField('hour', TimestampType(), True), StructField('zone', LongType(), True), StructField('revenue', DoubleType(), True), StructField('count', LongType(), True)])"
      ]
     },
     "execution_count": 27,
     "metadata": {},
     "output_type": "execute_result"
    }
   ],
   "source": [
    "df_result.schema"
   ]
  },
  {
   "cell_type": "code",
   "execution_count": 28,
   "id": "e1ac5454-aa21-4e2c-897d-ec61cfa0b0cb",
   "metadata": {},
   "outputs": [],
   "source": [
    "from pyspark.sql import types"
   ]
  },
  {
   "cell_type": "code",
   "execution_count": 29,
   "id": "1e7ce3c9-4564-4d22-8fd9-f92f2b8a6e0b",
   "metadata": {},
   "outputs": [],
   "source": [
    "result_schema = types.StructType([\n",
    "    types.StructField('hour', types.TimestampType(), True),\n",
    "    types.StructField('zone', types.IntegerType(), True),\n",
    "    types.StructField('revenue', types.DoubleType(), True),\n",
    "    types.StructField('count', types.IntegerType(), True)\n",
    "])"
   ]
  },
  {
   "cell_type": "code",
   "execution_count": 30,
   "id": "fb4e002b-43fe-4bbb-ad78-3293adb4111d",
   "metadata": {},
   "outputs": [],
   "source": [
    "df_result = rdd \\\n",
    "    .filter(filter_outliers) \\\n",
    "    .map(prepare_for_grouping) \\\n",
    "    .reduceByKey(calculate_revenue) \\\n",
    "    .map(unwrap) \\\n",
    "    .toDF(result_schema) "
   ]
  },
  {
   "cell_type": "code",
   "execution_count": 32,
   "id": "e9671725-71e4-467d-ad1a-e242d4fea428",
   "metadata": {},
   "outputs": [
    {
     "name": "stderr",
     "output_type": "stream",
     "text": [
      "[Stage 24:>                                                       (0 + 12) / 12]\r"
     ]
    },
    {
     "name": "stdout",
     "output_type": "stream",
     "text": [
      "24/03/03 00:42:28 WARN MemoryManager: Total allocation exceeds 95.00% (1,020,054,720 bytes) of heap memory\n",
      "Scaling row group sizes to 95.00% for 8 writers\n",
      "24/03/03 00:42:28 WARN MemoryManager: Total allocation exceeds 95.00% (1,020,054,720 bytes) of heap memory\n",
      "Scaling row group sizes to 84.44% for 9 writers\n",
      "24/03/03 00:42:28 WARN MemoryManager: Total allocation exceeds 95.00% (1,020,054,720 bytes) of heap memory\n",
      "Scaling row group sizes to 76.00% for 10 writers\n",
      "24/03/03 00:42:28 WARN MemoryManager: Total allocation exceeds 95.00% (1,020,054,720 bytes) of heap memory\n",
      "Scaling row group sizes to 69.09% for 11 writers\n",
      "24/03/03 00:42:28 WARN MemoryManager: Total allocation exceeds 95.00% (1,020,054,720 bytes) of heap memory\n",
      "Scaling row group sizes to 63.33% for 12 writers\n",
      "24/03/03 00:42:29 WARN MemoryManager: Total allocation exceeds 95.00% (1,020,054,720 bytes) of heap memory\n",
      "Scaling row group sizes to 69.09% for 11 writers\n",
      "24/03/03 00:42:29 WARN MemoryManager: Total allocation exceeds 95.00% (1,020,054,720 bytes) of heap memory\n",
      "Scaling row group sizes to 76.00% for 10 writers\n",
      "24/03/03 00:42:29 WARN MemoryManager: Total allocation exceeds 95.00% (1,020,054,720 bytes) of heap memory\n",
      "Scaling row group sizes to 84.44% for 9 writers\n",
      "24/03/03 00:42:29 WARN MemoryManager: Total allocation exceeds 95.00% (1,020,054,720 bytes) of heap memory\n",
      "Scaling row group sizes to 95.00% for 8 writers\n"
     ]
    },
    {
     "name": "stderr",
     "output_type": "stream",
     "text": [
      "                                                                                \r"
     ]
    }
   ],
   "source": [
    "df_result.write.parquet('tmp/green-revenue', mode='overwrite')"
   ]
  },
  {
   "cell_type": "markdown",
   "id": "d3ee1ebb-2f95-4e6b-ae13-a3ee23b0f5f3",
   "metadata": {},
   "source": [
    "## Map Partition"
   ]
  },
  {
   "cell_type": "code",
   "execution_count": 45,
   "id": "a90c65b7-33a5-4a10-b659-f13e43cff7a1",
   "metadata": {},
   "outputs": [],
   "source": [
    "import pandas as pd"
   ]
  },
  {
   "cell_type": "code",
   "execution_count": 46,
   "id": "ad191b56-51b0-4f35-bd92-33f37a2334de",
   "metadata": {},
   "outputs": [],
   "source": [
    "columns = ['VendorID', 'lpep_pickup_datetime', 'PULocationID', 'DOLocationID', 'trip_distance']\n",
    "\n",
    "duration_rdd = df_green \\\n",
    "    .select(columns) \\\n",
    "    .rdd"
   ]
  },
  {
   "cell_type": "code",
   "execution_count": 53,
   "id": "6a99daf2-7390-436d-8cf7-b5826ce7cc45",
   "metadata": {},
   "outputs": [],
   "source": [
    "df = pd.DataFrame(rows)"
   ]
  },
  {
   "cell_type": "code",
   "execution_count": 54,
   "id": "4feb3d0d-6fe4-4559-a5c4-17a4a5a8b979",
   "metadata": {},
   "outputs": [
    {
     "data": {
      "text/plain": [
       "<map at 0x7f7a78370160>"
      ]
     },
     "execution_count": 54,
     "metadata": {},
     "output_type": "execute_result"
    }
   ],
   "source": [
    "df.itertuples()"
   ]
  },
  {
   "cell_type": "code",
   "execution_count": 55,
   "id": "87163187-1c63-4c82-9d12-65980cf6523c",
   "metadata": {},
   "outputs": [
    {
     "data": {
      "text/plain": [
       "[Pandas(Index=0, _1=Timestamp('2020-01-29 14:32:00'), _2=97, _3=7.3),\n",
       " Pandas(Index=1, _1=Timestamp('2020-01-24 04:36:44'), _2=7, _3=42.75),\n",
       " Pandas(Index=2, _1=Timestamp('2020-01-23 13:52:00'), _2=43, _3=8.3),\n",
       " Pandas(Index=3, _1=Timestamp('2020-01-26 22:18:03'), _2=260, _3=6.8),\n",
       " Pandas(Index=4, _1=Timestamp('2020-01-04 16:00:00'), _2=177, _3=19.78),\n",
       " Pandas(Index=5, _1=Timestamp('2020-01-21 23:02:04'), _2=24, _3=10.56),\n",
       " Pandas(Index=6, _1=Timestamp('2020-01-25 19:09:59'), _2=82, _3=15.3),\n",
       " Pandas(Index=7, _1=Timestamp('2020-01-24 21:30:37'), _2=260, _3=7.8),\n",
       " Pandas(Index=8, _1=Timestamp('2020-01-03 11:37:21'), _2=130, _3=4.3),\n",
       " Pandas(Index=9, _1=Timestamp('2020-01-09 07:06:00'), _2=218, _3=12.4)]"
      ]
     },
     "execution_count": 55,
     "metadata": {},
     "output_type": "execute_result"
    }
   ],
   "source": [
    "list(df.itertuples())"
   ]
  },
  {
   "cell_type": "code",
   "execution_count": 57,
   "id": "c3775040-646f-4b94-b84c-472e397dd2ef",
   "metadata": {},
   "outputs": [
    {
     "data": {
      "text/plain": [
       "[Pandas(Index=0, lpep_pickup_datetime=Timestamp('2020-01-29 14:32:00'), PULocationID=97, total_amount=7.3),\n",
       " Pandas(Index=1, lpep_pickup_datetime=Timestamp('2020-01-24 04:36:44'), PULocationID=7, total_amount=42.75),\n",
       " Pandas(Index=2, lpep_pickup_datetime=Timestamp('2020-01-23 13:52:00'), PULocationID=43, total_amount=8.3),\n",
       " Pandas(Index=3, lpep_pickup_datetime=Timestamp('2020-01-26 22:18:03'), PULocationID=260, total_amount=6.8),\n",
       " Pandas(Index=4, lpep_pickup_datetime=Timestamp('2020-01-04 16:00:00'), PULocationID=177, total_amount=19.78),\n",
       " Pandas(Index=5, lpep_pickup_datetime=Timestamp('2020-01-21 23:02:04'), PULocationID=24, total_amount=10.56),\n",
       " Pandas(Index=6, lpep_pickup_datetime=Timestamp('2020-01-25 19:09:59'), PULocationID=82, total_amount=15.3),\n",
       " Pandas(Index=7, lpep_pickup_datetime=Timestamp('2020-01-24 21:30:37'), PULocationID=260, total_amount=7.8),\n",
       " Pandas(Index=8, lpep_pickup_datetime=Timestamp('2020-01-03 11:37:21'), PULocationID=130, total_amount=4.3),\n",
       " Pandas(Index=9, lpep_pickup_datetime=Timestamp('2020-01-09 07:06:00'), PULocationID=218, total_amount=12.4)]"
      ]
     },
     "execution_count": 57,
     "metadata": {},
     "output_type": "execute_result"
    }
   ],
   "source": [
    "df = pd.DataFrame(rows, columns=['lpep_pickup_datetime', 'PULocationID', 'total_amount'])\n",
    "\n",
    "list(df.itertuples())"
   ]
  },
  {
   "cell_type": "code",
   "execution_count": 49,
   "id": "782f7d8c-b0b4-4ee6-8949-acb4c6c3da7a",
   "metadata": {},
   "outputs": [],
   "source": [
    "def model_predict(df):\n",
    "#     y_pred = model.predict(df)\n",
    "    y_pred = df.trip_distance * 5\n",
    "    return y_pred"
   ]
  },
  {
   "cell_type": "code",
   "execution_count": 50,
   "id": "23becd04-52a4-43dc-ac1f-4f905af7d8ef",
   "metadata": {},
   "outputs": [],
   "source": [
    "def apply_model_in_batch(rows):\n",
    "    df = pd.DataFrame(rows, columns=columns)\n",
    "    predictions = model_predict(df)\n",
    "    df['predicted_duration'] = predictions\n",
    "\n",
    "    for row in df.itertuples():\n",
    "        yield row"
   ]
  },
  {
   "cell_type": "code",
   "execution_count": 51,
   "id": "ea2dc7c3-a7b1-442a-9435-5ff22b678d7d",
   "metadata": {},
   "outputs": [
    {
     "name": "stderr",
     "output_type": "stream",
     "text": [
      "                                                                                \r"
     ]
    },
    {
     "data": {
      "text/plain": [
       "[Pandas(Index=0, VendorID=2.0, lpep_pickup_datetime=Timestamp('2020-01-29 14:32:00'), PULocationID=97, DOLocationID=97, trip_distance=0.81, predicted_duration=4.050000000000001),\n",
       " Pandas(Index=1, VendorID=2.0, lpep_pickup_datetime=Timestamp('2020-01-24 04:36:44'), PULocationID=7, DOLocationID=141, trip_distance=3.02, predicted_duration=15.1),\n",
       " Pandas(Index=2, VendorID=2.0, lpep_pickup_datetime=Timestamp('2020-01-23 13:52:00'), PULocationID=43, DOLocationID=24, trip_distance=1.32, predicted_duration=6.6000000000000005),\n",
       " Pandas(Index=3, VendorID=2.0, lpep_pickup_datetime=Timestamp('2020-01-26 22:18:03'), PULocationID=260, DOLocationID=260, trip_distance=0.89, predicted_duration=4.45),\n",
       " Pandas(Index=4, VendorID=nan, lpep_pickup_datetime=Timestamp('2020-01-04 16:00:00'), PULocationID=177, DOLocationID=49, trip_distance=2.83, predicted_duration=14.15),\n",
       " Pandas(Index=5, VendorID=2.0, lpep_pickup_datetime=Timestamp('2020-01-21 23:02:04'), PULocationID=24, DOLocationID=41, trip_distance=1.33, predicted_duration=6.65),\n",
       " Pandas(Index=6, VendorID=2.0, lpep_pickup_datetime=Timestamp('2020-01-25 19:09:59'), PULocationID=82, DOLocationID=145, trip_distance=3.41, predicted_duration=17.05),\n",
       " Pandas(Index=7, VendorID=1.0, lpep_pickup_datetime=Timestamp('2020-01-24 21:30:37'), PULocationID=260, DOLocationID=7, trip_distance=1.5, predicted_duration=7.5),\n",
       " Pandas(Index=8, VendorID=2.0, lpep_pickup_datetime=Timestamp('2020-01-03 11:37:21'), PULocationID=130, DOLocationID=130, trip_distance=0.2, predicted_duration=1.0),\n",
       " Pandas(Index=9, VendorID=nan, lpep_pickup_datetime=Timestamp('2020-01-09 07:06:00'), PULocationID=218, DOLocationID=38, trip_distance=2.47, predicted_duration=12.350000000000001),\n",
       " Pandas(Index=10, VendorID=2.0, lpep_pickup_datetime=Timestamp('2020-01-18 18:53:01'), PULocationID=188, DOLocationID=122, trip_distance=19.52, predicted_duration=97.6),\n",
       " Pandas(Index=11, VendorID=2.0, lpep_pickup_datetime=Timestamp('2020-01-26 12:38:13'), PULocationID=74, DOLocationID=75, trip_distance=0.52, predicted_duration=2.6),\n",
       " Pandas(Index=12, VendorID=2.0, lpep_pickup_datetime=Timestamp('2020-01-07 13:47:16'), PULocationID=150, DOLocationID=14, trip_distance=8.18, predicted_duration=40.9),\n",
       " Pandas(Index=13, VendorID=nan, lpep_pickup_datetime=Timestamp('2020-01-20 16:23:00'), PULocationID=89, DOLocationID=178, trip_distance=2.95, predicted_duration=14.75),\n",
       " Pandas(Index=14, VendorID=2.0, lpep_pickup_datetime=Timestamp('2020-01-13 20:47:41'), PULocationID=130, DOLocationID=28, trip_distance=1.58, predicted_duration=7.9),\n",
       " Pandas(Index=15, VendorID=2.0, lpep_pickup_datetime=Timestamp('2020-01-17 18:35:06'), PULocationID=181, DOLocationID=49, trip_distance=0.86, predicted_duration=4.3),\n",
       " Pandas(Index=16, VendorID=2.0, lpep_pickup_datetime=Timestamp('2020-01-09 13:40:51'), PULocationID=244, DOLocationID=74, trip_distance=15.84, predicted_duration=79.2),\n",
       " Pandas(Index=17, VendorID=2.0, lpep_pickup_datetime=Timestamp('2020-01-28 17:10:16'), PULocationID=74, DOLocationID=42, trip_distance=1.31, predicted_duration=6.550000000000001),\n",
       " Pandas(Index=18, VendorID=2.0, lpep_pickup_datetime=Timestamp('2020-01-26 11:18:44'), PULocationID=166, DOLocationID=41, trip_distance=0.72, predicted_duration=3.5999999999999996),\n",
       " Pandas(Index=19, VendorID=nan, lpep_pickup_datetime=Timestamp('2020-01-08 11:43:00'), PULocationID=179, DOLocationID=7, trip_distance=1.1, predicted_duration=5.5),\n",
       " Pandas(Index=20, VendorID=1.0, lpep_pickup_datetime=Timestamp('2020-01-17 07:01:59'), PULocationID=191, DOLocationID=196, trip_distance=0.0, predicted_duration=0.0),\n",
       " Pandas(Index=21, VendorID=nan, lpep_pickup_datetime=Timestamp('2020-01-03 15:07:00'), PULocationID=198, DOLocationID=11, trip_distance=15.8, predicted_duration=79.0),\n",
       " Pandas(Index=22, VendorID=2.0, lpep_pickup_datetime=Timestamp('2020-01-13 09:43:30'), PULocationID=260, DOLocationID=260, trip_distance=0.34, predicted_duration=1.7000000000000002),\n",
       " Pandas(Index=23, VendorID=1.0, lpep_pickup_datetime=Timestamp('2020-01-26 11:16:26'), PULocationID=129, DOLocationID=98, trip_distance=6.0, predicted_duration=30.0),\n",
       " Pandas(Index=24, VendorID=2.0, lpep_pickup_datetime=Timestamp('2020-01-27 09:17:08'), PULocationID=41, DOLocationID=41, trip_distance=0.37, predicted_duration=1.85),\n",
       " Pandas(Index=25, VendorID=2.0, lpep_pickup_datetime=Timestamp('2020-01-05 03:43:56'), PULocationID=225, DOLocationID=17, trip_distance=0.8, predicted_duration=4.0),\n",
       " Pandas(Index=26, VendorID=2.0, lpep_pickup_datetime=Timestamp('2020-01-24 17:20:15'), PULocationID=74, DOLocationID=141, trip_distance=3.23, predicted_duration=16.15),\n",
       " Pandas(Index=27, VendorID=1.0, lpep_pickup_datetime=Timestamp('2020-01-03 01:17:16'), PULocationID=42, DOLocationID=74, trip_distance=1.0, predicted_duration=5.0),\n",
       " Pandas(Index=28, VendorID=nan, lpep_pickup_datetime=Timestamp('2020-01-22 22:34:00'), PULocationID=51, DOLocationID=233, trip_distance=14.47, predicted_duration=72.35000000000001),\n",
       " Pandas(Index=29, VendorID=2.0, lpep_pickup_datetime=Timestamp('2020-01-25 20:39:35'), PULocationID=181, DOLocationID=61, trip_distance=1.95, predicted_duration=9.75),\n",
       " Pandas(Index=30, VendorID=2.0, lpep_pickup_datetime=Timestamp('2020-01-31 15:51:24'), PULocationID=166, DOLocationID=74, trip_distance=1.56, predicted_duration=7.800000000000001),\n",
       " Pandas(Index=31, VendorID=2.0, lpep_pickup_datetime=Timestamp('2020-01-14 18:14:48'), PULocationID=43, DOLocationID=75, trip_distance=1.2, predicted_duration=6.0),\n",
       " Pandas(Index=32, VendorID=nan, lpep_pickup_datetime=Timestamp('2020-01-29 10:56:00'), PULocationID=89, DOLocationID=76, trip_distance=3.56, predicted_duration=17.8),\n",
       " Pandas(Index=33, VendorID=2.0, lpep_pickup_datetime=Timestamp('2020-01-17 23:11:05'), PULocationID=25, DOLocationID=49, trip_distance=1.41, predicted_duration=7.05),\n",
       " Pandas(Index=34, VendorID=2.0, lpep_pickup_datetime=Timestamp('2020-01-23 17:35:25'), PULocationID=74, DOLocationID=74, trip_distance=1.98, predicted_duration=9.9),\n",
       " Pandas(Index=35, VendorID=nan, lpep_pickup_datetime=Timestamp('2020-01-06 08:57:00'), PULocationID=166, DOLocationID=75, trip_distance=1.39, predicted_duration=6.949999999999999),\n",
       " Pandas(Index=36, VendorID=nan, lpep_pickup_datetime=Timestamp('2020-01-09 09:03:00'), PULocationID=7, DOLocationID=193, trip_distance=1.08, predicted_duration=5.4),\n",
       " Pandas(Index=37, VendorID=2.0, lpep_pickup_datetime=Timestamp('2020-01-08 18:02:14'), PULocationID=83, DOLocationID=129, trip_distance=1.38, predicted_duration=6.8999999999999995),\n",
       " Pandas(Index=38, VendorID=2.0, lpep_pickup_datetime=Timestamp('2020-01-09 14:23:02'), PULocationID=82, DOLocationID=7, trip_distance=3.48, predicted_duration=17.4),\n",
       " Pandas(Index=39, VendorID=2.0, lpep_pickup_datetime=Timestamp('2020-01-09 19:27:16'), PULocationID=41, DOLocationID=42, trip_distance=0.85, predicted_duration=4.25),\n",
       " Pandas(Index=40, VendorID=2.0, lpep_pickup_datetime=Timestamp('2020-01-14 12:00:10'), PULocationID=244, DOLocationID=162, trip_distance=9.41, predicted_duration=47.05),\n",
       " Pandas(Index=41, VendorID=2.0, lpep_pickup_datetime=Timestamp('2020-01-11 14:09:16'), PULocationID=42, DOLocationID=42, trip_distance=1.11, predicted_duration=5.550000000000001),\n",
       " Pandas(Index=42, VendorID=2.0, lpep_pickup_datetime=Timestamp('2020-01-17 19:19:11'), PULocationID=41, DOLocationID=75, trip_distance=1.08, predicted_duration=5.4),\n",
       " Pandas(Index=43, VendorID=2.0, lpep_pickup_datetime=Timestamp('2020-01-06 13:21:07'), PULocationID=25, DOLocationID=236, trip_distance=9.72, predicted_duration=48.6),\n",
       " Pandas(Index=44, VendorID=1.0, lpep_pickup_datetime=Timestamp('2020-01-12 12:04:31'), PULocationID=85, DOLocationID=215, trip_distance=0.0, predicted_duration=0.0),\n",
       " Pandas(Index=45, VendorID=nan, lpep_pickup_datetime=Timestamp('2020-01-07 13:55:00'), PULocationID=33, DOLocationID=189, trip_distance=2.57, predicted_duration=12.85),\n",
       " Pandas(Index=46, VendorID=2.0, lpep_pickup_datetime=Timestamp('2020-01-22 18:26:44'), PULocationID=43, DOLocationID=232, trip_distance=6.72, predicted_duration=33.6),\n",
       " Pandas(Index=47, VendorID=2.0, lpep_pickup_datetime=Timestamp('2020-01-22 10:00:59'), PULocationID=74, DOLocationID=75, trip_distance=1.68, predicted_duration=8.4),\n",
       " Pandas(Index=48, VendorID=2.0, lpep_pickup_datetime=Timestamp('2020-01-28 19:48:44'), PULocationID=223, DOLocationID=223, trip_distance=0.9, predicted_duration=4.5),\n",
       " Pandas(Index=49, VendorID=2.0, lpep_pickup_datetime=Timestamp('2020-01-24 20:45:15'), PULocationID=7, DOLocationID=260, trip_distance=0.99, predicted_duration=4.95),\n",
       " Pandas(Index=50, VendorID=nan, lpep_pickup_datetime=Timestamp('2020-01-30 08:34:00'), PULocationID=235, DOLocationID=242, trip_distance=3.34, predicted_duration=16.7),\n",
       " Pandas(Index=51, VendorID=nan, lpep_pickup_datetime=Timestamp('2020-01-16 18:26:00'), PULocationID=242, DOLocationID=201, trip_distance=22.19, predicted_duration=110.95),\n",
       " Pandas(Index=52, VendorID=nan, lpep_pickup_datetime=Timestamp('2020-01-04 08:43:00'), PULocationID=210, DOLocationID=149, trip_distance=2.11, predicted_duration=10.549999999999999),\n",
       " Pandas(Index=53, VendorID=2.0, lpep_pickup_datetime=Timestamp('2020-01-23 19:18:53'), PULocationID=66, DOLocationID=25, trip_distance=1.15, predicted_duration=5.75),\n",
       " Pandas(Index=54, VendorID=2.0, lpep_pickup_datetime=Timestamp('2020-01-10 06:42:15'), PULocationID=74, DOLocationID=263, trip_distance=1.5, predicted_duration=7.5),\n",
       " Pandas(Index=55, VendorID=2.0, lpep_pickup_datetime=Timestamp('2020-01-30 17:32:28'), PULocationID=82, DOLocationID=56, trip_distance=0.93, predicted_duration=4.65),\n",
       " Pandas(Index=56, VendorID=nan, lpep_pickup_datetime=Timestamp('2020-01-05 19:26:00'), PULocationID=86, DOLocationID=219, trip_distance=6.65, predicted_duration=33.25),\n",
       " Pandas(Index=57, VendorID=2.0, lpep_pickup_datetime=Timestamp('2020-01-31 07:58:29'), PULocationID=185, DOLocationID=60, trip_distance=2.55, predicted_duration=12.75),\n",
       " Pandas(Index=58, VendorID=2.0, lpep_pickup_datetime=Timestamp('2020-01-02 18:27:15'), PULocationID=244, DOLocationID=186, trip_distance=7.98, predicted_duration=39.900000000000006),\n",
       " Pandas(Index=59, VendorID=2.0, lpep_pickup_datetime=Timestamp('2020-01-02 11:07:40'), PULocationID=33, DOLocationID=40, trip_distance=0.76, predicted_duration=3.8),\n",
       " Pandas(Index=60, VendorID=nan, lpep_pickup_datetime=Timestamp('2020-01-28 17:07:00'), PULocationID=243, DOLocationID=153, trip_distance=5.02, predicted_duration=25.099999999999998),\n",
       " Pandas(Index=61, VendorID=2.0, lpep_pickup_datetime=Timestamp('2020-01-01 11:54:32'), PULocationID=112, DOLocationID=255, trip_distance=0.56, predicted_duration=2.8000000000000003),\n",
       " Pandas(Index=62, VendorID=nan, lpep_pickup_datetime=Timestamp('2020-01-03 13:58:00'), PULocationID=242, DOLocationID=259, trip_distance=4.42, predicted_duration=22.1),\n",
       " Pandas(Index=63, VendorID=2.0, lpep_pickup_datetime=Timestamp('2020-01-23 17:35:02'), PULocationID=130, DOLocationID=95, trip_distance=3.11, predicted_duration=15.549999999999999),\n",
       " Pandas(Index=64, VendorID=2.0, lpep_pickup_datetime=Timestamp('2020-01-03 07:39:48'), PULocationID=74, DOLocationID=42, trip_distance=1.4, predicted_duration=7.0),\n",
       " Pandas(Index=65, VendorID=2.0, lpep_pickup_datetime=Timestamp('2020-01-09 08:57:44'), PULocationID=193, DOLocationID=193, trip_distance=0.0, predicted_duration=0.0),\n",
       " Pandas(Index=66, VendorID=2.0, lpep_pickup_datetime=Timestamp('2020-01-16 19:05:18'), PULocationID=166, DOLocationID=232, trip_distance=8.46, predicted_duration=42.300000000000004),\n",
       " Pandas(Index=67, VendorID=2.0, lpep_pickup_datetime=Timestamp('2020-01-07 08:31:13'), PULocationID=75, DOLocationID=88, trip_distance=8.63, predicted_duration=43.150000000000006),\n",
       " Pandas(Index=68, VendorID=nan, lpep_pickup_datetime=Timestamp('2020-01-10 18:05:00'), PULocationID=188, DOLocationID=210, trip_distance=4.62, predicted_duration=23.1),\n",
       " Pandas(Index=69, VendorID=2.0, lpep_pickup_datetime=Timestamp('2020-01-16 11:54:45'), PULocationID=52, DOLocationID=33, trip_distance=0.52, predicted_duration=2.6),\n",
       " Pandas(Index=70, VendorID=2.0, lpep_pickup_datetime=Timestamp('2020-01-17 07:37:09'), PULocationID=22, DOLocationID=108, trip_distance=1.23, predicted_duration=6.15),\n",
       " Pandas(Index=71, VendorID=2.0, lpep_pickup_datetime=Timestamp('2020-01-04 20:18:44'), PULocationID=166, DOLocationID=74, trip_distance=1.24, predicted_duration=6.2),\n",
       " Pandas(Index=72, VendorID=2.0, lpep_pickup_datetime=Timestamp('2020-01-07 15:26:49'), PULocationID=33, DOLocationID=237, trip_distance=8.11, predicted_duration=40.55),\n",
       " Pandas(Index=73, VendorID=2.0, lpep_pickup_datetime=Timestamp('2020-01-02 17:16:13'), PULocationID=145, DOLocationID=112, trip_distance=2.14, predicted_duration=10.700000000000001),\n",
       " Pandas(Index=74, VendorID=1.0, lpep_pickup_datetime=Timestamp('2020-01-16 12:18:40'), PULocationID=166, DOLocationID=239, trip_distance=1.6, predicted_duration=8.0),\n",
       " Pandas(Index=75, VendorID=2.0, lpep_pickup_datetime=Timestamp('2020-01-29 10:13:19'), PULocationID=33, DOLocationID=211, trip_distance=3.02, predicted_duration=15.1),\n",
       " Pandas(Index=76, VendorID=2.0, lpep_pickup_datetime=Timestamp('2020-01-17 12:01:24'), PULocationID=42, DOLocationID=141, trip_distance=4.08, predicted_duration=20.4),\n",
       " Pandas(Index=77, VendorID=2.0, lpep_pickup_datetime=Timestamp('2020-01-28 11:34:42'), PULocationID=75, DOLocationID=75, trip_distance=0.74, predicted_duration=3.7),\n",
       " Pandas(Index=78, VendorID=nan, lpep_pickup_datetime=Timestamp('2020-01-08 15:48:00'), PULocationID=123, DOLocationID=61, trip_distance=6.83, predicted_duration=34.15),\n",
       " Pandas(Index=79, VendorID=2.0, lpep_pickup_datetime=Timestamp('2020-01-23 08:17:01'), PULocationID=116, DOLocationID=152, trip_distance=0.45, predicted_duration=2.25),\n",
       " Pandas(Index=80, VendorID=2.0, lpep_pickup_datetime=Timestamp('2020-01-18 11:17:12'), PULocationID=74, DOLocationID=119, trip_distance=3.44, predicted_duration=17.2),\n",
       " Pandas(Index=81, VendorID=2.0, lpep_pickup_datetime=Timestamp('2020-01-29 19:50:48'), PULocationID=33, DOLocationID=52, trip_distance=0.85, predicted_duration=4.25),\n",
       " Pandas(Index=82, VendorID=2.0, lpep_pickup_datetime=Timestamp('2020-01-31 17:56:24'), PULocationID=82, DOLocationID=138, trip_distance=3.91, predicted_duration=19.55),\n",
       " Pandas(Index=83, VendorID=2.0, lpep_pickup_datetime=Timestamp('2020-01-05 18:11:06'), PULocationID=166, DOLocationID=166, trip_distance=0.72, predicted_duration=3.5999999999999996),\n",
       " Pandas(Index=84, VendorID=nan, lpep_pickup_datetime=Timestamp('2020-01-03 10:12:00'), PULocationID=95, DOLocationID=85, trip_distance=10.8, predicted_duration=54.0),\n",
       " Pandas(Index=85, VendorID=2.0, lpep_pickup_datetime=Timestamp('2020-01-26 14:10:27'), PULocationID=33, DOLocationID=228, trip_distance=3.87, predicted_duration=19.35),\n",
       " Pandas(Index=86, VendorID=2.0, lpep_pickup_datetime=Timestamp('2020-01-04 15:58:47'), PULocationID=97, DOLocationID=61, trip_distance=1.32, predicted_duration=6.6000000000000005),\n",
       " Pandas(Index=87, VendorID=2.0, lpep_pickup_datetime=Timestamp('2020-01-21 10:35:11'), PULocationID=244, DOLocationID=247, trip_distance=2.42, predicted_duration=12.1),\n",
       " Pandas(Index=88, VendorID=2.0, lpep_pickup_datetime=Timestamp('2020-01-07 18:41:57'), PULocationID=223, DOLocationID=223, trip_distance=0.96, predicted_duration=4.8),\n",
       " Pandas(Index=89, VendorID=2.0, lpep_pickup_datetime=Timestamp('2020-01-21 07:46:30'), PULocationID=41, DOLocationID=75, trip_distance=0.68, predicted_duration=3.4000000000000004),\n",
       " Pandas(Index=90, VendorID=2.0, lpep_pickup_datetime=Timestamp('2020-01-31 12:48:40'), PULocationID=42, DOLocationID=241, trip_distance=5.08, predicted_duration=25.4),\n",
       " Pandas(Index=91, VendorID=2.0, lpep_pickup_datetime=Timestamp('2020-01-11 17:19:38'), PULocationID=49, DOLocationID=189, trip_distance=0.77, predicted_duration=3.85),\n",
       " Pandas(Index=92, VendorID=1.0, lpep_pickup_datetime=Timestamp('2020-01-27 17:27:24'), PULocationID=75, DOLocationID=263, trip_distance=0.7, predicted_duration=3.5),\n",
       " Pandas(Index=93, VendorID=2.0, lpep_pickup_datetime=Timestamp('2020-01-14 07:15:41'), PULocationID=74, DOLocationID=166, trip_distance=1.7, predicted_duration=8.5),\n",
       " Pandas(Index=94, VendorID=1.0, lpep_pickup_datetime=Timestamp('2020-01-30 18:19:17'), PULocationID=242, DOLocationID=51, trip_distance=0.0, predicted_duration=0.0),\n",
       " Pandas(Index=95, VendorID=2.0, lpep_pickup_datetime=Timestamp('2020-01-08 14:54:40'), PULocationID=33, DOLocationID=13, trip_distance=2.67, predicted_duration=13.35),\n",
       " Pandas(Index=96, VendorID=2.0, lpep_pickup_datetime=Timestamp('2020-01-11 21:24:42'), PULocationID=97, DOLocationID=36, trip_distance=3.71, predicted_duration=18.55),\n",
       " Pandas(Index=97, VendorID=2.0, lpep_pickup_datetime=Timestamp('2020-01-28 21:08:13'), PULocationID=166, DOLocationID=238, trip_distance=1.17, predicted_duration=5.85),\n",
       " Pandas(Index=98, VendorID=2.0, lpep_pickup_datetime=Timestamp('2020-01-25 08:45:32'), PULocationID=41, DOLocationID=42, trip_distance=1.37, predicted_duration=6.8500000000000005),\n",
       " Pandas(Index=99, VendorID=2.0, lpep_pickup_datetime=Timestamp('2020-01-20 20:05:50'), PULocationID=181, DOLocationID=62, trip_distance=2.94, predicted_duration=14.7),\n",
       " Pandas(Index=100, VendorID=2.0, lpep_pickup_datetime=Timestamp('2020-01-09 17:15:59'), PULocationID=166, DOLocationID=41, trip_distance=1.8, predicted_duration=9.0),\n",
       " Pandas(Index=101, VendorID=nan, lpep_pickup_datetime=Timestamp('2020-01-03 16:02:00'), PULocationID=197, DOLocationID=7, trip_distance=9.89, predicted_duration=49.45),\n",
       " Pandas(Index=102, VendorID=nan, lpep_pickup_datetime=Timestamp('2020-01-22 08:16:00'), PULocationID=17, DOLocationID=25, trip_distance=3.09, predicted_duration=15.45),\n",
       " Pandas(Index=103, VendorID=2.0, lpep_pickup_datetime=Timestamp('2020-01-11 23:12:23'), PULocationID=55, DOLocationID=159, trip_distance=26.81, predicted_duration=134.04999999999998),\n",
       " Pandas(Index=104, VendorID=2.0, lpep_pickup_datetime=Timestamp('2020-01-08 17:25:49'), PULocationID=18, DOLocationID=69, trip_distance=1.87, predicted_duration=9.350000000000001),\n",
       " Pandas(Index=105, VendorID=2.0, lpep_pickup_datetime=Timestamp('2020-01-09 10:27:33'), PULocationID=166, DOLocationID=238, trip_distance=1.3, predicted_duration=6.5),\n",
       " Pandas(Index=106, VendorID=nan, lpep_pickup_datetime=Timestamp('2020-01-30 07:38:00'), PULocationID=252, DOLocationID=9, trip_distance=6.22, predicted_duration=31.099999999999998),\n",
       " Pandas(Index=107, VendorID=2.0, lpep_pickup_datetime=Timestamp('2020-01-27 07:03:39'), PULocationID=41, DOLocationID=75, trip_distance=1.02, predicted_duration=5.1),\n",
       " Pandas(Index=108, VendorID=nan, lpep_pickup_datetime=Timestamp('2020-01-13 07:33:00'), PULocationID=78, DOLocationID=162, trip_distance=10.67, predicted_duration=53.35),\n",
       " Pandas(Index=109, VendorID=2.0, lpep_pickup_datetime=Timestamp('2020-01-20 15:33:26'), PULocationID=41, DOLocationID=74, trip_distance=0.69, predicted_duration=3.4499999999999997),\n",
       " Pandas(Index=110, VendorID=1.0, lpep_pickup_datetime=Timestamp('2020-01-24 22:37:51'), PULocationID=17, DOLocationID=166, trip_distance=0.0, predicted_duration=0.0),\n",
       " Pandas(Index=111, VendorID=nan, lpep_pickup_datetime=Timestamp('2020-01-26 09:57:00'), PULocationID=226, DOLocationID=130, trip_distance=8.65, predicted_duration=43.25),\n",
       " Pandas(Index=112, VendorID=1.0, lpep_pickup_datetime=Timestamp('2020-01-21 12:30:07'), PULocationID=65, DOLocationID=231, trip_distance=2.4, predicted_duration=12.0),\n",
       " Pandas(Index=113, VendorID=1.0, lpep_pickup_datetime=Timestamp('2020-01-04 10:32:43'), PULocationID=37, DOLocationID=61, trip_distance=1.9, predicted_duration=9.5),\n",
       " Pandas(Index=114, VendorID=2.0, lpep_pickup_datetime=Timestamp('2020-01-26 17:14:38'), PULocationID=116, DOLocationID=243, trip_distance=1.63, predicted_duration=8.149999999999999),\n",
       " Pandas(Index=115, VendorID=2.0, lpep_pickup_datetime=Timestamp('2020-01-25 17:37:47'), PULocationID=42, DOLocationID=116, trip_distance=1.0, predicted_duration=5.0),\n",
       " Pandas(Index=116, VendorID=2.0, lpep_pickup_datetime=Timestamp('2020-01-12 13:06:23'), PULocationID=75, DOLocationID=74, trip_distance=0.52, predicted_duration=2.6),\n",
       " Pandas(Index=117, VendorID=2.0, lpep_pickup_datetime=Timestamp('2020-01-31 17:34:44'), PULocationID=25, DOLocationID=25, trip_distance=0.43, predicted_duration=2.15),\n",
       " Pandas(Index=118, VendorID=2.0, lpep_pickup_datetime=Timestamp('2020-01-23 10:27:03'), PULocationID=25, DOLocationID=144, trip_distance=2.69, predicted_duration=13.45),\n",
       " Pandas(Index=119, VendorID=nan, lpep_pickup_datetime=Timestamp('2020-01-28 11:24:00'), PULocationID=225, DOLocationID=227, trip_distance=7.49, predicted_duration=37.45),\n",
       " Pandas(Index=120, VendorID=2.0, lpep_pickup_datetime=Timestamp('2020-01-21 14:13:04'), PULocationID=74, DOLocationID=75, trip_distance=0.76, predicted_duration=3.8),\n",
       " Pandas(Index=121, VendorID=1.0, lpep_pickup_datetime=Timestamp('2020-01-07 18:17:02'), PULocationID=42, DOLocationID=41, trip_distance=0.6, predicted_duration=3.0),\n",
       " Pandas(Index=122, VendorID=nan, lpep_pickup_datetime=Timestamp('2020-01-14 12:03:00'), PULocationID=140, DOLocationID=155, trip_distance=26.05, predicted_duration=130.25),\n",
       " Pandas(Index=123, VendorID=2.0, lpep_pickup_datetime=Timestamp('2020-01-15 23:51:01'), PULocationID=42, DOLocationID=42, trip_distance=1.8, predicted_duration=9.0),\n",
       " Pandas(Index=124, VendorID=2.0, lpep_pickup_datetime=Timestamp('2020-01-31 13:26:15'), PULocationID=74, DOLocationID=42, trip_distance=0.65, predicted_duration=3.25),\n",
       " Pandas(Index=125, VendorID=2.0, lpep_pickup_datetime=Timestamp('2020-01-16 12:03:29'), PULocationID=43, DOLocationID=236, trip_distance=0.49, predicted_duration=2.45),\n",
       " Pandas(Index=126, VendorID=2.0, lpep_pickup_datetime=Timestamp('2020-01-09 23:24:27'), PULocationID=196, DOLocationID=121, trip_distance=4.94, predicted_duration=24.700000000000003),\n",
       " Pandas(Index=127, VendorID=1.0, lpep_pickup_datetime=Timestamp('2020-01-07 17:44:10'), PULocationID=89, DOLocationID=181, trip_distance=2.9, predicted_duration=14.5),\n",
       " Pandas(Index=128, VendorID=2.0, lpep_pickup_datetime=Timestamp('2020-01-20 21:11:37'), PULocationID=97, DOLocationID=85, trip_distance=3.81, predicted_duration=19.05),\n",
       " Pandas(Index=129, VendorID=2.0, lpep_pickup_datetime=Timestamp('2020-01-03 22:44:59'), PULocationID=7, DOLocationID=223, trip_distance=2.45, predicted_duration=12.25),\n",
       " Pandas(Index=130, VendorID=nan, lpep_pickup_datetime=Timestamp('2020-01-18 18:28:00'), PULocationID=167, DOLocationID=60, trip_distance=0.69, predicted_duration=3.4499999999999997),\n",
       " Pandas(Index=131, VendorID=1.0, lpep_pickup_datetime=Timestamp('2020-01-15 07:10:41'), PULocationID=75, DOLocationID=162, trip_distance=2.8, predicted_duration=14.0),\n",
       " Pandas(Index=132, VendorID=1.0, lpep_pickup_datetime=Timestamp('2020-01-24 20:26:42'), PULocationID=95, DOLocationID=160, trip_distance=2.4, predicted_duration=12.0),\n",
       " Pandas(Index=133, VendorID=2.0, lpep_pickup_datetime=Timestamp('2020-01-24 06:57:46'), PULocationID=116, DOLocationID=24, trip_distance=2.43, predicted_duration=12.15),\n",
       " Pandas(Index=134, VendorID=nan, lpep_pickup_datetime=Timestamp('2020-01-12 10:23:00'), PULocationID=244, DOLocationID=69, trip_distance=2.0, predicted_duration=10.0),\n",
       " Pandas(Index=135, VendorID=2.0, lpep_pickup_datetime=Timestamp('2020-01-23 18:17:02'), PULocationID=166, DOLocationID=239, trip_distance=1.96, predicted_duration=9.8),\n",
       " Pandas(Index=136, VendorID=2.0, lpep_pickup_datetime=Timestamp('2020-01-03 15:21:12'), PULocationID=82, DOLocationID=7, trip_distance=4.51, predicted_duration=22.549999999999997),\n",
       " Pandas(Index=137, VendorID=2.0, lpep_pickup_datetime=Timestamp('2020-01-29 04:36:35'), PULocationID=7, DOLocationID=135, trip_distance=24.88, predicted_duration=124.39999999999999),\n",
       " Pandas(Index=138, VendorID=2.0, lpep_pickup_datetime=Timestamp('2020-01-23 17:47:54'), PULocationID=66, DOLocationID=49, trip_distance=3.03, predicted_duration=15.149999999999999),\n",
       " Pandas(Index=139, VendorID=nan, lpep_pickup_datetime=Timestamp('2020-01-23 07:32:00'), PULocationID=182, DOLocationID=174, trip_distance=4.91, predicted_duration=24.55),\n",
       " Pandas(Index=140, VendorID=nan, lpep_pickup_datetime=Timestamp('2020-01-09 17:38:00'), PULocationID=159, DOLocationID=94, trip_distance=3.91, predicted_duration=19.55),\n",
       " Pandas(Index=141, VendorID=2.0, lpep_pickup_datetime=Timestamp('2020-01-08 18:49:50'), PULocationID=129, DOLocationID=129, trip_distance=1.25, predicted_duration=6.25),\n",
       " Pandas(Index=142, VendorID=nan, lpep_pickup_datetime=Timestamp('2020-01-07 16:56:00'), PULocationID=97, DOLocationID=133, trip_distance=4.65, predicted_duration=23.25),\n",
       " Pandas(Index=143, VendorID=nan, lpep_pickup_datetime=Timestamp('2020-01-28 15:43:00'), PULocationID=75, DOLocationID=179, trip_distance=4.96, predicted_duration=24.8),\n",
       " Pandas(Index=144, VendorID=2.0, lpep_pickup_datetime=Timestamp('2020-01-20 14:12:53'), PULocationID=65, DOLocationID=97, trip_distance=1.59, predicted_duration=7.95),\n",
       " Pandas(Index=145, VendorID=2.0, lpep_pickup_datetime=Timestamp('2020-01-24 23:29:57'), PULocationID=236, DOLocationID=229, trip_distance=2.5, predicted_duration=12.5),\n",
       " Pandas(Index=146, VendorID=1.0, lpep_pickup_datetime=Timestamp('2020-01-21 12:26:53'), PULocationID=74, DOLocationID=75, trip_distance=1.4, predicted_duration=7.0),\n",
       " Pandas(Index=147, VendorID=nan, lpep_pickup_datetime=Timestamp('2020-01-23 10:33:00'), PULocationID=61, DOLocationID=155, trip_distance=4.57, predicted_duration=22.85),\n",
       " Pandas(Index=148, VendorID=2.0, lpep_pickup_datetime=Timestamp('2020-01-07 07:19:40'), PULocationID=74, DOLocationID=42, trip_distance=0.71, predicted_duration=3.55),\n",
       " Pandas(Index=149, VendorID=2.0, lpep_pickup_datetime=Timestamp('2020-01-10 20:43:47'), PULocationID=74, DOLocationID=166, trip_distance=1.66, predicted_duration=8.299999999999999),\n",
       " Pandas(Index=150, VendorID=1.0, lpep_pickup_datetime=Timestamp('2020-01-14 11:47:40'), PULocationID=66, DOLocationID=230, trip_distance=7.3, predicted_duration=36.5),\n",
       " Pandas(Index=151, VendorID=1.0, lpep_pickup_datetime=Timestamp('2020-01-25 19:21:47'), PULocationID=173, DOLocationID=173, trip_distance=0.6, predicted_duration=3.0),\n",
       " Pandas(Index=152, VendorID=nan, lpep_pickup_datetime=Timestamp('2020-01-07 21:17:00'), PULocationID=89, DOLocationID=33, trip_distance=4.35, predicted_duration=21.75),\n",
       " Pandas(Index=153, VendorID=2.0, lpep_pickup_datetime=Timestamp('2020-01-07 13:44:43'), PULocationID=92, DOLocationID=151, trip_distance=12.2, predicted_duration=61.0),\n",
       " Pandas(Index=154, VendorID=2.0, lpep_pickup_datetime=Timestamp('2020-01-20 14:26:49'), PULocationID=166, DOLocationID=41, trip_distance=1.07, predicted_duration=5.3500000000000005),\n",
       " Pandas(Index=155, VendorID=nan, lpep_pickup_datetime=Timestamp('2020-01-08 17:19:00'), PULocationID=140, DOLocationID=75, trip_distance=1.87, predicted_duration=9.350000000000001),\n",
       " Pandas(Index=156, VendorID=1.0, lpep_pickup_datetime=Timestamp('2020-01-17 01:12:49'), PULocationID=74, DOLocationID=41, trip_distance=1.0, predicted_duration=5.0),\n",
       " Pandas(Index=157, VendorID=2.0, lpep_pickup_datetime=Timestamp('2020-01-16 12:37:09'), PULocationID=74, DOLocationID=236, trip_distance=2.13, predicted_duration=10.649999999999999),\n",
       " Pandas(Index=158, VendorID=nan, lpep_pickup_datetime=Timestamp('2020-01-14 14:58:00'), PULocationID=91, DOLocationID=39, trip_distance=2.69, predicted_duration=13.45),\n",
       " Pandas(Index=159, VendorID=nan, lpep_pickup_datetime=Timestamp('2020-01-10 14:48:00'), PULocationID=170, DOLocationID=188, trip_distance=10.36, predicted_duration=51.8),\n",
       " Pandas(Index=160, VendorID=2.0, lpep_pickup_datetime=Timestamp('2020-01-09 19:03:53'), PULocationID=61, DOLocationID=61, trip_distance=0.65, predicted_duration=3.25),\n",
       " Pandas(Index=161, VendorID=2.0, lpep_pickup_datetime=Timestamp('2020-01-08 09:42:43'), PULocationID=74, DOLocationID=166, trip_distance=1.68, predicted_duration=8.4),\n",
       " Pandas(Index=162, VendorID=2.0, lpep_pickup_datetime=Timestamp('2020-01-03 13:42:40'), PULocationID=97, DOLocationID=25, trip_distance=1.14, predicted_duration=5.699999999999999),\n",
       " Pandas(Index=163, VendorID=2.0, lpep_pickup_datetime=Timestamp('2020-01-22 20:16:45'), PULocationID=65, DOLocationID=97, trip_distance=0.65, predicted_duration=3.25),\n",
       " Pandas(Index=164, VendorID=2.0, lpep_pickup_datetime=Timestamp('2020-01-28 20:38:52'), PULocationID=33, DOLocationID=52, trip_distance=0.79, predicted_duration=3.95),\n",
       " Pandas(Index=165, VendorID=2.0, lpep_pickup_datetime=Timestamp('2020-01-01 01:26:03'), PULocationID=66, DOLocationID=231, trip_distance=2.16, predicted_duration=10.8),\n",
       " Pandas(Index=166, VendorID=nan, lpep_pickup_datetime=Timestamp('2020-01-02 22:48:00'), PULocationID=225, DOLocationID=61, trip_distance=2.26, predicted_duration=11.299999999999999),\n",
       " Pandas(Index=167, VendorID=2.0, lpep_pickup_datetime=Timestamp('2020-01-23 00:11:30'), PULocationID=130, DOLocationID=219, trip_distance=4.86, predicted_duration=24.3),\n",
       " Pandas(Index=168, VendorID=1.0, lpep_pickup_datetime=Timestamp('2020-01-28 16:02:23'), PULocationID=166, DOLocationID=41, trip_distance=1.7, predicted_duration=8.5),\n",
       " Pandas(Index=169, VendorID=1.0, lpep_pickup_datetime=Timestamp('2020-01-09 19:10:41'), PULocationID=25, DOLocationID=181, trip_distance=0.7, predicted_duration=3.5),\n",
       " Pandas(Index=170, VendorID=1.0, lpep_pickup_datetime=Timestamp('2020-01-06 14:16:28'), PULocationID=41, DOLocationID=151, trip_distance=1.1, predicted_duration=5.5),\n",
       " Pandas(Index=171, VendorID=nan, lpep_pickup_datetime=Timestamp('2020-01-16 14:40:00'), PULocationID=29, DOLocationID=26, trip_distance=5.24, predicted_duration=26.200000000000003),\n",
       " Pandas(Index=172, VendorID=2.0, lpep_pickup_datetime=Timestamp('2020-01-26 01:25:50'), PULocationID=74, DOLocationID=263, trip_distance=2.11, predicted_duration=10.549999999999999),\n",
       " Pandas(Index=173, VendorID=2.0, lpep_pickup_datetime=Timestamp('2020-01-16 17:13:25'), PULocationID=42, DOLocationID=74, trip_distance=1.48, predicted_duration=7.4),\n",
       " Pandas(Index=174, VendorID=1.0, lpep_pickup_datetime=Timestamp('2020-01-18 14:35:25'), PULocationID=152, DOLocationID=127, trip_distance=5.6, predicted_duration=28.0),\n",
       " Pandas(Index=175, VendorID=nan, lpep_pickup_datetime=Timestamp('2020-01-08 09:22:00'), PULocationID=250, DOLocationID=143, trip_distance=11.75, predicted_duration=58.75),\n",
       " Pandas(Index=176, VendorID=1.0, lpep_pickup_datetime=Timestamp('2020-01-06 15:32:04'), PULocationID=97, DOLocationID=61, trip_distance=3.8, predicted_duration=19.0),\n",
       " Pandas(Index=177, VendorID=nan, lpep_pickup_datetime=Timestamp('2020-01-13 08:05:00'), PULocationID=257, DOLocationID=22, trip_distance=4.95, predicted_duration=24.75),\n",
       " Pandas(Index=178, VendorID=nan, lpep_pickup_datetime=Timestamp('2020-01-15 06:58:00'), PULocationID=69, DOLocationID=25, trip_distance=13.33, predicted_duration=66.65),\n",
       " Pandas(Index=179, VendorID=2.0, lpep_pickup_datetime=Timestamp('2020-01-20 17:13:57'), PULocationID=42, DOLocationID=41, trip_distance=1.51, predicted_duration=7.55),\n",
       " Pandas(Index=180, VendorID=2.0, lpep_pickup_datetime=Timestamp('2020-01-12 02:50:36'), PULocationID=168, DOLocationID=238, trip_distance=3.34, predicted_duration=16.7),\n",
       " Pandas(Index=181, VendorID=2.0, lpep_pickup_datetime=Timestamp('2020-01-17 07:27:00'), PULocationID=74, DOLocationID=24, trip_distance=1.93, predicted_duration=9.65),\n",
       " Pandas(Index=182, VendorID=2.0, lpep_pickup_datetime=Timestamp('2020-01-17 18:25:55'), PULocationID=85, DOLocationID=188, trip_distance=1.63, predicted_duration=8.149999999999999),\n",
       " Pandas(Index=183, VendorID=2.0, lpep_pickup_datetime=Timestamp('2020-01-28 15:58:07'), PULocationID=166, DOLocationID=166, trip_distance=0.74, predicted_duration=3.7),\n",
       " Pandas(Index=184, VendorID=2.0, lpep_pickup_datetime=Timestamp('2020-01-26 15:03:47'), PULocationID=74, DOLocationID=166, trip_distance=1.9, predicted_duration=9.5),\n",
       " Pandas(Index=185, VendorID=2.0, lpep_pickup_datetime=Timestamp('2020-01-24 21:22:13'), PULocationID=130, DOLocationID=215, trip_distance=0.98, predicted_duration=4.9),\n",
       " Pandas(Index=186, VendorID=2.0, lpep_pickup_datetime=Timestamp('2020-01-18 21:30:36'), PULocationID=95, DOLocationID=95, trip_distance=1.75, predicted_duration=8.75),\n",
       " Pandas(Index=187, VendorID=2.0, lpep_pickup_datetime=Timestamp('2020-01-16 15:50:17'), PULocationID=166, DOLocationID=41, trip_distance=0.97, predicted_duration=4.85),\n",
       " Pandas(Index=188, VendorID=2.0, lpep_pickup_datetime=Timestamp('2020-01-02 18:39:53'), PULocationID=41, DOLocationID=42, trip_distance=0.85, predicted_duration=4.25),\n",
       " Pandas(Index=189, VendorID=2.0, lpep_pickup_datetime=Timestamp('2020-01-30 19:34:06'), PULocationID=65, DOLocationID=40, trip_distance=1.12, predicted_duration=5.6000000000000005),\n",
       " Pandas(Index=190, VendorID=nan, lpep_pickup_datetime=Timestamp('2020-01-01 15:08:00'), PULocationID=92, DOLocationID=35, trip_distance=10.04, predicted_duration=50.199999999999996),\n",
       " Pandas(Index=191, VendorID=2.0, lpep_pickup_datetime=Timestamp('2020-01-23 21:43:26'), PULocationID=74, DOLocationID=152, trip_distance=1.74, predicted_duration=8.7),\n",
       " Pandas(Index=192, VendorID=2.0, lpep_pickup_datetime=Timestamp('2020-01-17 23:39:36'), PULocationID=41, DOLocationID=42, trip_distance=1.0, predicted_duration=5.0),\n",
       " Pandas(Index=193, VendorID=nan, lpep_pickup_datetime=Timestamp('2020-01-08 09:12:00'), PULocationID=72, DOLocationID=65, trip_distance=4.57, predicted_duration=22.85),\n",
       " Pandas(Index=194, VendorID=2.0, lpep_pickup_datetime=Timestamp('2020-01-24 19:29:12'), PULocationID=225, DOLocationID=188, trip_distance=2.76, predicted_duration=13.799999999999999),\n",
       " Pandas(Index=195, VendorID=2.0, lpep_pickup_datetime=Timestamp('2020-01-14 18:27:07'), PULocationID=130, DOLocationID=215, trip_distance=0.87, predicted_duration=4.35),\n",
       " Pandas(Index=196, VendorID=2.0, lpep_pickup_datetime=Timestamp('2020-01-15 09:24:33'), PULocationID=223, DOLocationID=7, trip_distance=1.1, predicted_duration=5.5),\n",
       " Pandas(Index=197, VendorID=nan, lpep_pickup_datetime=Timestamp('2020-01-01 00:27:00'), PULocationID=259, DOLocationID=32, trip_distance=3.09, predicted_duration=15.45),\n",
       " Pandas(Index=198, VendorID=2.0, lpep_pickup_datetime=Timestamp('2020-01-25 15:32:18'), PULocationID=134, DOLocationID=134, trip_distance=1.03, predicted_duration=5.15),\n",
       " Pandas(Index=199, VendorID=2.0, lpep_pickup_datetime=Timestamp('2020-01-07 13:55:58'), PULocationID=244, DOLocationID=151, trip_distance=3.67, predicted_duration=18.35),\n",
       " Pandas(Index=200, VendorID=nan, lpep_pickup_datetime=Timestamp('2020-01-08 17:24:00'), PULocationID=149, DOLocationID=17, trip_distance=7.16, predicted_duration=35.8),\n",
       " Pandas(Index=201, VendorID=2.0, lpep_pickup_datetime=Timestamp('2020-01-11 21:26:13'), PULocationID=146, DOLocationID=260, trip_distance=2.52, predicted_duration=12.6),\n",
       " Pandas(Index=202, VendorID=2.0, lpep_pickup_datetime=Timestamp('2020-01-01 09:26:16'), PULocationID=7, DOLocationID=43, trip_distance=3.26, predicted_duration=16.299999999999997),\n",
       " Pandas(Index=203, VendorID=1.0, lpep_pickup_datetime=Timestamp('2020-01-17 23:03:34'), PULocationID=66, DOLocationID=25, trip_distance=1.5, predicted_duration=7.5),\n",
       " Pandas(Index=204, VendorID=nan, lpep_pickup_datetime=Timestamp('2020-01-30 14:04:00'), PULocationID=203, DOLocationID=139, trip_distance=1.25, predicted_duration=6.25),\n",
       " Pandas(Index=205, VendorID=2.0, lpep_pickup_datetime=Timestamp('2020-01-31 18:56:54'), PULocationID=75, DOLocationID=166, trip_distance=1.8, predicted_duration=9.0),\n",
       " Pandas(Index=206, VendorID=2.0, lpep_pickup_datetime=Timestamp('2020-01-20 23:53:36'), PULocationID=130, DOLocationID=130, trip_distance=0.05, predicted_duration=0.25),\n",
       " Pandas(Index=207, VendorID=2.0, lpep_pickup_datetime=Timestamp('2020-01-14 11:55:28'), PULocationID=25, DOLocationID=25, trip_distance=0.04, predicted_duration=0.2),\n",
       " Pandas(Index=208, VendorID=2.0, lpep_pickup_datetime=Timestamp('2020-01-02 20:35:33'), PULocationID=166, DOLocationID=116, trip_distance=1.49, predicted_duration=7.45),\n",
       " Pandas(Index=209, VendorID=2.0, lpep_pickup_datetime=Timestamp('2020-01-30 00:00:41'), PULocationID=95, DOLocationID=95, trip_distance=1.19, predicted_duration=5.949999999999999),\n",
       " Pandas(Index=210, VendorID=2.0, lpep_pickup_datetime=Timestamp('2020-01-25 18:00:09'), PULocationID=74, DOLocationID=263, trip_distance=2.05, predicted_duration=10.25),\n",
       " Pandas(Index=211, VendorID=nan, lpep_pickup_datetime=Timestamp('2020-01-11 01:12:00'), PULocationID=55, DOLocationID=117, trip_distance=-12.9, predicted_duration=-64.5),\n",
       " Pandas(Index=212, VendorID=2.0, lpep_pickup_datetime=Timestamp('2020-01-31 06:56:34'), PULocationID=75, DOLocationID=238, trip_distance=1.1, predicted_duration=5.5),\n",
       " Pandas(Index=213, VendorID=2.0, lpep_pickup_datetime=Timestamp('2020-01-16 10:40:52'), PULocationID=260, DOLocationID=260, trip_distance=0.38, predicted_duration=1.9),\n",
       " Pandas(Index=214, VendorID=2.0, lpep_pickup_datetime=Timestamp('2020-01-04 04:49:50'), PULocationID=82, DOLocationID=197, trip_distance=4.94, predicted_duration=24.700000000000003),\n",
       " Pandas(Index=215, VendorID=nan, lpep_pickup_datetime=Timestamp('2020-01-23 13:40:00'), PULocationID=71, DOLocationID=236, trip_distance=14.11, predicted_duration=70.55),\n",
       " Pandas(Index=216, VendorID=2.0, lpep_pickup_datetime=Timestamp('2020-01-16 20:13:17'), PULocationID=166, DOLocationID=151, trip_distance=0.87, predicted_duration=4.35),\n",
       " Pandas(Index=217, VendorID=2.0, lpep_pickup_datetime=Timestamp('2020-01-15 09:54:04'), PULocationID=236, DOLocationID=141, trip_distance=1.45, predicted_duration=7.25),\n",
       " Pandas(Index=218, VendorID=1.0, lpep_pickup_datetime=Timestamp('2020-01-22 14:46:35'), PULocationID=74, DOLocationID=151, trip_distance=2.7, predicted_duration=13.5),\n",
       " Pandas(Index=219, VendorID=2.0, lpep_pickup_datetime=Timestamp('2020-01-30 21:53:42'), PULocationID=82, DOLocationID=95, trip_distance=3.83, predicted_duration=19.15),\n",
       " Pandas(Index=220, VendorID=nan, lpep_pickup_datetime=Timestamp('2020-01-07 10:55:00'), PULocationID=131, DOLocationID=191, trip_distance=2.61, predicted_duration=13.049999999999999),\n",
       " Pandas(Index=221, VendorID=nan, lpep_pickup_datetime=Timestamp('2020-01-10 13:55:00'), PULocationID=197, DOLocationID=205, trip_distance=4.44, predicted_duration=22.200000000000003),\n",
       " Pandas(Index=222, VendorID=2.0, lpep_pickup_datetime=Timestamp('2020-01-24 22:19:12'), PULocationID=7, DOLocationID=7, trip_distance=0.84, predicted_duration=4.2),\n",
       " Pandas(Index=223, VendorID=nan, lpep_pickup_datetime=Timestamp('2020-01-09 15:25:00'), PULocationID=61, DOLocationID=55, trip_distance=7.02, predicted_duration=35.099999999999994),\n",
       " Pandas(Index=224, VendorID=1.0, lpep_pickup_datetime=Timestamp('2020-01-15 10:09:56'), PULocationID=152, DOLocationID=166, trip_distance=0.8, predicted_duration=4.0),\n",
       " Pandas(Index=225, VendorID=2.0, lpep_pickup_datetime=Timestamp('2020-01-18 04:15:26'), PULocationID=255, DOLocationID=36, trip_distance=2.94, predicted_duration=14.7),\n",
       " Pandas(Index=226, VendorID=2.0, lpep_pickup_datetime=Timestamp('2020-01-11 14:35:20'), PULocationID=43, DOLocationID=237, trip_distance=2.31, predicted_duration=11.55),\n",
       " Pandas(Index=227, VendorID=nan, lpep_pickup_datetime=Timestamp('2020-01-08 11:58:00'), PULocationID=22, DOLocationID=21, trip_distance=0.0, predicted_duration=0.0),\n",
       " Pandas(Index=228, VendorID=2.0, lpep_pickup_datetime=Timestamp('2020-01-03 18:10:28'), PULocationID=75, DOLocationID=41, trip_distance=1.11, predicted_duration=5.550000000000001),\n",
       " Pandas(Index=229, VendorID=2.0, lpep_pickup_datetime=Timestamp('2020-01-30 15:52:32'), PULocationID=82, DOLocationID=129, trip_distance=1.06, predicted_duration=5.300000000000001),\n",
       " Pandas(Index=230, VendorID=2.0, lpep_pickup_datetime=Timestamp('2020-01-25 13:45:43'), PULocationID=95, DOLocationID=82, trip_distance=2.68, predicted_duration=13.4),\n",
       " Pandas(Index=231, VendorID=2.0, lpep_pickup_datetime=Timestamp('2020-01-11 16:21:23'), PULocationID=92, DOLocationID=92, trip_distance=1.19, predicted_duration=5.949999999999999),\n",
       " Pandas(Index=232, VendorID=2.0, lpep_pickup_datetime=Timestamp('2020-01-08 15:51:04'), PULocationID=82, DOLocationID=83, trip_distance=0.99, predicted_duration=4.95),\n",
       " Pandas(Index=233, VendorID=2.0, lpep_pickup_datetime=Timestamp('2020-01-10 08:47:18'), PULocationID=52, DOLocationID=230, trip_distance=8.27, predicted_duration=41.349999999999994),\n",
       " Pandas(Index=234, VendorID=2.0, lpep_pickup_datetime=Timestamp('2020-01-30 08:02:21'), PULocationID=66, DOLocationID=33, trip_distance=0.99, predicted_duration=4.95),\n",
       " Pandas(Index=235, VendorID=2.0, lpep_pickup_datetime=Timestamp('2020-01-03 12:01:40'), PULocationID=74, DOLocationID=263, trip_distance=2.12, predicted_duration=10.600000000000001),\n",
       " Pandas(Index=236, VendorID=2.0, lpep_pickup_datetime=Timestamp('2020-01-24 18:18:05'), PULocationID=74, DOLocationID=75, trip_distance=1.69, predicted_duration=8.45),\n",
       " Pandas(Index=237, VendorID=2.0, lpep_pickup_datetime=Timestamp('2020-01-29 10:28:39'), PULocationID=92, DOLocationID=171, trip_distance=1.2, predicted_duration=6.0),\n",
       " Pandas(Index=238, VendorID=nan, lpep_pickup_datetime=Timestamp('2020-01-21 21:30:00'), PULocationID=97, DOLocationID=225, trip_distance=2.61, predicted_duration=13.049999999999999),\n",
       " Pandas(Index=239, VendorID=nan, lpep_pickup_datetime=Timestamp('2020-01-16 07:33:00'), PULocationID=247, DOLocationID=42, trip_distance=1.77, predicted_duration=8.85),\n",
       " Pandas(Index=240, VendorID=1.0, lpep_pickup_datetime=Timestamp('2020-01-13 18:37:13'), PULocationID=65, DOLocationID=97, trip_distance=0.9, predicted_duration=4.5),\n",
       " Pandas(Index=241, VendorID=2.0, lpep_pickup_datetime=Timestamp('2020-01-28 11:33:48'), PULocationID=33, DOLocationID=33, trip_distance=0.54, predicted_duration=2.7),\n",
       " Pandas(Index=242, VendorID=2.0, lpep_pickup_datetime=Timestamp('2020-01-08 16:44:39'), PULocationID=43, DOLocationID=43, trip_distance=0.72, predicted_duration=3.5999999999999996),\n",
       " Pandas(Index=243, VendorID=2.0, lpep_pickup_datetime=Timestamp('2020-01-14 02:38:06'), PULocationID=95, DOLocationID=56, trip_distance=1.32, predicted_duration=6.6000000000000005),\n",
       " Pandas(Index=244, VendorID=2.0, lpep_pickup_datetime=Timestamp('2020-01-08 15:23:58'), PULocationID=95, DOLocationID=95, trip_distance=0.63, predicted_duration=3.15),\n",
       " Pandas(Index=245, VendorID=nan, lpep_pickup_datetime=Timestamp('2020-01-06 13:29:00'), PULocationID=231, DOLocationID=166, trip_distance=8.48, predicted_duration=42.400000000000006),\n",
       " Pandas(Index=246, VendorID=2.0, lpep_pickup_datetime=Timestamp('2020-01-19 10:49:33'), PULocationID=152, DOLocationID=142, trip_distance=4.34, predicted_duration=21.7),\n",
       " Pandas(Index=247, VendorID=1.0, lpep_pickup_datetime=Timestamp('2020-01-25 14:37:20'), PULocationID=41, DOLocationID=42, trip_distance=1.0, predicted_duration=5.0),\n",
       " Pandas(Index=248, VendorID=nan, lpep_pickup_datetime=Timestamp('2020-01-09 11:49:00'), PULocationID=7, DOLocationID=7, trip_distance=0.89, predicted_duration=4.45),\n",
       " Pandas(Index=249, VendorID=nan, lpep_pickup_datetime=Timestamp('2020-01-14 13:19:00'), PULocationID=130, DOLocationID=122, trip_distance=3.28, predicted_duration=16.4),\n",
       " Pandas(Index=250, VendorID=2.0, lpep_pickup_datetime=Timestamp('2020-01-28 11:41:48'), PULocationID=61, DOLocationID=26, trip_distance=4.5, predicted_duration=22.5),\n",
       " Pandas(Index=251, VendorID=2.0, lpep_pickup_datetime=Timestamp('2020-01-20 15:04:21'), PULocationID=41, DOLocationID=42, trip_distance=1.08, predicted_duration=5.4),\n",
       " Pandas(Index=252, VendorID=2.0, lpep_pickup_datetime=Timestamp('2020-01-29 20:53:03'), PULocationID=130, DOLocationID=10, trip_distance=1.68, predicted_duration=8.4),\n",
       " Pandas(Index=253, VendorID=2.0, lpep_pickup_datetime=Timestamp('2020-01-18 16:22:58'), PULocationID=82, DOLocationID=83, trip_distance=1.27, predicted_duration=6.35),\n",
       " Pandas(Index=254, VendorID=nan, lpep_pickup_datetime=Timestamp('2020-01-05 21:34:00'), PULocationID=247, DOLocationID=39, trip_distance=23.07, predicted_duration=115.35),\n",
       " Pandas(Index=255, VendorID=nan, lpep_pickup_datetime=Timestamp('2020-01-29 07:01:00'), PULocationID=72, DOLocationID=97, trip_distance=5.43, predicted_duration=27.15),\n",
       " Pandas(Index=256, VendorID=nan, lpep_pickup_datetime=Timestamp('2020-01-22 12:25:00'), PULocationID=73, DOLocationID=215, trip_distance=8.96, predicted_duration=44.800000000000004),\n",
       " Pandas(Index=257, VendorID=2.0, lpep_pickup_datetime=Timestamp('2020-01-15 22:48:24'), PULocationID=130, DOLocationID=215, trip_distance=1.17, predicted_duration=5.85),\n",
       " Pandas(Index=258, VendorID=nan, lpep_pickup_datetime=Timestamp('2020-01-24 07:22:00'), PULocationID=182, DOLocationID=126, trip_distance=2.8, predicted_duration=14.0),\n",
       " Pandas(Index=259, VendorID=2.0, lpep_pickup_datetime=Timestamp('2020-01-19 20:19:17'), PULocationID=75, DOLocationID=166, trip_distance=1.91, predicted_duration=9.549999999999999),\n",
       " Pandas(Index=260, VendorID=1.0, lpep_pickup_datetime=Timestamp('2020-01-09 08:15:49'), PULocationID=56, DOLocationID=82, trip_distance=1.5, predicted_duration=7.5),\n",
       " Pandas(Index=261, VendorID=2.0, lpep_pickup_datetime=Timestamp('2020-01-22 08:56:35'), PULocationID=193, DOLocationID=179, trip_distance=1.42, predicted_duration=7.1),\n",
       " Pandas(Index=262, VendorID=2.0, lpep_pickup_datetime=Timestamp('2020-01-04 06:15:41'), PULocationID=129, DOLocationID=161, trip_distance=5.64, predicted_duration=28.2),\n",
       " Pandas(Index=263, VendorID=2.0, lpep_pickup_datetime=Timestamp('2020-01-31 19:33:00'), PULocationID=42, DOLocationID=212, trip_distance=6.34, predicted_duration=31.7),\n",
       " Pandas(Index=264, VendorID=2.0, lpep_pickup_datetime=Timestamp('2020-01-25 10:21:29'), PULocationID=116, DOLocationID=243, trip_distance=3.46, predicted_duration=17.3),\n",
       " Pandas(Index=265, VendorID=2.0, lpep_pickup_datetime=Timestamp('2020-01-08 18:20:11'), PULocationID=75, DOLocationID=24, trip_distance=1.3, predicted_duration=6.5),\n",
       " Pandas(Index=266, VendorID=2.0, lpep_pickup_datetime=Timestamp('2020-01-12 18:21:56'), PULocationID=33, DOLocationID=231, trip_distance=3.09, predicted_duration=15.45),\n",
       " Pandas(Index=267, VendorID=nan, lpep_pickup_datetime=Timestamp('2020-01-16 09:29:00'), PULocationID=200, DOLocationID=220, trip_distance=2.34, predicted_duration=11.7),\n",
       " Pandas(Index=268, VendorID=2.0, lpep_pickup_datetime=Timestamp('2020-01-23 20:12:09'), PULocationID=66, DOLocationID=181, trip_distance=2.2, predicted_duration=11.0),\n",
       " Pandas(Index=269, VendorID=1.0, lpep_pickup_datetime=Timestamp('2020-01-17 02:44:08'), PULocationID=82, DOLocationID=56, trip_distance=0.5, predicted_duration=2.5),\n",
       " Pandas(Index=270, VendorID=nan, lpep_pickup_datetime=Timestamp('2020-01-02 07:11:00'), PULocationID=179, DOLocationID=76, trip_distance=13.38, predicted_duration=66.9),\n",
       " Pandas(Index=271, VendorID=2.0, lpep_pickup_datetime=Timestamp('2020-01-10 21:04:27'), PULocationID=7, DOLocationID=252, trip_distance=7.77, predicted_duration=38.849999999999994),\n",
       " Pandas(Index=272, VendorID=2.0, lpep_pickup_datetime=Timestamp('2020-01-11 07:46:37'), PULocationID=130, DOLocationID=205, trip_distance=4.04, predicted_duration=20.2),\n",
       " Pandas(Index=273, VendorID=2.0, lpep_pickup_datetime=Timestamp('2020-01-13 12:27:02'), PULocationID=134, DOLocationID=132, trip_distance=5.52, predicted_duration=27.599999999999998),\n",
       " Pandas(Index=274, VendorID=2.0, lpep_pickup_datetime=Timestamp('2020-01-03 16:39:44'), PULocationID=82, DOLocationID=260, trip_distance=3.22, predicted_duration=16.1),\n",
       " Pandas(Index=275, VendorID=2.0, lpep_pickup_datetime=Timestamp('2020-01-11 13:28:46'), PULocationID=74, DOLocationID=42, trip_distance=1.28, predicted_duration=6.4),\n",
       " Pandas(Index=276, VendorID=2.0, lpep_pickup_datetime=Timestamp('2020-01-15 22:31:53'), PULocationID=260, DOLocationID=223, trip_distance=3.39, predicted_duration=16.95),\n",
       " Pandas(Index=277, VendorID=2.0, lpep_pickup_datetime=Timestamp('2020-01-24 22:14:00'), PULocationID=82, DOLocationID=95, trip_distance=3.28, predicted_duration=16.4),\n",
       " Pandas(Index=278, VendorID=2.0, lpep_pickup_datetime=Timestamp('2020-01-27 17:01:47'), PULocationID=244, DOLocationID=142, trip_distance=5.99, predicted_duration=29.950000000000003),\n",
       " Pandas(Index=279, VendorID=1.0, lpep_pickup_datetime=Timestamp('2020-01-07 14:11:51'), PULocationID=75, DOLocationID=237, trip_distance=1.9, predicted_duration=9.5),\n",
       " Pandas(Index=280, VendorID=2.0, lpep_pickup_datetime=Timestamp('2020-01-10 17:04:36'), PULocationID=260, DOLocationID=129, trip_distance=0.72, predicted_duration=3.5999999999999996),\n",
       " Pandas(Index=281, VendorID=1.0, lpep_pickup_datetime=Timestamp('2020-01-05 09:32:41'), PULocationID=74, DOLocationID=116, trip_distance=2.1, predicted_duration=10.5),\n",
       " Pandas(Index=282, VendorID=nan, lpep_pickup_datetime=Timestamp('2020-01-16 11:24:00'), PULocationID=149, DOLocationID=22, trip_distance=4.24, predicted_duration=21.200000000000003),\n",
       " Pandas(Index=283, VendorID=nan, lpep_pickup_datetime=Timestamp('2020-01-04 12:57:00'), PULocationID=232, DOLocationID=248, trip_distance=11.9, predicted_duration=59.5),\n",
       " Pandas(Index=284, VendorID=2.0, lpep_pickup_datetime=Timestamp('2020-01-17 07:25:33'), PULocationID=10, DOLocationID=130, trip_distance=1.19, predicted_duration=5.949999999999999),\n",
       " Pandas(Index=285, VendorID=1.0, lpep_pickup_datetime=Timestamp('2020-01-23 14:41:45'), PULocationID=244, DOLocationID=15, trip_distance=0.0, predicted_duration=0.0),\n",
       " Pandas(Index=286, VendorID=1.0, lpep_pickup_datetime=Timestamp('2020-01-10 09:24:21'), PULocationID=183, DOLocationID=212, trip_distance=4.8, predicted_duration=24.0),\n",
       " Pandas(Index=287, VendorID=nan, lpep_pickup_datetime=Timestamp('2020-01-27 12:43:00'), PULocationID=36, DOLocationID=25, trip_distance=4.85, predicted_duration=24.25),\n",
       " Pandas(Index=288, VendorID=nan, lpep_pickup_datetime=Timestamp('2020-01-27 13:13:00'), PULocationID=155, DOLocationID=89, trip_distance=1.93, predicted_duration=9.65),\n",
       " Pandas(Index=289, VendorID=2.0, lpep_pickup_datetime=Timestamp('2020-01-23 03:03:37'), PULocationID=75, DOLocationID=263, trip_distance=1.1, predicted_duration=5.5),\n",
       " Pandas(Index=290, VendorID=2.0, lpep_pickup_datetime=Timestamp('2020-01-21 10:43:09'), PULocationID=24, DOLocationID=132, trip_distance=17.61, predicted_duration=88.05),\n",
       " Pandas(Index=291, VendorID=2.0, lpep_pickup_datetime=Timestamp('2020-01-24 22:21:09'), PULocationID=82, DOLocationID=129, trip_distance=0.81, predicted_duration=4.050000000000001),\n",
       " Pandas(Index=292, VendorID=nan, lpep_pickup_datetime=Timestamp('2020-01-02 11:10:00'), PULocationID=213, DOLocationID=213, trip_distance=1.16, predicted_duration=5.8),\n",
       " Pandas(Index=293, VendorID=nan, lpep_pickup_datetime=Timestamp('2020-01-30 10:07:00'), PULocationID=234, DOLocationID=68, trip_distance=1.07, predicted_duration=5.3500000000000005),\n",
       " Pandas(Index=294, VendorID=2.0, lpep_pickup_datetime=Timestamp('2020-01-11 20:04:48'), PULocationID=244, DOLocationID=41, trip_distance=3.28, predicted_duration=16.4),\n",
       " Pandas(Index=295, VendorID=nan, lpep_pickup_datetime=Timestamp('2020-01-24 06:57:00'), PULocationID=89, DOLocationID=188, trip_distance=1.87, predicted_duration=9.350000000000001),\n",
       " Pandas(Index=296, VendorID=2.0, lpep_pickup_datetime=Timestamp('2020-01-15 08:37:53'), PULocationID=260, DOLocationID=226, trip_distance=1.09, predicted_duration=5.45),\n",
       " Pandas(Index=297, VendorID=2.0, lpep_pickup_datetime=Timestamp('2020-01-21 20:50:30'), PULocationID=75, DOLocationID=74, trip_distance=0.71, predicted_duration=3.55),\n",
       " Pandas(Index=298, VendorID=2.0, lpep_pickup_datetime=Timestamp('2020-01-30 20:53:22'), PULocationID=130, DOLocationID=215, trip_distance=1.38, predicted_duration=6.8999999999999995),\n",
       " Pandas(Index=299, VendorID=1.0, lpep_pickup_datetime=Timestamp('2020-01-20 13:54:55'), PULocationID=129, DOLocationID=82, trip_distance=1.2, predicted_duration=6.0),\n",
       " Pandas(Index=300, VendorID=1.0, lpep_pickup_datetime=Timestamp('2020-01-31 14:49:59'), PULocationID=74, DOLocationID=152, trip_distance=1.7, predicted_duration=8.5),\n",
       " Pandas(Index=301, VendorID=1.0, lpep_pickup_datetime=Timestamp('2020-01-16 23:40:31'), PULocationID=210, DOLocationID=210, trip_distance=19.3, predicted_duration=96.5),\n",
       " Pandas(Index=302, VendorID=2.0, lpep_pickup_datetime=Timestamp('2020-01-07 01:21:57'), PULocationID=65, DOLocationID=49, trip_distance=1.13, predicted_duration=5.6499999999999995),\n",
       " Pandas(Index=303, VendorID=2.0, lpep_pickup_datetime=Timestamp('2020-01-25 01:10:19'), PULocationID=190, DOLocationID=62, trip_distance=0.7, predicted_duration=3.5),\n",
       " Pandas(Index=304, VendorID=2.0, lpep_pickup_datetime=Timestamp('2020-01-29 19:44:17'), PULocationID=166, DOLocationID=41, trip_distance=0.98, predicted_duration=4.9),\n",
       " Pandas(Index=305, VendorID=nan, lpep_pickup_datetime=Timestamp('2020-01-31 21:00:00'), PULocationID=9, DOLocationID=17, trip_distance=12.95, predicted_duration=64.75),\n",
       " Pandas(Index=306, VendorID=1.0, lpep_pickup_datetime=Timestamp('2020-01-07 05:55:08'), PULocationID=223, DOLocationID=48, trip_distance=6.6, predicted_duration=33.0),\n",
       " Pandas(Index=307, VendorID=1.0, lpep_pickup_datetime=Timestamp('2020-01-29 00:04:03'), PULocationID=129, DOLocationID=7, trip_distance=3.0, predicted_duration=15.0),\n",
       " Pandas(Index=308, VendorID=2.0, lpep_pickup_datetime=Timestamp('2020-01-25 22:17:53'), PULocationID=97, DOLocationID=17, trip_distance=1.34, predicted_duration=6.7),\n",
       " Pandas(Index=309, VendorID=2.0, lpep_pickup_datetime=Timestamp('2020-01-20 11:33:30'), PULocationID=244, DOLocationID=43, trip_distance=6.45, predicted_duration=32.25),\n",
       " Pandas(Index=310, VendorID=1.0, lpep_pickup_datetime=Timestamp('2020-01-27 17:04:34'), PULocationID=74, DOLocationID=74, trip_distance=0.8, predicted_duration=4.0),\n",
       " Pandas(Index=311, VendorID=nan, lpep_pickup_datetime=Timestamp('2020-01-06 08:50:00'), PULocationID=75, DOLocationID=140, trip_distance=1.87, predicted_duration=9.350000000000001),\n",
       " Pandas(Index=312, VendorID=2.0, lpep_pickup_datetime=Timestamp('2020-01-22 19:54:56'), PULocationID=41, DOLocationID=42, trip_distance=1.14, predicted_duration=5.699999999999999),\n",
       " Pandas(Index=313, VendorID=2.0, lpep_pickup_datetime=Timestamp('2020-01-02 13:21:06'), PULocationID=42, DOLocationID=41, trip_distance=1.83, predicted_duration=9.15),\n",
       " Pandas(Index=314, VendorID=2.0, lpep_pickup_datetime=Timestamp('2020-01-23 08:26:51'), PULocationID=41, DOLocationID=230, trip_distance=3.8, predicted_duration=19.0),\n",
       " Pandas(Index=315, VendorID=2.0, lpep_pickup_datetime=Timestamp('2020-01-07 01:43:49'), PULocationID=129, DOLocationID=173, trip_distance=1.6, predicted_duration=8.0),\n",
       " Pandas(Index=316, VendorID=nan, lpep_pickup_datetime=Timestamp('2020-01-11 18:00:00'), PULocationID=76, DOLocationID=35, trip_distance=3.02, predicted_duration=15.1),\n",
       " Pandas(Index=317, VendorID=2.0, lpep_pickup_datetime=Timestamp('2020-01-07 23:42:44'), PULocationID=82, DOLocationID=129, trip_distance=1.32, predicted_duration=6.6000000000000005),\n",
       " Pandas(Index=318, VendorID=2.0, lpep_pickup_datetime=Timestamp('2020-01-11 00:06:45'), PULocationID=247, DOLocationID=74, trip_distance=2.56, predicted_duration=12.8),\n",
       " Pandas(Index=319, VendorID=1.0, lpep_pickup_datetime=Timestamp('2020-01-28 18:13:05'), PULocationID=17, DOLocationID=61, trip_distance=0.0, predicted_duration=0.0),\n",
       " Pandas(Index=320, VendorID=2.0, lpep_pickup_datetime=Timestamp('2020-01-27 19:57:00'), PULocationID=112, DOLocationID=112, trip_distance=1.19, predicted_duration=5.949999999999999),\n",
       " Pandas(Index=321, VendorID=nan, lpep_pickup_datetime=Timestamp('2020-01-31 08:54:00'), PULocationID=166, DOLocationID=151, trip_distance=1.31, predicted_duration=6.550000000000001),\n",
       " Pandas(Index=322, VendorID=2.0, lpep_pickup_datetime=Timestamp('2020-01-05 18:02:09'), PULocationID=92, DOLocationID=264, trip_distance=0.0, predicted_duration=0.0),\n",
       " Pandas(Index=323, VendorID=2.0, lpep_pickup_datetime=Timestamp('2020-01-28 22:15:33'), PULocationID=41, DOLocationID=142, trip_distance=2.96, predicted_duration=14.8),\n",
       " Pandas(Index=324, VendorID=2.0, lpep_pickup_datetime=Timestamp('2020-01-14 18:00:58'), PULocationID=95, DOLocationID=95, trip_distance=0.83, predicted_duration=4.1499999999999995),\n",
       " Pandas(Index=325, VendorID=nan, lpep_pickup_datetime=Timestamp('2020-01-15 07:36:00'), PULocationID=76, DOLocationID=89, trip_distance=6.06, predicted_duration=30.299999999999997),\n",
       " Pandas(Index=326, VendorID=2.0, lpep_pickup_datetime=Timestamp('2020-01-03 22:43:59'), PULocationID=82, DOLocationID=129, trip_distance=0.75, predicted_duration=3.75),\n",
       " Pandas(Index=327, VendorID=2.0, lpep_pickup_datetime=Timestamp('2020-01-10 23:24:53'), PULocationID=7, DOLocationID=223, trip_distance=2.04, predicted_duration=10.2),\n",
       " Pandas(Index=328, VendorID=nan, lpep_pickup_datetime=Timestamp('2020-01-24 11:03:00'), PULocationID=95, DOLocationID=131, trip_distance=5.24, predicted_duration=26.200000000000003),\n",
       " Pandas(Index=329, VendorID=2.0, lpep_pickup_datetime=Timestamp('2020-01-11 15:59:19'), PULocationID=129, DOLocationID=82, trip_distance=1.0, predicted_duration=5.0),\n",
       " Pandas(Index=330, VendorID=2.0, lpep_pickup_datetime=Timestamp('2020-01-21 18:29:36'), PULocationID=95, DOLocationID=196, trip_distance=1.37, predicted_duration=6.8500000000000005),\n",
       " Pandas(Index=331, VendorID=nan, lpep_pickup_datetime=Timestamp('2020-01-26 12:43:00'), PULocationID=119, DOLocationID=119, trip_distance=0.87, predicted_duration=4.35),\n",
       " Pandas(Index=332, VendorID=2.0, lpep_pickup_datetime=Timestamp('2020-01-15 21:03:05'), PULocationID=41, DOLocationID=68, trip_distance=6.81, predicted_duration=34.05),\n",
       " Pandas(Index=333, VendorID=1.0, lpep_pickup_datetime=Timestamp('2020-01-02 14:58:55'), PULocationID=82, DOLocationID=82, trip_distance=1.8, predicted_duration=9.0),\n",
       " Pandas(Index=334, VendorID=2.0, lpep_pickup_datetime=Timestamp('2020-01-31 10:43:55'), PULocationID=41, DOLocationID=43, trip_distance=1.28, predicted_duration=6.4),\n",
       " Pandas(Index=335, VendorID=2.0, lpep_pickup_datetime=Timestamp('2020-01-22 15:32:53'), PULocationID=32, DOLocationID=240, trip_distance=1.53, predicted_duration=7.65),\n",
       " Pandas(Index=336, VendorID=2.0, lpep_pickup_datetime=Timestamp('2020-01-17 15:28:24'), PULocationID=65, DOLocationID=90, trip_distance=4.64, predicted_duration=23.2),\n",
       " Pandas(Index=337, VendorID=2.0, lpep_pickup_datetime=Timestamp('2020-01-03 07:17:26'), PULocationID=74, DOLocationID=244, trip_distance=3.25, predicted_duration=16.25),\n",
       " Pandas(Index=338, VendorID=nan, lpep_pickup_datetime=Timestamp('2020-01-23 10:16:00'), PULocationID=28, DOLocationID=82, trip_distance=3.57, predicted_duration=17.849999999999998),\n",
       " Pandas(Index=339, VendorID=2.0, lpep_pickup_datetime=Timestamp('2020-01-02 03:36:16'), PULocationID=82, DOLocationID=83, trip_distance=0.99, predicted_duration=4.95),\n",
       " Pandas(Index=340, VendorID=nan, lpep_pickup_datetime=Timestamp('2020-01-10 09:52:00'), PULocationID=55, DOLocationID=25, trip_distance=9.79, predicted_duration=48.949999999999996),\n",
       " Pandas(Index=341, VendorID=2.0, lpep_pickup_datetime=Timestamp('2020-01-25 15:14:47'), PULocationID=74, DOLocationID=74, trip_distance=0.87, predicted_duration=4.35),\n",
       " Pandas(Index=342, VendorID=2.0, lpep_pickup_datetime=Timestamp('2020-01-05 10:55:49'), PULocationID=41, DOLocationID=151, trip_distance=1.11, predicted_duration=5.550000000000001),\n",
       " Pandas(Index=343, VendorID=2.0, lpep_pickup_datetime=Timestamp('2020-01-09 20:28:33'), PULocationID=80, DOLocationID=189, trip_distance=3.42, predicted_duration=17.1),\n",
       " Pandas(Index=344, VendorID=nan, lpep_pickup_datetime=Timestamp('2020-01-03 14:04:00'), PULocationID=61, DOLocationID=91, trip_distance=4.47, predicted_duration=22.349999999999998),\n",
       " Pandas(Index=345, VendorID=nan, lpep_pickup_datetime=Timestamp('2020-01-15 10:59:00'), PULocationID=35, DOLocationID=25, trip_distance=6.26, predicted_duration=31.299999999999997),\n",
       " Pandas(Index=346, VendorID=1.0, lpep_pickup_datetime=Timestamp('2020-01-11 22:49:19'), PULocationID=75, DOLocationID=75, trip_distance=0.5, predicted_duration=2.5),\n",
       " Pandas(Index=347, VendorID=2.0, lpep_pickup_datetime=Timestamp('2020-01-01 19:28:28'), PULocationID=40, DOLocationID=54, trip_distance=0.65, predicted_duration=3.25),\n",
       " Pandas(Index=348, VendorID=nan, lpep_pickup_datetime=Timestamp('2020-01-23 18:11:00'), PULocationID=210, DOLocationID=29, trip_distance=1.08, predicted_duration=5.4),\n",
       " Pandas(Index=349, VendorID=2.0, lpep_pickup_datetime=Timestamp('2020-01-26 17:28:26'), PULocationID=33, DOLocationID=33, trip_distance=0.61, predicted_duration=3.05),\n",
       " Pandas(Index=350, VendorID=2.0, lpep_pickup_datetime=Timestamp('2020-01-22 19:20:47'), PULocationID=83, DOLocationID=95, trip_distance=3.34, predicted_duration=16.7),\n",
       " Pandas(Index=351, VendorID=1.0, lpep_pickup_datetime=Timestamp('2020-01-16 19:18:36'), PULocationID=42, DOLocationID=74, trip_distance=0.2, predicted_duration=1.0),\n",
       " Pandas(Index=352, VendorID=nan, lpep_pickup_datetime=Timestamp('2020-01-08 07:04:00'), PULocationID=69, DOLocationID=250, trip_distance=7.7, predicted_duration=38.5),\n",
       " Pandas(Index=353, VendorID=nan, lpep_pickup_datetime=Timestamp('2020-01-03 07:02:00'), PULocationID=41, DOLocationID=169, trip_distance=4.5, predicted_duration=22.5),\n",
       " Pandas(Index=354, VendorID=2.0, lpep_pickup_datetime=Timestamp('2020-01-24 11:06:46'), PULocationID=97, DOLocationID=181, trip_distance=0.87, predicted_duration=4.35),\n",
       " Pandas(Index=355, VendorID=2.0, lpep_pickup_datetime=Timestamp('2020-01-13 07:57:19'), PULocationID=75, DOLocationID=74, trip_distance=1.63, predicted_duration=8.149999999999999),\n",
       " Pandas(Index=356, VendorID=2.0, lpep_pickup_datetime=Timestamp('2020-01-09 21:11:37'), PULocationID=97, DOLocationID=49, trip_distance=1.24, predicted_duration=6.2),\n",
       " Pandas(Index=357, VendorID=nan, lpep_pickup_datetime=Timestamp('2020-01-08 19:31:00'), PULocationID=169, DOLocationID=127, trip_distance=2.8, predicted_duration=14.0),\n",
       " Pandas(Index=358, VendorID=2.0, lpep_pickup_datetime=Timestamp('2020-01-24 19:59:54'), PULocationID=75, DOLocationID=74, trip_distance=0.75, predicted_duration=3.75),\n",
       " Pandas(Index=359, VendorID=2.0, lpep_pickup_datetime=Timestamp('2020-01-16 15:37:25'), PULocationID=260, DOLocationID=157, trip_distance=1.49, predicted_duration=7.45),\n",
       " Pandas(Index=360, VendorID=2.0, lpep_pickup_datetime=Timestamp('2020-01-23 13:30:30'), PULocationID=181, DOLocationID=189, trip_distance=0.54, predicted_duration=2.7),\n",
       " Pandas(Index=361, VendorID=2.0, lpep_pickup_datetime=Timestamp('2020-01-24 08:18:58'), PULocationID=116, DOLocationID=116, trip_distance=0.01, predicted_duration=0.05),\n",
       " Pandas(Index=362, VendorID=2.0, lpep_pickup_datetime=Timestamp('2020-01-18 14:03:03'), PULocationID=7, DOLocationID=179, trip_distance=1.03, predicted_duration=5.15),\n",
       " Pandas(Index=363, VendorID=2.0, lpep_pickup_datetime=Timestamp('2020-01-27 10:38:47'), PULocationID=116, DOLocationID=247, trip_distance=1.54, predicted_duration=7.7),\n",
       " Pandas(Index=364, VendorID=2.0, lpep_pickup_datetime=Timestamp('2020-01-24 20:20:23'), PULocationID=265, DOLocationID=265, trip_distance=0.0, predicted_duration=0.0),\n",
       " Pandas(Index=365, VendorID=nan, lpep_pickup_datetime=Timestamp('2020-01-07 12:06:00'), PULocationID=40, DOLocationID=61, trip_distance=3.66, predicted_duration=18.3),\n",
       " Pandas(Index=366, VendorID=2.0, lpep_pickup_datetime=Timestamp('2020-01-14 14:21:36'), PULocationID=260, DOLocationID=129, trip_distance=2.43, predicted_duration=12.15),\n",
       " Pandas(Index=367, VendorID=2.0, lpep_pickup_datetime=Timestamp('2020-01-09 19:21:06'), PULocationID=95, DOLocationID=180, trip_distance=3.32, predicted_duration=16.599999999999998),\n",
       " Pandas(Index=368, VendorID=nan, lpep_pickup_datetime=Timestamp('2020-01-07 16:46:00'), PULocationID=61, DOLocationID=201, trip_distance=12.09, predicted_duration=60.45),\n",
       " Pandas(Index=369, VendorID=nan, lpep_pickup_datetime=Timestamp('2020-01-01 00:12:00'), PULocationID=35, DOLocationID=89, trip_distance=3.74, predicted_duration=18.700000000000003),\n",
       " Pandas(Index=370, VendorID=nan, lpep_pickup_datetime=Timestamp('2020-01-22 15:12:00'), PULocationID=35, DOLocationID=35, trip_distance=0.32, predicted_duration=1.6),\n",
       " Pandas(Index=371, VendorID=2.0, lpep_pickup_datetime=Timestamp('2020-01-12 19:25:43'), PULocationID=74, DOLocationID=236, trip_distance=1.7, predicted_duration=8.5),\n",
       " Pandas(Index=372, VendorID=nan, lpep_pickup_datetime=Timestamp('2020-01-12 19:06:00'), PULocationID=91, DOLocationID=51, trip_distance=22.44, predicted_duration=112.2),\n",
       " Pandas(Index=373, VendorID=2.0, lpep_pickup_datetime=Timestamp('2020-01-24 17:35:03'), PULocationID=166, DOLocationID=166, trip_distance=1.72, predicted_duration=8.6),\n",
       " Pandas(Index=374, VendorID=nan, lpep_pickup_datetime=Timestamp('2020-01-26 10:07:00'), PULocationID=39, DOLocationID=61, trip_distance=4.71, predicted_duration=23.55),\n",
       " Pandas(Index=375, VendorID=2.0, lpep_pickup_datetime=Timestamp('2020-01-16 12:36:11'), PULocationID=260, DOLocationID=64, trip_distance=14.0, predicted_duration=70.0),\n",
       " Pandas(Index=376, VendorID=2.0, lpep_pickup_datetime=Timestamp('2020-01-21 01:39:33'), PULocationID=82, DOLocationID=82, trip_distance=1.29, predicted_duration=6.45),\n",
       " Pandas(Index=377, VendorID=nan, lpep_pickup_datetime=Timestamp('2020-01-07 17:03:00'), PULocationID=39, DOLocationID=39, trip_distance=1.13, predicted_duration=5.6499999999999995),\n",
       " Pandas(Index=378, VendorID=2.0, lpep_pickup_datetime=Timestamp('2020-01-06 23:01:24'), PULocationID=43, DOLocationID=43, trip_distance=0.38, predicted_duration=1.9),\n",
       " Pandas(Index=379, VendorID=nan, lpep_pickup_datetime=Timestamp('2020-01-05 18:20:00'), PULocationID=165, DOLocationID=61, trip_distance=5.22, predicted_duration=26.099999999999998),\n",
       " Pandas(Index=380, VendorID=nan, lpep_pickup_datetime=Timestamp('2020-01-09 07:10:00'), PULocationID=208, DOLocationID=32, trip_distance=6.77, predicted_duration=33.849999999999994),\n",
       " Pandas(Index=381, VendorID=2.0, lpep_pickup_datetime=Timestamp('2020-01-10 18:16:14'), PULocationID=69, DOLocationID=42, trip_distance=2.67, predicted_duration=13.35),\n",
       " Pandas(Index=382, VendorID=2.0, lpep_pickup_datetime=Timestamp('2020-01-25 16:58:32'), PULocationID=75, DOLocationID=41, trip_distance=1.19, predicted_duration=5.949999999999999),\n",
       " Pandas(Index=383, VendorID=2.0, lpep_pickup_datetime=Timestamp('2020-01-14 14:04:39'), PULocationID=41, DOLocationID=41, trip_distance=0.61, predicted_duration=3.05),\n",
       " Pandas(Index=384, VendorID=2.0, lpep_pickup_datetime=Timestamp('2020-01-04 00:33:15'), PULocationID=65, DOLocationID=181, trip_distance=1.89, predicted_duration=9.45),\n",
       " Pandas(Index=385, VendorID=1.0, lpep_pickup_datetime=Timestamp('2020-01-22 22:10:24'), PULocationID=97, DOLocationID=49, trip_distance=1.5, predicted_duration=7.5),\n",
       " Pandas(Index=386, VendorID=2.0, lpep_pickup_datetime=Timestamp('2020-01-07 10:02:40'), PULocationID=75, DOLocationID=166, trip_distance=1.52, predicted_duration=7.6),\n",
       " Pandas(Index=387, VendorID=nan, lpep_pickup_datetime=Timestamp('2020-01-18 10:45:00'), PULocationID=51, DOLocationID=208, trip_distance=4.27, predicted_duration=21.349999999999998),\n",
       " Pandas(Index=388, VendorID=nan, lpep_pickup_datetime=Timestamp('2020-01-11 14:21:00'), PULocationID=222, DOLocationID=76, trip_distance=0.9, predicted_duration=4.5),\n",
       " Pandas(Index=389, VendorID=2.0, lpep_pickup_datetime=Timestamp('2020-01-31 13:18:42'), PULocationID=244, DOLocationID=230, trip_distance=7.13, predicted_duration=35.65),\n",
       " Pandas(Index=390, VendorID=2.0, lpep_pickup_datetime=Timestamp('2020-01-10 23:00:26'), PULocationID=7, DOLocationID=179, trip_distance=0.65, predicted_duration=3.25),\n",
       " Pandas(Index=391, VendorID=2.0, lpep_pickup_datetime=Timestamp('2020-01-25 11:20:56'), PULocationID=196, DOLocationID=95, trip_distance=1.61, predicted_duration=8.05),\n",
       " Pandas(Index=392, VendorID=1.0, lpep_pickup_datetime=Timestamp('2020-01-04 19:45:29'), PULocationID=74, DOLocationID=137, trip_distance=5.8, predicted_duration=29.0),\n",
       " Pandas(Index=393, VendorID=nan, lpep_pickup_datetime=Timestamp('2020-01-15 16:42:00'), PULocationID=42, DOLocationID=247, trip_distance=1.4, predicted_duration=7.0),\n",
       " Pandas(Index=394, VendorID=2.0, lpep_pickup_datetime=Timestamp('2020-01-21 10:06:08'), PULocationID=116, DOLocationID=243, trip_distance=1.72, predicted_duration=8.6),\n",
       " Pandas(Index=395, VendorID=2.0, lpep_pickup_datetime=Timestamp('2020-01-19 09:30:34'), PULocationID=166, DOLocationID=239, trip_distance=2.1, predicted_duration=10.5),\n",
       " Pandas(Index=396, VendorID=nan, lpep_pickup_datetime=Timestamp('2020-01-31 21:14:00'), PULocationID=234, DOLocationID=256, trip_distance=3.94, predicted_duration=19.7),\n",
       " Pandas(Index=397, VendorID=1.0, lpep_pickup_datetime=Timestamp('2020-01-18 09:17:10'), PULocationID=183, DOLocationID=51, trip_distance=0.0, predicted_duration=0.0),\n",
       " Pandas(Index=398, VendorID=2.0, lpep_pickup_datetime=Timestamp('2020-01-25 17:31:21'), PULocationID=66, DOLocationID=90, trip_distance=4.39, predicted_duration=21.95),\n",
       " Pandas(Index=399, VendorID=nan, lpep_pickup_datetime=Timestamp('2020-01-12 14:40:00'), PULocationID=22, DOLocationID=14, trip_distance=2.8, predicted_duration=14.0),\n",
       " Pandas(Index=400, VendorID=2.0, lpep_pickup_datetime=Timestamp('2020-01-15 20:16:01'), PULocationID=74, DOLocationID=168, trip_distance=1.58, predicted_duration=7.9),\n",
       " Pandas(Index=401, VendorID=2.0, lpep_pickup_datetime=Timestamp('2020-01-12 16:43:54'), PULocationID=78, DOLocationID=20, trip_distance=1.62, predicted_duration=8.100000000000001),\n",
       " Pandas(Index=402, VendorID=nan, lpep_pickup_datetime=Timestamp('2020-01-14 21:13:00'), PULocationID=25, DOLocationID=91, trip_distance=5.52, predicted_duration=27.599999999999998),\n",
       " Pandas(Index=403, VendorID=2.0, lpep_pickup_datetime=Timestamp('2020-01-17 21:24:58'), PULocationID=255, DOLocationID=189, trip_distance=3.36, predicted_duration=16.8),\n",
       " Pandas(Index=404, VendorID=nan, lpep_pickup_datetime=Timestamp('2020-01-01 09:43:00'), PULocationID=162, DOLocationID=220, trip_distance=18.37, predicted_duration=91.85000000000001),\n",
       " Pandas(Index=405, VendorID=2.0, lpep_pickup_datetime=Timestamp('2020-01-24 22:50:03'), PULocationID=25, DOLocationID=181, trip_distance=1.46, predicted_duration=7.3),\n",
       " Pandas(Index=406, VendorID=2.0, lpep_pickup_datetime=Timestamp('2020-01-08 17:33:53'), PULocationID=75, DOLocationID=74, trip_distance=1.33, predicted_duration=6.65),\n",
       " Pandas(Index=407, VendorID=nan, lpep_pickup_datetime=Timestamp('2020-01-30 11:42:00'), PULocationID=188, DOLocationID=36, trip_distance=5.09, predicted_duration=25.45),\n",
       " Pandas(Index=408, VendorID=2.0, lpep_pickup_datetime=Timestamp('2020-01-03 22:33:43'), PULocationID=33, DOLocationID=49, trip_distance=2.28, predicted_duration=11.399999999999999),\n",
       " Pandas(Index=409, VendorID=nan, lpep_pickup_datetime=Timestamp('2020-01-23 12:06:00'), PULocationID=17, DOLocationID=40, trip_distance=4.06, predicted_duration=20.299999999999997),\n",
       " Pandas(Index=410, VendorID=1.0, lpep_pickup_datetime=Timestamp('2020-01-22 06:06:44'), PULocationID=116, DOLocationID=42, trip_distance=0.8, predicted_duration=4.0),\n",
       " Pandas(Index=411, VendorID=nan, lpep_pickup_datetime=Timestamp('2020-01-16 22:03:00'), PULocationID=192, DOLocationID=131, trip_distance=4.54, predicted_duration=22.7),\n",
       " Pandas(Index=412, VendorID=2.0, lpep_pickup_datetime=Timestamp('2020-01-10 16:31:27'), PULocationID=166, DOLocationID=244, trip_distance=2.64, predicted_duration=13.200000000000001),\n",
       " Pandas(Index=413, VendorID=2.0, lpep_pickup_datetime=Timestamp('2020-01-30 18:19:29'), PULocationID=196, DOLocationID=95, trip_distance=0.67, predicted_duration=3.35),\n",
       " Pandas(Index=414, VendorID=1.0, lpep_pickup_datetime=Timestamp('2020-01-14 17:43:30'), PULocationID=95, DOLocationID=135, trip_distance=1.8, predicted_duration=9.0),\n",
       " Pandas(Index=415, VendorID=2.0, lpep_pickup_datetime=Timestamp('2020-01-17 12:49:09'), PULocationID=134, DOLocationID=121, trip_distance=1.91, predicted_duration=9.549999999999999),\n",
       " Pandas(Index=416, VendorID=1.0, lpep_pickup_datetime=Timestamp('2020-01-27 21:15:57'), PULocationID=255, DOLocationID=112, trip_distance=0.7, predicted_duration=3.5),\n",
       " Pandas(Index=417, VendorID=2.0, lpep_pickup_datetime=Timestamp('2020-01-26 21:49:47'), PULocationID=196, DOLocationID=121, trip_distance=3.32, predicted_duration=16.599999999999998),\n",
       " Pandas(Index=418, VendorID=nan, lpep_pickup_datetime=Timestamp('2020-01-03 16:51:00'), PULocationID=137, DOLocationID=192, trip_distance=9.6, predicted_duration=48.0),\n",
       " Pandas(Index=419, VendorID=2.0, lpep_pickup_datetime=Timestamp('2020-01-17 06:31:53'), PULocationID=49, DOLocationID=197, trip_distance=12.4, predicted_duration=62.0),\n",
       " Pandas(Index=420, VendorID=2.0, lpep_pickup_datetime=Timestamp('2020-01-07 11:31:20'), PULocationID=43, DOLocationID=162, trip_distance=3.47, predicted_duration=17.35),\n",
       " Pandas(Index=421, VendorID=2.0, lpep_pickup_datetime=Timestamp('2020-01-19 14:36:43'), PULocationID=41, DOLocationID=151, trip_distance=1.18, predicted_duration=5.8999999999999995),\n",
       " Pandas(Index=422, VendorID=2.0, lpep_pickup_datetime=Timestamp('2020-01-31 21:00:19'), PULocationID=82, DOLocationID=82, trip_distance=1.24, predicted_duration=6.2),\n",
       " Pandas(Index=423, VendorID=2.0, lpep_pickup_datetime=Timestamp('2020-01-10 22:01:57'), PULocationID=129, DOLocationID=129, trip_distance=0.47, predicted_duration=2.3499999999999996),\n",
       " Pandas(Index=424, VendorID=2.0, lpep_pickup_datetime=Timestamp('2020-01-15 14:10:59'), PULocationID=42, DOLocationID=127, trip_distance=4.1, predicted_duration=20.5),\n",
       " Pandas(Index=425, VendorID=nan, lpep_pickup_datetime=Timestamp('2020-01-10 06:38:00'), PULocationID=259, DOLocationID=94, trip_distance=5.27, predicted_duration=26.349999999999998),\n",
       " Pandas(Index=426, VendorID=2.0, lpep_pickup_datetime=Timestamp('2020-01-02 18:03:02'), PULocationID=82, DOLocationID=260, trip_distance=1.56, predicted_duration=7.800000000000001),\n",
       " Pandas(Index=427, VendorID=2.0, lpep_pickup_datetime=Timestamp('2020-01-21 00:55:35'), PULocationID=129, DOLocationID=82, trip_distance=1.51, predicted_duration=7.55),\n",
       " Pandas(Index=428, VendorID=2.0, lpep_pickup_datetime=Timestamp('2020-01-26 16:41:06'), PULocationID=134, DOLocationID=28, trip_distance=0.56, predicted_duration=2.8000000000000003),\n",
       " Pandas(Index=429, VendorID=2.0, lpep_pickup_datetime=Timestamp('2020-01-30 23:05:21'), PULocationID=223, DOLocationID=145, trip_distance=3.13, predicted_duration=15.649999999999999),\n",
       " Pandas(Index=430, VendorID=2.0, lpep_pickup_datetime=Timestamp('2020-01-29 23:07:37'), PULocationID=127, DOLocationID=74, trip_distance=6.03, predicted_duration=30.150000000000002),\n",
       " Pandas(Index=431, VendorID=nan, lpep_pickup_datetime=Timestamp('2020-01-16 08:38:00'), PULocationID=71, DOLocationID=26, trip_distance=4.45, predicted_duration=22.25),\n",
       " Pandas(Index=432, VendorID=nan, lpep_pickup_datetime=Timestamp('2020-01-27 21:02:00'), PULocationID=136, DOLocationID=225, trip_distance=23.16, predicted_duration=115.8),\n",
       " Pandas(Index=433, VendorID=2.0, lpep_pickup_datetime=Timestamp('2020-01-18 06:51:13'), PULocationID=244, DOLocationID=116, trip_distance=0.92, predicted_duration=4.6000000000000005),\n",
       " Pandas(Index=434, VendorID=2.0, lpep_pickup_datetime=Timestamp('2020-01-04 18:15:08'), PULocationID=244, DOLocationID=243, trip_distance=1.26, predicted_duration=6.3),\n",
       " Pandas(Index=435, VendorID=2.0, lpep_pickup_datetime=Timestamp('2020-01-28 14:05:45'), PULocationID=69, DOLocationID=69, trip_distance=0.67, predicted_duration=3.35),\n",
       " Pandas(Index=436, VendorID=nan, lpep_pickup_datetime=Timestamp('2020-01-23 09:03:00'), PULocationID=76, DOLocationID=37, trip_distance=5.05, predicted_duration=25.25),\n",
       " Pandas(Index=437, VendorID=2.0, lpep_pickup_datetime=Timestamp('2020-01-30 10:29:49'), PULocationID=75, DOLocationID=263, trip_distance=1.98, predicted_duration=9.9),\n",
       " Pandas(Index=438, VendorID=nan, lpep_pickup_datetime=Timestamp('2020-01-14 11:47:00'), PULocationID=85, DOLocationID=97, trip_distance=3.95, predicted_duration=19.75),\n",
       " Pandas(Index=439, VendorID=2.0, lpep_pickup_datetime=Timestamp('2020-01-17 09:59:44'), PULocationID=7, DOLocationID=7, trip_distance=0.75, predicted_duration=3.75),\n",
       " Pandas(Index=440, VendorID=2.0, lpep_pickup_datetime=Timestamp('2020-01-08 12:55:31'), PULocationID=181, DOLocationID=181, trip_distance=0.56, predicted_duration=2.8000000000000003),\n",
       " Pandas(Index=441, VendorID=nan, lpep_pickup_datetime=Timestamp('2020-01-13 11:10:00'), PULocationID=188, DOLocationID=65, trip_distance=3.24, predicted_duration=16.200000000000003),\n",
       " Pandas(Index=442, VendorID=2.0, lpep_pickup_datetime=Timestamp('2020-01-05 02:06:20'), PULocationID=255, DOLocationID=17, trip_distance=2.03, predicted_duration=10.149999999999999),\n",
       " Pandas(Index=443, VendorID=2.0, lpep_pickup_datetime=Timestamp('2020-01-09 10:50:21'), PULocationID=95, DOLocationID=95, trip_distance=0.82, predicted_duration=4.1),\n",
       " Pandas(Index=444, VendorID=2.0, lpep_pickup_datetime=Timestamp('2020-01-10 19:21:00'), PULocationID=82, DOLocationID=82, trip_distance=0.67, predicted_duration=3.35),\n",
       " Pandas(Index=445, VendorID=nan, lpep_pickup_datetime=Timestamp('2020-01-21 10:43:00'), PULocationID=17, DOLocationID=177, trip_distance=1.94, predicted_duration=9.7),\n",
       " Pandas(Index=446, VendorID=2.0, lpep_pickup_datetime=Timestamp('2020-01-28 19:18:01'), PULocationID=42, DOLocationID=42, trip_distance=1.23, predicted_duration=6.15),\n",
       " Pandas(Index=447, VendorID=nan, lpep_pickup_datetime=Timestamp('2020-01-13 17:13:00'), PULocationID=137, DOLocationID=61, trip_distance=7.95, predicted_duration=39.75),\n",
       " Pandas(Index=448, VendorID=2.0, lpep_pickup_datetime=Timestamp('2020-01-17 15:03:05'), PULocationID=82, DOLocationID=83, trip_distance=1.08, predicted_duration=5.4),\n",
       " Pandas(Index=449, VendorID=2.0, lpep_pickup_datetime=Timestamp('2020-01-11 19:40:11'), PULocationID=166, DOLocationID=41, trip_distance=0.87, predicted_duration=4.35),\n",
       " Pandas(Index=450, VendorID=nan, lpep_pickup_datetime=Timestamp('2020-01-09 06:06:00'), PULocationID=69, DOLocationID=78, trip_distance=2.93, predicted_duration=14.65),\n",
       " Pandas(Index=451, VendorID=nan, lpep_pickup_datetime=Timestamp('2020-01-07 21:31:00'), PULocationID=63, DOLocationID=168, trip_distance=13.06, predicted_duration=65.3),\n",
       " Pandas(Index=452, VendorID=2.0, lpep_pickup_datetime=Timestamp('2020-01-06 18:33:32'), PULocationID=196, DOLocationID=56, trip_distance=0.44, predicted_duration=2.2),\n",
       " Pandas(Index=453, VendorID=2.0, lpep_pickup_datetime=Timestamp('2020-01-31 18:58:47'), PULocationID=95, DOLocationID=95, trip_distance=1.73, predicted_duration=8.65),\n",
       " Pandas(Index=454, VendorID=nan, lpep_pickup_datetime=Timestamp('2020-01-28 10:17:00'), PULocationID=134, DOLocationID=192, trip_distance=3.76, predicted_duration=18.799999999999997),\n",
       " Pandas(Index=455, VendorID=2.0, lpep_pickup_datetime=Timestamp('2020-01-09 22:07:43'), PULocationID=82, DOLocationID=223, trip_distance=2.21, predicted_duration=11.05),\n",
       " Pandas(Index=456, VendorID=2.0, lpep_pickup_datetime=Timestamp('2020-01-02 17:34:50'), PULocationID=41, DOLocationID=42, trip_distance=1.14, predicted_duration=5.699999999999999),\n",
       " Pandas(Index=457, VendorID=2.0, lpep_pickup_datetime=Timestamp('2020-01-23 14:40:20'), PULocationID=33, DOLocationID=97, trip_distance=1.24, predicted_duration=6.2),\n",
       " Pandas(Index=458, VendorID=2.0, lpep_pickup_datetime=Timestamp('2020-01-07 21:12:50'), PULocationID=82, DOLocationID=129, trip_distance=1.33, predicted_duration=6.65),\n",
       " Pandas(Index=459, VendorID=2.0, lpep_pickup_datetime=Timestamp('2020-01-11 17:37:00'), PULocationID=75, DOLocationID=74, trip_distance=1.29, predicted_duration=6.45),\n",
       " Pandas(Index=460, VendorID=nan, lpep_pickup_datetime=Timestamp('2020-01-06 16:12:00'), PULocationID=75, DOLocationID=42, trip_distance=2.18, predicted_duration=10.9),\n",
       " Pandas(Index=461, VendorID=2.0, lpep_pickup_datetime=Timestamp('2020-01-18 02:07:00'), PULocationID=129, DOLocationID=129, trip_distance=0.35, predicted_duration=1.75),\n",
       " Pandas(Index=462, VendorID=nan, lpep_pickup_datetime=Timestamp('2020-01-05 11:21:00'), PULocationID=145, DOLocationID=182, trip_distance=13.89, predicted_duration=69.45),\n",
       " Pandas(Index=463, VendorID=2.0, lpep_pickup_datetime=Timestamp('2020-01-30 11:41:36'), PULocationID=33, DOLocationID=33, trip_distance=0.63, predicted_duration=3.15),\n",
       " Pandas(Index=464, VendorID=nan, lpep_pickup_datetime=Timestamp('2020-01-27 23:53:00'), PULocationID=247, DOLocationID=81, trip_distance=8.19, predicted_duration=40.949999999999996),\n",
       " Pandas(Index=465, VendorID=nan, lpep_pickup_datetime=Timestamp('2020-01-21 07:07:00'), PULocationID=167, DOLocationID=45, trip_distance=15.0, predicted_duration=75.0),\n",
       " Pandas(Index=466, VendorID=nan, lpep_pickup_datetime=Timestamp('2020-01-24 16:14:00'), PULocationID=231, DOLocationID=129, trip_distance=11.23, predicted_duration=56.150000000000006),\n",
       " Pandas(Index=467, VendorID=2.0, lpep_pickup_datetime=Timestamp('2020-01-19 19:21:52'), PULocationID=129, DOLocationID=129, trip_distance=0.55, predicted_duration=2.75),\n",
       " Pandas(Index=468, VendorID=nan, lpep_pickup_datetime=Timestamp('2020-01-16 14:27:00'), PULocationID=123, DOLocationID=75, trip_distance=21.99, predicted_duration=109.94999999999999),\n",
       " Pandas(Index=469, VendorID=nan, lpep_pickup_datetime=Timestamp('2020-01-10 10:47:00'), PULocationID=72, DOLocationID=181, trip_distance=5.09, predicted_duration=25.45),\n",
       " Pandas(Index=470, VendorID=1.0, lpep_pickup_datetime=Timestamp('2020-01-07 17:49:16'), PULocationID=166, DOLocationID=41, trip_distance=0.7, predicted_duration=3.5),\n",
       " Pandas(Index=471, VendorID=2.0, lpep_pickup_datetime=Timestamp('2020-01-17 19:31:11'), PULocationID=74, DOLocationID=41, trip_distance=0.71, predicted_duration=3.55),\n",
       " Pandas(Index=472, VendorID=nan, lpep_pickup_datetime=Timestamp('2020-01-10 21:06:00'), PULocationID=41, DOLocationID=51, trip_distance=11.45, predicted_duration=57.25),\n",
       " Pandas(Index=473, VendorID=1.0, lpep_pickup_datetime=Timestamp('2020-01-09 17:13:37'), PULocationID=75, DOLocationID=238, trip_distance=2.0, predicted_duration=10.0),\n",
       " Pandas(Index=474, VendorID=1.0, lpep_pickup_datetime=Timestamp('2020-01-03 11:52:15'), PULocationID=75, DOLocationID=142, trip_distance=2.4, predicted_duration=12.0),\n",
       " Pandas(Index=475, VendorID=2.0, lpep_pickup_datetime=Timestamp('2020-01-24 23:12:23'), PULocationID=42, DOLocationID=74, trip_distance=0.45, predicted_duration=2.25),\n",
       " Pandas(Index=476, VendorID=2.0, lpep_pickup_datetime=Timestamp('2020-01-12 07:19:34'), PULocationID=166, DOLocationID=138, trip_distance=7.82, predicted_duration=39.1),\n",
       " Pandas(Index=477, VendorID=1.0, lpep_pickup_datetime=Timestamp('2020-01-07 13:11:45'), PULocationID=74, DOLocationID=236, trip_distance=1.7, predicted_duration=8.5),\n",
       " Pandas(Index=478, VendorID=2.0, lpep_pickup_datetime=Timestamp('2020-01-26 10:17:41'), PULocationID=244, DOLocationID=249, trip_distance=7.89, predicted_duration=39.449999999999996),\n",
       " Pandas(Index=479, VendorID=2.0, lpep_pickup_datetime=Timestamp('2020-01-06 14:28:14'), PULocationID=52, DOLocationID=237, trip_distance=8.4, predicted_duration=42.0),\n",
       " Pandas(Index=480, VendorID=nan, lpep_pickup_datetime=Timestamp('2020-01-13 21:09:00'), PULocationID=56, DOLocationID=56, trip_distance=0.94, predicted_duration=4.699999999999999),\n",
       " Pandas(Index=481, VendorID=1.0, lpep_pickup_datetime=Timestamp('2020-01-16 11:36:10'), PULocationID=71, DOLocationID=89, trip_distance=0.0, predicted_duration=0.0),\n",
       " Pandas(Index=482, VendorID=1.0, lpep_pickup_datetime=Timestamp('2020-01-02 23:52:55'), PULocationID=75, DOLocationID=168, trip_distance=2.5, predicted_duration=12.5),\n",
       " Pandas(Index=483, VendorID=nan, lpep_pickup_datetime=Timestamp('2020-01-27 10:00:00'), PULocationID=139, DOLocationID=139, trip_distance=1.28, predicted_duration=6.4),\n",
       " Pandas(Index=484, VendorID=2.0, lpep_pickup_datetime=Timestamp('2020-01-04 19:22:28'), PULocationID=41, DOLocationID=42, trip_distance=0.92, predicted_duration=4.6000000000000005),\n",
       " Pandas(Index=485, VendorID=2.0, lpep_pickup_datetime=Timestamp('2020-01-31 21:16:25'), PULocationID=255, DOLocationID=49, trip_distance=2.52, predicted_duration=12.6),\n",
       " Pandas(Index=486, VendorID=2.0, lpep_pickup_datetime=Timestamp('2020-01-16 14:40:30'), PULocationID=145, DOLocationID=145, trip_distance=0.58, predicted_duration=2.9),\n",
       " Pandas(Index=487, VendorID=1.0, lpep_pickup_datetime=Timestamp('2020-01-02 08:51:59'), PULocationID=74, DOLocationID=75, trip_distance=1.2, predicted_duration=6.0),\n",
       " Pandas(Index=488, VendorID=2.0, lpep_pickup_datetime=Timestamp('2020-01-31 01:49:57'), PULocationID=223, DOLocationID=223, trip_distance=1.11, predicted_duration=5.550000000000001),\n",
       " Pandas(Index=489, VendorID=1.0, lpep_pickup_datetime=Timestamp('2020-01-16 08:48:53'), PULocationID=145, DOLocationID=68, trip_distance=3.9, predicted_duration=19.5),\n",
       " Pandas(Index=490, VendorID=1.0, lpep_pickup_datetime=Timestamp('2020-01-17 11:19:56'), PULocationID=260, DOLocationID=7, trip_distance=1.6, predicted_duration=8.0),\n",
       " Pandas(Index=491, VendorID=2.0, lpep_pickup_datetime=Timestamp('2020-01-28 08:34:15'), PULocationID=74, DOLocationID=166, trip_distance=1.72, predicted_duration=8.6),\n",
       " Pandas(Index=492, VendorID=2.0, lpep_pickup_datetime=Timestamp('2020-01-05 18:38:01'), PULocationID=75, DOLocationID=74, trip_distance=1.38, predicted_duration=6.8999999999999995),\n",
       " Pandas(Index=493, VendorID=2.0, lpep_pickup_datetime=Timestamp('2020-01-02 11:44:23'), PULocationID=75, DOLocationID=237, trip_distance=1.88, predicted_duration=9.399999999999999),\n",
       " Pandas(Index=494, VendorID=2.0, lpep_pickup_datetime=Timestamp('2020-01-12 16:35:31'), PULocationID=74, DOLocationID=24, trip_distance=2.17, predicted_duration=10.85),\n",
       " Pandas(Index=495, VendorID=2.0, lpep_pickup_datetime=Timestamp('2020-01-23 09:02:05'), PULocationID=166, DOLocationID=166, trip_distance=0.6, predicted_duration=3.0),\n",
       " Pandas(Index=496, VendorID=1.0, lpep_pickup_datetime=Timestamp('2020-01-28 21:07:13'), PULocationID=75, DOLocationID=151, trip_distance=0.8, predicted_duration=4.0),\n",
       " Pandas(Index=497, VendorID=1.0, lpep_pickup_datetime=Timestamp('2020-01-24 11:33:01'), PULocationID=244, DOLocationID=244, trip_distance=0.9, predicted_duration=4.5),\n",
       " Pandas(Index=498, VendorID=2.0, lpep_pickup_datetime=Timestamp('2020-01-07 13:09:09'), PULocationID=66, DOLocationID=231, trip_distance=1.6, predicted_duration=8.0),\n",
       " Pandas(Index=499, VendorID=2.0, lpep_pickup_datetime=Timestamp('2020-01-05 19:32:46'), PULocationID=7, DOLocationID=226, trip_distance=1.29, predicted_duration=6.45),\n",
       " Pandas(Index=500, VendorID=2.0, lpep_pickup_datetime=Timestamp('2020-01-21 06:31:57'), PULocationID=33, DOLocationID=37, trip_distance=4.37, predicted_duration=21.85),\n",
       " Pandas(Index=501, VendorID=2.0, lpep_pickup_datetime=Timestamp('2020-01-27 16:53:24'), PULocationID=41, DOLocationID=42, trip_distance=0.91, predicted_duration=4.55),\n",
       " Pandas(Index=502, VendorID=2.0, lpep_pickup_datetime=Timestamp('2020-01-01 23:55:23'), PULocationID=130, DOLocationID=198, trip_distance=6.67, predicted_duration=33.35),\n",
       " Pandas(Index=503, VendorID=2.0, lpep_pickup_datetime=Timestamp('2020-01-14 20:37:45'), PULocationID=95, DOLocationID=28, trip_distance=2.64, predicted_duration=13.200000000000001),\n",
       " Pandas(Index=504, VendorID=1.0, lpep_pickup_datetime=Timestamp('2020-01-17 19:39:32'), PULocationID=66, DOLocationID=181, trip_distance=3.0, predicted_duration=15.0),\n",
       " Pandas(Index=505, VendorID=2.0, lpep_pickup_datetime=Timestamp('2020-01-29 18:48:34'), PULocationID=52, DOLocationID=181, trip_distance=1.62, predicted_duration=8.100000000000001),\n",
       " Pandas(Index=506, VendorID=2.0, lpep_pickup_datetime=Timestamp('2020-01-27 09:46:26'), PULocationID=33, DOLocationID=25, trip_distance=1.03, predicted_duration=5.15),\n",
       " Pandas(Index=507, VendorID=2.0, lpep_pickup_datetime=Timestamp('2020-01-18 15:46:54'), PULocationID=129, DOLocationID=157, trip_distance=1.68, predicted_duration=8.4),\n",
       " Pandas(Index=508, VendorID=nan, lpep_pickup_datetime=Timestamp('2020-01-04 13:10:00'), PULocationID=35, DOLocationID=168, trip_distance=17.45, predicted_duration=87.25),\n",
       " Pandas(Index=509, VendorID=1.0, lpep_pickup_datetime=Timestamp('2020-01-02 02:45:21'), PULocationID=166, DOLocationID=246, trip_distance=4.1, predicted_duration=20.5),\n",
       " Pandas(Index=510, VendorID=2.0, lpep_pickup_datetime=Timestamp('2020-01-22 17:43:18'), PULocationID=25, DOLocationID=181, trip_distance=1.54, predicted_duration=7.7),\n",
       " Pandas(Index=511, VendorID=2.0, lpep_pickup_datetime=Timestamp('2020-01-03 14:46:35'), PULocationID=130, DOLocationID=191, trip_distance=2.87, predicted_duration=14.350000000000001),\n",
       " Pandas(Index=512, VendorID=2.0, lpep_pickup_datetime=Timestamp('2020-01-16 07:23:24'), PULocationID=74, DOLocationID=75, trip_distance=0.84, predicted_duration=4.2),\n",
       " Pandas(Index=513, VendorID=2.0, lpep_pickup_datetime=Timestamp('2020-01-06 13:04:34'), PULocationID=74, DOLocationID=141, trip_distance=2.51, predicted_duration=12.549999999999999),\n",
       " Pandas(Index=514, VendorID=2.0, lpep_pickup_datetime=Timestamp('2020-01-31 11:04:37'), PULocationID=106, DOLocationID=181, trip_distance=0.32, predicted_duration=1.6),\n",
       " Pandas(Index=515, VendorID=nan, lpep_pickup_datetime=Timestamp('2020-01-21 12:30:00'), PULocationID=29, DOLocationID=35, trip_distance=10.98, predicted_duration=54.900000000000006),\n",
       " Pandas(Index=516, VendorID=2.0, lpep_pickup_datetime=Timestamp('2020-01-09 18:22:29'), PULocationID=97, DOLocationID=97, trip_distance=0.55, predicted_duration=2.75),\n",
       " Pandas(Index=517, VendorID=1.0, lpep_pickup_datetime=Timestamp('2020-01-22 01:05:48'), PULocationID=74, DOLocationID=166, trip_distance=1.4, predicted_duration=7.0),\n",
       " Pandas(Index=518, VendorID=2.0, lpep_pickup_datetime=Timestamp('2020-01-15 16:15:39'), PULocationID=66, DOLocationID=186, trip_distance=5.04, predicted_duration=25.2),\n",
       " Pandas(Index=519, VendorID=2.0, lpep_pickup_datetime=Timestamp('2020-01-19 23:26:00'), PULocationID=223, DOLocationID=129, trip_distance=2.49, predicted_duration=12.450000000000001),\n",
       " Pandas(Index=520, VendorID=2.0, lpep_pickup_datetime=Timestamp('2020-01-15 19:29:03'), PULocationID=166, DOLocationID=238, trip_distance=1.52, predicted_duration=7.6),\n",
       " Pandas(Index=521, VendorID=1.0, lpep_pickup_datetime=Timestamp('2020-01-15 17:22:37'), PULocationID=83, DOLocationID=129, trip_distance=0.3, predicted_duration=1.5),\n",
       " Pandas(Index=522, VendorID=2.0, lpep_pickup_datetime=Timestamp('2020-01-11 03:34:32'), PULocationID=82, DOLocationID=56, trip_distance=2.19, predicted_duration=10.95),\n",
       " Pandas(Index=523, VendorID=2.0, lpep_pickup_datetime=Timestamp('2020-01-06 08:45:37'), PULocationID=24, DOLocationID=166, trip_distance=0.74, predicted_duration=3.7),\n",
       " Pandas(Index=524, VendorID=2.0, lpep_pickup_datetime=Timestamp('2020-01-22 08:34:01'), PULocationID=24, DOLocationID=75, trip_distance=1.06, predicted_duration=5.300000000000001),\n",
       " Pandas(Index=525, VendorID=1.0, lpep_pickup_datetime=Timestamp('2020-01-15 18:33:57'), PULocationID=61, DOLocationID=61, trip_distance=3.7, predicted_duration=18.5),\n",
       " Pandas(Index=526, VendorID=nan, lpep_pickup_datetime=Timestamp('2020-01-04 19:35:00'), PULocationID=181, DOLocationID=80, trip_distance=4.09, predicted_duration=20.45),\n",
       " Pandas(Index=527, VendorID=2.0, lpep_pickup_datetime=Timestamp('2020-01-12 18:15:38'), PULocationID=43, DOLocationID=75, trip_distance=1.39, predicted_duration=6.949999999999999),\n",
       " Pandas(Index=528, VendorID=2.0, lpep_pickup_datetime=Timestamp('2020-01-14 14:20:59'), PULocationID=82, DOLocationID=70, trip_distance=2.42, predicted_duration=12.1),\n",
       " Pandas(Index=529, VendorID=1.0, lpep_pickup_datetime=Timestamp('2020-01-23 10:51:16'), PULocationID=225, DOLocationID=14, trip_distance=0.0, predicted_duration=0.0),\n",
       " Pandas(Index=530, VendorID=1.0, lpep_pickup_datetime=Timestamp('2020-01-25 19:05:25'), PULocationID=74, DOLocationID=75, trip_distance=0.0, predicted_duration=0.0),\n",
       " Pandas(Index=531, VendorID=2.0, lpep_pickup_datetime=Timestamp('2020-01-08 23:05:05'), PULocationID=75, DOLocationID=74, trip_distance=1.17, predicted_duration=5.85),\n",
       " Pandas(Index=532, VendorID=nan, lpep_pickup_datetime=Timestamp('2020-01-28 16:46:00'), PULocationID=133, DOLocationID=165, trip_distance=1.96, predicted_duration=9.8),\n",
       " Pandas(Index=533, VendorID=2.0, lpep_pickup_datetime=Timestamp('2020-01-16 20:33:29'), PULocationID=97, DOLocationID=17, trip_distance=2.25, predicted_duration=11.25),\n",
       " Pandas(Index=534, VendorID=2.0, lpep_pickup_datetime=Timestamp('2020-01-24 08:55:55'), PULocationID=74, DOLocationID=247, trip_distance=3.06, predicted_duration=15.3),\n",
       " Pandas(Index=535, VendorID=2.0, lpep_pickup_datetime=Timestamp('2020-01-07 14:58:24'), PULocationID=244, DOLocationID=151, trip_distance=3.51, predicted_duration=17.549999999999997),\n",
       " Pandas(Index=536, VendorID=2.0, lpep_pickup_datetime=Timestamp('2020-01-13 12:52:33'), PULocationID=7, DOLocationID=146, trip_distance=1.65, predicted_duration=8.25),\n",
       " Pandas(Index=537, VendorID=nan, lpep_pickup_datetime=Timestamp('2020-01-12 21:03:00'), PULocationID=254, DOLocationID=177, trip_distance=19.75, predicted_duration=98.75),\n",
       " Pandas(Index=538, VendorID=1.0, lpep_pickup_datetime=Timestamp('2020-01-09 19:08:42'), PULocationID=82, DOLocationID=82, trip_distance=0.9, predicted_duration=4.5),\n",
       " Pandas(Index=539, VendorID=2.0, lpep_pickup_datetime=Timestamp('2020-01-18 02:05:50'), PULocationID=17, DOLocationID=17, trip_distance=0.6, predicted_duration=3.0),\n",
       " Pandas(Index=540, VendorID=2.0, lpep_pickup_datetime=Timestamp('2020-01-05 07:02:39'), PULocationID=95, DOLocationID=95, trip_distance=1.34, predicted_duration=6.7),\n",
       " Pandas(Index=541, VendorID=2.0, lpep_pickup_datetime=Timestamp('2020-01-27 17:38:28'), PULocationID=43, DOLocationID=238, trip_distance=1.11, predicted_duration=5.550000000000001),\n",
       " Pandas(Index=542, VendorID=1.0, lpep_pickup_datetime=Timestamp('2020-01-30 08:31:03'), PULocationID=42, DOLocationID=166, trip_distance=2.4, predicted_duration=12.0),\n",
       " Pandas(Index=543, VendorID=nan, lpep_pickup_datetime=Timestamp('2020-01-27 16:01:00'), PULocationID=22, DOLocationID=217, trip_distance=9.51, predicted_duration=47.55),\n",
       " Pandas(Index=544, VendorID=2.0, lpep_pickup_datetime=Timestamp('2020-01-08 01:30:26'), PULocationID=82, DOLocationID=82, trip_distance=1.36, predicted_duration=6.800000000000001),\n",
       " Pandas(Index=545, VendorID=2.0, lpep_pickup_datetime=Timestamp('2020-01-30 16:58:12'), PULocationID=42, DOLocationID=166, trip_distance=1.14, predicted_duration=5.699999999999999),\n",
       " Pandas(Index=546, VendorID=2.0, lpep_pickup_datetime=Timestamp('2020-01-19 08:39:15'), PULocationID=41, DOLocationID=116, trip_distance=1.43, predicted_duration=7.1499999999999995),\n",
       " Pandas(Index=547, VendorID=2.0, lpep_pickup_datetime=Timestamp('2020-01-07 13:17:55'), PULocationID=17, DOLocationID=61, trip_distance=0.83, predicted_duration=4.1499999999999995),\n",
       " Pandas(Index=548, VendorID=2.0, lpep_pickup_datetime=Timestamp('2020-01-20 20:13:47'), PULocationID=41, DOLocationID=41, trip_distance=0.46, predicted_duration=2.3000000000000003),\n",
       " Pandas(Index=549, VendorID=2.0, lpep_pickup_datetime=Timestamp('2020-01-31 14:06:50'), PULocationID=97, DOLocationID=65, trip_distance=0.88, predicted_duration=4.4),\n",
       " Pandas(Index=550, VendorID=nan, lpep_pickup_datetime=Timestamp('2020-01-10 11:30:00'), PULocationID=210, DOLocationID=39, trip_distance=5.7, predicted_duration=28.5),\n",
       " Pandas(Index=551, VendorID=2.0, lpep_pickup_datetime=Timestamp('2020-01-27 20:22:36'), PULocationID=166, DOLocationID=262, trip_distance=4.58, predicted_duration=22.9),\n",
       " Pandas(Index=552, VendorID=nan, lpep_pickup_datetime=Timestamp('2020-01-03 22:11:00'), PULocationID=7, DOLocationID=218, trip_distance=13.53, predicted_duration=67.64999999999999),\n",
       " Pandas(Index=553, VendorID=2.0, lpep_pickup_datetime=Timestamp('2020-01-29 18:18:14'), PULocationID=196, DOLocationID=95, trip_distance=1.83, predicted_duration=9.15),\n",
       " Pandas(Index=554, VendorID=nan, lpep_pickup_datetime=Timestamp('2020-01-07 09:00:00'), PULocationID=11, DOLocationID=170, trip_distance=15.59, predicted_duration=77.95),\n",
       " Pandas(Index=555, VendorID=nan, lpep_pickup_datetime=Timestamp('2020-01-30 12:08:00'), PULocationID=182, DOLocationID=41, trip_distance=7.32, predicted_duration=36.6),\n",
       " Pandas(Index=556, VendorID=nan, lpep_pickup_datetime=Timestamp('2020-01-13 13:57:00'), PULocationID=33, DOLocationID=22, trip_distance=10.4, predicted_duration=52.0),\n",
       " Pandas(Index=557, VendorID=2.0, lpep_pickup_datetime=Timestamp('2020-01-08 21:40:39'), PULocationID=7, DOLocationID=7, trip_distance=0.94, predicted_duration=4.699999999999999),\n",
       " Pandas(Index=558, VendorID=2.0, lpep_pickup_datetime=Timestamp('2020-01-10 22:33:39'), PULocationID=47, DOLocationID=42, trip_distance=3.73, predicted_duration=18.65),\n",
       " Pandas(Index=559, VendorID=nan, lpep_pickup_datetime=Timestamp('2020-01-14 07:50:00'), PULocationID=72, DOLocationID=85, trip_distance=2.53, predicted_duration=12.649999999999999),\n",
       " Pandas(Index=560, VendorID=2.0, lpep_pickup_datetime=Timestamp('2020-01-04 16:25:43'), PULocationID=95, DOLocationID=130, trip_distance=3.1, predicted_duration=15.5),\n",
       " Pandas(Index=561, VendorID=2.0, lpep_pickup_datetime=Timestamp('2020-01-11 13:42:46'), PULocationID=166, DOLocationID=263, trip_distance=2.75, predicted_duration=13.75),\n",
       " Pandas(Index=562, VendorID=2.0, lpep_pickup_datetime=Timestamp('2020-01-11 22:23:55'), PULocationID=42, DOLocationID=116, trip_distance=0.57, predicted_duration=2.8499999999999996),\n",
       " Pandas(Index=563, VendorID=2.0, lpep_pickup_datetime=Timestamp('2020-01-17 18:43:04'), PULocationID=196, DOLocationID=82, trip_distance=1.24, predicted_duration=6.2),\n",
       " Pandas(Index=564, VendorID=2.0, lpep_pickup_datetime=Timestamp('2020-01-14 13:38:51'), PULocationID=75, DOLocationID=74, trip_distance=1.16, predicted_duration=5.8),\n",
       " Pandas(Index=565, VendorID=2.0, lpep_pickup_datetime=Timestamp('2020-01-06 14:52:13'), PULocationID=42, DOLocationID=42, trip_distance=0.49, predicted_duration=2.45),\n",
       " Pandas(Index=566, VendorID=2.0, lpep_pickup_datetime=Timestamp('2020-01-01 07:27:57'), PULocationID=80, DOLocationID=112, trip_distance=2.18, predicted_duration=10.9),\n",
       " Pandas(Index=567, VendorID=nan, lpep_pickup_datetime=Timestamp('2020-01-08 15:11:00'), PULocationID=61, DOLocationID=61, trip_distance=0.94, predicted_duration=4.699999999999999),\n",
       " Pandas(Index=568, VendorID=2.0, lpep_pickup_datetime=Timestamp('2020-01-26 01:18:29'), PULocationID=7, DOLocationID=223, trip_distance=1.57, predicted_duration=7.8500000000000005),\n",
       " Pandas(Index=569, VendorID=nan, lpep_pickup_datetime=Timestamp('2020-01-08 08:32:00'), PULocationID=235, DOLocationID=41, trip_distance=5.81, predicted_duration=29.049999999999997),\n",
       " Pandas(Index=570, VendorID=2.0, lpep_pickup_datetime=Timestamp('2020-01-05 20:17:48'), PULocationID=169, DOLocationID=247, trip_distance=1.17, predicted_duration=5.85),\n",
       " Pandas(Index=571, VendorID=2.0, lpep_pickup_datetime=Timestamp('2020-01-10 20:02:50'), PULocationID=36, DOLocationID=61, trip_distance=3.64, predicted_duration=18.2),\n",
       " Pandas(Index=572, VendorID=1.0, lpep_pickup_datetime=Timestamp('2020-01-26 18:47:12'), PULocationID=52, DOLocationID=97, trip_distance=1.5, predicted_duration=7.5),\n",
       " Pandas(Index=573, VendorID=1.0, lpep_pickup_datetime=Timestamp('2020-01-19 10:45:43'), PULocationID=129, DOLocationID=129, trip_distance=0.5, predicted_duration=2.5),\n",
       " Pandas(Index=574, VendorID=1.0, lpep_pickup_datetime=Timestamp('2020-01-13 19:16:22'), PULocationID=65, DOLocationID=89, trip_distance=3.2, predicted_duration=16.0),\n",
       " Pandas(Index=575, VendorID=nan, lpep_pickup_datetime=Timestamp('2020-01-13 09:46:00'), PULocationID=61, DOLocationID=17, trip_distance=2.03, predicted_duration=10.149999999999999),\n",
       " Pandas(Index=576, VendorID=1.0, lpep_pickup_datetime=Timestamp('2020-01-31 10:39:12'), PULocationID=74, DOLocationID=41, trip_distance=1.4, predicted_duration=7.0),\n",
       " Pandas(Index=577, VendorID=2.0, lpep_pickup_datetime=Timestamp('2020-01-26 08:50:36'), PULocationID=130, DOLocationID=130, trip_distance=1.12, predicted_duration=5.6000000000000005),\n",
       " Pandas(Index=578, VendorID=nan, lpep_pickup_datetime=Timestamp('2020-01-02 23:08:00'), PULocationID=82, DOLocationID=35, trip_distance=9.0, predicted_duration=45.0),\n",
       " Pandas(Index=579, VendorID=nan, lpep_pickup_datetime=Timestamp('2020-01-23 11:45:00'), PULocationID=61, DOLocationID=72, trip_distance=2.06, predicted_duration=10.3),\n",
       " Pandas(Index=580, VendorID=2.0, lpep_pickup_datetime=Timestamp('2020-01-15 04:29:17'), PULocationID=179, DOLocationID=179, trip_distance=0.75, predicted_duration=3.75),\n",
       " Pandas(Index=581, VendorID=nan, lpep_pickup_datetime=Timestamp('2020-01-30 15:13:00'), PULocationID=160, DOLocationID=160, trip_distance=0.33, predicted_duration=1.6500000000000001),\n",
       " Pandas(Index=582, VendorID=2.0, lpep_pickup_datetime=Timestamp('2020-01-13 07:09:19'), PULocationID=41, DOLocationID=142, trip_distance=2.99, predicted_duration=14.950000000000001),\n",
       " Pandas(Index=583, VendorID=2.0, lpep_pickup_datetime=Timestamp('2020-01-14 14:49:21'), PULocationID=244, DOLocationID=237, trip_distance=6.93, predicted_duration=34.65),\n",
       " Pandas(Index=584, VendorID=nan, lpep_pickup_datetime=Timestamp('2020-01-08 08:52:00'), PULocationID=32, DOLocationID=31, trip_distance=0.72, predicted_duration=3.5999999999999996),\n",
       " Pandas(Index=585, VendorID=nan, lpep_pickup_datetime=Timestamp('2020-01-01 02:30:00'), PULocationID=243, DOLocationID=136, trip_distance=2.03, predicted_duration=10.149999999999999),\n",
       " Pandas(Index=586, VendorID=1.0, lpep_pickup_datetime=Timestamp('2020-01-22 14:53:49'), PULocationID=61, DOLocationID=61, trip_distance=0.0, predicted_duration=0.0),\n",
       " Pandas(Index=587, VendorID=2.0, lpep_pickup_datetime=Timestamp('2020-01-04 02:11:02'), PULocationID=130, DOLocationID=218, trip_distance=2.87, predicted_duration=14.350000000000001),\n",
       " Pandas(Index=588, VendorID=nan, lpep_pickup_datetime=Timestamp('2020-01-09 13:26:00'), PULocationID=225, DOLocationID=38, trip_distance=13.66, predicted_duration=68.3),\n",
       " Pandas(Index=589, VendorID=2.0, lpep_pickup_datetime=Timestamp('2020-01-21 15:38:12'), PULocationID=75, DOLocationID=74, trip_distance=1.33, predicted_duration=6.65),\n",
       " Pandas(Index=590, VendorID=2.0, lpep_pickup_datetime=Timestamp('2020-01-09 12:06:03'), PULocationID=7, DOLocationID=223, trip_distance=2.34, predicted_duration=11.7),\n",
       " Pandas(Index=591, VendorID=2.0, lpep_pickup_datetime=Timestamp('2020-01-31 13:54:02'), PULocationID=95, DOLocationID=192, trip_distance=3.21, predicted_duration=16.05),\n",
       " Pandas(Index=592, VendorID=2.0, lpep_pickup_datetime=Timestamp('2020-01-10 18:49:46'), PULocationID=116, DOLocationID=79, trip_distance=8.16, predicted_duration=40.8),\n",
       " Pandas(Index=593, VendorID=nan, lpep_pickup_datetime=Timestamp('2020-01-24 09:36:00'), PULocationID=182, DOLocationID=51, trip_distance=4.79, predicted_duration=23.95),\n",
       " Pandas(Index=594, VendorID=1.0, lpep_pickup_datetime=Timestamp('2020-01-11 10:15:01'), PULocationID=212, DOLocationID=212, trip_distance=0.0, predicted_duration=0.0),\n",
       " Pandas(Index=595, VendorID=1.0, lpep_pickup_datetime=Timestamp('2020-01-10 09:19:32'), PULocationID=126, DOLocationID=69, trip_distance=0.0, predicted_duration=0.0),\n",
       " Pandas(Index=596, VendorID=2.0, lpep_pickup_datetime=Timestamp('2020-01-01 00:24:23'), PULocationID=74, DOLocationID=74, trip_distance=0.82, predicted_duration=4.1),\n",
       " Pandas(Index=597, VendorID=2.0, lpep_pickup_datetime=Timestamp('2020-01-17 17:43:26'), PULocationID=25, DOLocationID=25, trip_distance=0.51, predicted_duration=2.55),\n",
       " Pandas(Index=598, VendorID=2.0, lpep_pickup_datetime=Timestamp('2020-01-29 21:02:58'), PULocationID=75, DOLocationID=263, trip_distance=1.07, predicted_duration=5.3500000000000005),\n",
       " Pandas(Index=599, VendorID=2.0, lpep_pickup_datetime=Timestamp('2020-01-07 20:03:17'), PULocationID=92, DOLocationID=92, trip_distance=1.16, predicted_duration=5.8),\n",
       " Pandas(Index=600, VendorID=nan, lpep_pickup_datetime=Timestamp('2020-01-09 10:32:00'), PULocationID=69, DOLocationID=3, trip_distance=10.66, predicted_duration=53.3),\n",
       " Pandas(Index=601, VendorID=2.0, lpep_pickup_datetime=Timestamp('2020-02-01 00:00:23'), PULocationID=41, DOLocationID=41, trip_distance=0.85, predicted_duration=4.25),\n",
       " Pandas(Index=602, VendorID=2.0, lpep_pickup_datetime=Timestamp('2020-01-07 23:05:44'), PULocationID=95, DOLocationID=95, trip_distance=0.93, predicted_duration=4.65),\n",
       " Pandas(Index=603, VendorID=nan, lpep_pickup_datetime=Timestamp('2020-01-29 07:23:00'), PULocationID=39, DOLocationID=107, trip_distance=10.17, predicted_duration=50.85),\n",
       " Pandas(Index=604, VendorID=2.0, lpep_pickup_datetime=Timestamp('2020-01-05 01:19:31'), PULocationID=82, DOLocationID=82, trip_distance=0.04, predicted_duration=0.2),\n",
       " Pandas(Index=605, VendorID=2.0, lpep_pickup_datetime=Timestamp('2020-01-16 00:32:14'), PULocationID=146, DOLocationID=83, trip_distance=2.73, predicted_duration=13.65),\n",
       " Pandas(Index=606, VendorID=2.0, lpep_pickup_datetime=Timestamp('2020-01-06 14:19:24'), PULocationID=75, DOLocationID=74, trip_distance=1.56, predicted_duration=7.800000000000001),\n",
       " Pandas(Index=607, VendorID=2.0, lpep_pickup_datetime=Timestamp('2020-01-01 00:32:00'), PULocationID=181, DOLocationID=256, trip_distance=3.48, predicted_duration=17.4),\n",
       " Pandas(Index=608, VendorID=2.0, lpep_pickup_datetime=Timestamp('2020-01-13 03:31:01'), PULocationID=129, DOLocationID=7, trip_distance=1.6, predicted_duration=8.0),\n",
       " Pandas(Index=609, VendorID=1.0, lpep_pickup_datetime=Timestamp('2020-01-29 08:13:35'), PULocationID=216, DOLocationID=71, trip_distance=0.0, predicted_duration=0.0),\n",
       " Pandas(Index=610, VendorID=1.0, lpep_pickup_datetime=Timestamp('2020-01-10 15:51:07'), PULocationID=33, DOLocationID=61, trip_distance=3.3, predicted_duration=16.5),\n",
       " Pandas(Index=611, VendorID=2.0, lpep_pickup_datetime=Timestamp('2020-01-31 13:42:07'), PULocationID=7, DOLocationID=193, trip_distance=0.94, predicted_duration=4.699999999999999),\n",
       " Pandas(Index=612, VendorID=2.0, lpep_pickup_datetime=Timestamp('2020-01-01 03:06:46'), PULocationID=129, DOLocationID=129, trip_distance=0.45, predicted_duration=2.25),\n",
       " Pandas(Index=613, VendorID=1.0, lpep_pickup_datetime=Timestamp('2020-01-30 12:31:40'), PULocationID=83, DOLocationID=56, trip_distance=0.0, predicted_duration=0.0),\n",
       " Pandas(Index=614, VendorID=2.0, lpep_pickup_datetime=Timestamp('2020-01-04 01:18:44'), PULocationID=260, DOLocationID=90, trip_distance=7.08, predicted_duration=35.4),\n",
       " Pandas(Index=615, VendorID=2.0, lpep_pickup_datetime=Timestamp('2020-01-06 12:09:54'), PULocationID=244, DOLocationID=233, trip_distance=9.47, predicted_duration=47.35),\n",
       " Pandas(Index=616, VendorID=2.0, lpep_pickup_datetime=Timestamp('2020-01-07 21:50:54'), PULocationID=97, DOLocationID=33, trip_distance=1.31, predicted_duration=6.550000000000001),\n",
       " Pandas(Index=617, VendorID=2.0, lpep_pickup_datetime=Timestamp('2020-01-17 17:37:58'), PULocationID=74, DOLocationID=247, trip_distance=2.13, predicted_duration=10.649999999999999),\n",
       " Pandas(Index=618, VendorID=1.0, lpep_pickup_datetime=Timestamp('2020-01-09 06:37:32'), PULocationID=247, DOLocationID=243, trip_distance=1.2, predicted_duration=6.0),\n",
       " Pandas(Index=619, VendorID=2.0, lpep_pickup_datetime=Timestamp('2020-01-11 01:47:51'), PULocationID=166, DOLocationID=42, trip_distance=1.93, predicted_duration=9.65),\n",
       " Pandas(Index=620, VendorID=2.0, lpep_pickup_datetime=Timestamp('2020-01-30 11:37:42'), PULocationID=41, DOLocationID=42, trip_distance=0.97, predicted_duration=4.85),\n",
       " Pandas(Index=621, VendorID=2.0, lpep_pickup_datetime=Timestamp('2020-01-23 21:32:12'), PULocationID=189, DOLocationID=237, trip_distance=11.1, predicted_duration=55.5),\n",
       " Pandas(Index=622, VendorID=1.0, lpep_pickup_datetime=Timestamp('2020-01-09 10:49:04'), PULocationID=74, DOLocationID=42, trip_distance=0.6, predicted_duration=3.0),\n",
       " Pandas(Index=623, VendorID=2.0, lpep_pickup_datetime=Timestamp('2020-01-04 19:01:16'), PULocationID=166, DOLocationID=163, trip_distance=3.56, predicted_duration=17.8),\n",
       " Pandas(Index=624, VendorID=nan, lpep_pickup_datetime=Timestamp('2020-01-18 18:49:00'), PULocationID=63, DOLocationID=120, trip_distance=18.4, predicted_duration=92.0),\n",
       " Pandas(Index=625, VendorID=2.0, lpep_pickup_datetime=Timestamp('2020-01-31 23:03:41'), PULocationID=25, DOLocationID=61, trip_distance=3.74, predicted_duration=18.700000000000003),\n",
       " Pandas(Index=626, VendorID=2.0, lpep_pickup_datetime=Timestamp('2020-01-11 16:15:13'), PULocationID=82, DOLocationID=82, trip_distance=2.22, predicted_duration=11.100000000000001),\n",
       " Pandas(Index=627, VendorID=nan, lpep_pickup_datetime=Timestamp('2020-01-24 10:28:00'), PULocationID=25, DOLocationID=225, trip_distance=2.89, predicted_duration=14.450000000000001),\n",
       " Pandas(Index=628, VendorID=nan, lpep_pickup_datetime=Timestamp('2020-01-07 10:00:00'), PULocationID=95, DOLocationID=229, trip_distance=7.59, predicted_duration=37.95),\n",
       " Pandas(Index=629, VendorID=1.0, lpep_pickup_datetime=Timestamp('2020-01-15 19:05:11'), PULocationID=42, DOLocationID=41, trip_distance=1.3, predicted_duration=6.5),\n",
       " Pandas(Index=630, VendorID=2.0, lpep_pickup_datetime=Timestamp('2020-01-01 20:06:09'), PULocationID=42, DOLocationID=41, trip_distance=1.02, predicted_duration=5.1),\n",
       " Pandas(Index=631, VendorID=2.0, lpep_pickup_datetime=Timestamp('2020-01-03 16:57:17'), PULocationID=196, DOLocationID=145, trip_distance=6.08, predicted_duration=30.4),\n",
       " Pandas(Index=632, VendorID=1.0, lpep_pickup_datetime=Timestamp('2020-01-23 17:04:51'), PULocationID=66, DOLocationID=255, trip_distance=3.5, predicted_duration=17.5),\n",
       " Pandas(Index=633, VendorID=2.0, lpep_pickup_datetime=Timestamp('2020-01-19 12:11:49'), PULocationID=41, DOLocationID=42, trip_distance=1.11, predicted_duration=5.550000000000001),\n",
       " Pandas(Index=634, VendorID=2.0, lpep_pickup_datetime=Timestamp('2020-01-10 09:32:40'), PULocationID=83, DOLocationID=82, trip_distance=0.46, predicted_duration=2.3000000000000003),\n",
       " Pandas(Index=635, VendorID=nan, lpep_pickup_datetime=Timestamp('2020-01-03 13:37:00'), PULocationID=89, DOLocationID=72, trip_distance=2.95, predicted_duration=14.75),\n",
       " Pandas(Index=636, VendorID=2.0, lpep_pickup_datetime=Timestamp('2020-01-26 13:28:00'), PULocationID=82, DOLocationID=138, trip_distance=4.8, predicted_duration=24.0),\n",
       " Pandas(Index=637, VendorID=1.0, lpep_pickup_datetime=Timestamp('2020-01-25 03:46:38'), PULocationID=129, DOLocationID=226, trip_distance=1.8, predicted_duration=9.0),\n",
       " Pandas(Index=638, VendorID=2.0, lpep_pickup_datetime=Timestamp('2020-01-15 10:57:53'), PULocationID=177, DOLocationID=197, trip_distance=6.04, predicted_duration=30.2),\n",
       " Pandas(Index=639, VendorID=nan, lpep_pickup_datetime=Timestamp('2020-01-05 10:56:00'), PULocationID=227, DOLocationID=55, trip_distance=7.89, predicted_duration=39.449999999999996),\n",
       " Pandas(Index=640, VendorID=nan, lpep_pickup_datetime=Timestamp('2020-01-11 13:11:00'), PULocationID=53, DOLocationID=14, trip_distance=21.3, predicted_duration=106.5),\n",
       " Pandas(Index=641, VendorID=1.0, lpep_pickup_datetime=Timestamp('2020-01-05 08:42:41'), PULocationID=25, DOLocationID=52, trip_distance=0.2, predicted_duration=1.0),\n",
       " Pandas(Index=642, VendorID=2.0, lpep_pickup_datetime=Timestamp('2020-01-21 19:20:23'), PULocationID=166, DOLocationID=166, trip_distance=0.95, predicted_duration=4.75),\n",
       " Pandas(Index=643, VendorID=1.0, lpep_pickup_datetime=Timestamp('2020-01-29 08:42:26'), PULocationID=116, DOLocationID=163, trip_distance=5.8, predicted_duration=29.0),\n",
       " Pandas(Index=644, VendorID=2.0, lpep_pickup_datetime=Timestamp('2020-01-16 19:26:53'), PULocationID=42, DOLocationID=41, trip_distance=0.94, predicted_duration=4.699999999999999),\n",
       " Pandas(Index=645, VendorID=2.0, lpep_pickup_datetime=Timestamp('2020-01-10 16:40:54'), PULocationID=244, DOLocationID=113, trip_distance=9.26, predicted_duration=46.3),\n",
       " Pandas(Index=646, VendorID=2.0, lpep_pickup_datetime=Timestamp('2020-01-24 17:06:54'), PULocationID=196, DOLocationID=197, trip_distance=5.08, predicted_duration=25.4),\n",
       " Pandas(Index=647, VendorID=2.0, lpep_pickup_datetime=Timestamp('2020-01-22 06:48:01'), PULocationID=74, DOLocationID=75, trip_distance=1.24, predicted_duration=6.2),\n",
       " Pandas(Index=648, VendorID=2.0, lpep_pickup_datetime=Timestamp('2020-01-27 10:29:35'), PULocationID=74, DOLocationID=239, trip_distance=3.22, predicted_duration=16.1),\n",
       " Pandas(Index=649, VendorID=2.0, lpep_pickup_datetime=Timestamp('2020-01-14 19:17:39'), PULocationID=260, DOLocationID=223, trip_distance=2.43, predicted_duration=12.15),\n",
       " Pandas(Index=650, VendorID=2.0, lpep_pickup_datetime=Timestamp('2020-01-11 15:47:50'), PULocationID=43, DOLocationID=74, trip_distance=0.85, predicted_duration=4.25),\n",
       " Pandas(Index=651, VendorID=2.0, lpep_pickup_datetime=Timestamp('2020-01-25 12:05:22'), PULocationID=82, DOLocationID=82, trip_distance=1.35, predicted_duration=6.75),\n",
       " Pandas(Index=652, VendorID=2.0, lpep_pickup_datetime=Timestamp('2020-01-22 15:55:04'), PULocationID=177, DOLocationID=37, trip_distance=2.58, predicted_duration=12.9),\n",
       " Pandas(Index=653, VendorID=nan, lpep_pickup_datetime=Timestamp('2020-01-06 14:13:00'), PULocationID=55, DOLocationID=55, trip_distance=0.04, predicted_duration=0.2),\n",
       " Pandas(Index=654, VendorID=2.0, lpep_pickup_datetime=Timestamp('2020-01-01 01:23:21'), PULocationID=223, DOLocationID=7, trip_distance=1.37, predicted_duration=6.8500000000000005),\n",
       " Pandas(Index=655, VendorID=nan, lpep_pickup_datetime=Timestamp('2020-01-24 06:42:00'), PULocationID=63, DOLocationID=96, trip_distance=1.14, predicted_duration=5.699999999999999),\n",
       " Pandas(Index=656, VendorID=2.0, lpep_pickup_datetime=Timestamp('2020-01-24 09:53:26'), PULocationID=192, DOLocationID=131, trip_distance=3.51, predicted_duration=17.549999999999997),\n",
       " Pandas(Index=657, VendorID=2.0, lpep_pickup_datetime=Timestamp('2020-01-21 16:28:42'), PULocationID=146, DOLocationID=7, trip_distance=0.96, predicted_duration=4.8),\n",
       " Pandas(Index=658, VendorID=1.0, lpep_pickup_datetime=Timestamp('2020-01-22 18:39:36'), PULocationID=74, DOLocationID=41, trip_distance=1.2, predicted_duration=6.0),\n",
       " Pandas(Index=659, VendorID=2.0, lpep_pickup_datetime=Timestamp('2020-01-18 23:21:46'), PULocationID=7, DOLocationID=7, trip_distance=0.95, predicted_duration=4.75),\n",
       " Pandas(Index=660, VendorID=2.0, lpep_pickup_datetime=Timestamp('2020-01-03 21:58:36'), PULocationID=41, DOLocationID=42, trip_distance=0.68, predicted_duration=3.4000000000000004),\n",
       " Pandas(Index=661, VendorID=2.0, lpep_pickup_datetime=Timestamp('2020-01-22 18:35:10'), PULocationID=7, DOLocationID=179, trip_distance=0.82, predicted_duration=4.1),\n",
       " Pandas(Index=662, VendorID=1.0, lpep_pickup_datetime=Timestamp('2020-01-28 12:25:10'), PULocationID=65, DOLocationID=49, trip_distance=0.0, predicted_duration=0.0),\n",
       " Pandas(Index=663, VendorID=2.0, lpep_pickup_datetime=Timestamp('2020-01-10 14:59:49'), PULocationID=95, DOLocationID=131, trip_distance=3.99, predicted_duration=19.950000000000003),\n",
       " Pandas(Index=664, VendorID=2.0, lpep_pickup_datetime=Timestamp('2020-01-11 10:35:36'), PULocationID=152, DOLocationID=74, trip_distance=1.67, predicted_duration=8.35),\n",
       " Pandas(Index=665, VendorID=2.0, lpep_pickup_datetime=Timestamp('2020-01-13 09:18:07'), PULocationID=130, DOLocationID=197, trip_distance=1.71, predicted_duration=8.55),\n",
       " Pandas(Index=666, VendorID=2.0, lpep_pickup_datetime=Timestamp('2020-01-06 19:46:15'), PULocationID=33, DOLocationID=40, trip_distance=0.96, predicted_duration=4.8),\n",
       " Pandas(Index=667, VendorID=nan, lpep_pickup_datetime=Timestamp('2020-01-07 16:01:00'), PULocationID=226, DOLocationID=60, trip_distance=11.47, predicted_duration=57.35),\n",
       " Pandas(Index=668, VendorID=2.0, lpep_pickup_datetime=Timestamp('2020-01-21 08:01:40'), PULocationID=75, DOLocationID=75, trip_distance=0.79, predicted_duration=3.95),\n",
       " Pandas(Index=669, VendorID=nan, lpep_pickup_datetime=Timestamp('2020-01-08 16:04:00'), PULocationID=192, DOLocationID=56, trip_distance=3.29, predicted_duration=16.45),\n",
       " Pandas(Index=670, VendorID=1.0, lpep_pickup_datetime=Timestamp('2020-01-25 22:32:29'), PULocationID=41, DOLocationID=75, trip_distance=2.0, predicted_duration=10.0),\n",
       " Pandas(Index=671, VendorID=2.0, lpep_pickup_datetime=Timestamp('2020-01-29 20:30:00'), PULocationID=74, DOLocationID=41, trip_distance=1.19, predicted_duration=5.949999999999999),\n",
       " Pandas(Index=672, VendorID=1.0, lpep_pickup_datetime=Timestamp('2020-01-07 17:57:46'), PULocationID=134, DOLocationID=264, trip_distance=3.4, predicted_duration=17.0),\n",
       " Pandas(Index=673, VendorID=2.0, lpep_pickup_datetime=Timestamp('2020-01-22 08:05:44'), PULocationID=42, DOLocationID=42, trip_distance=0.6, predicted_duration=3.0),\n",
       " Pandas(Index=674, VendorID=nan, lpep_pickup_datetime=Timestamp('2020-01-29 11:20:00'), PULocationID=26, DOLocationID=14, trip_distance=3.24, predicted_duration=16.200000000000003),\n",
       " Pandas(Index=675, VendorID=2.0, lpep_pickup_datetime=Timestamp('2020-01-01 11:15:11'), PULocationID=42, DOLocationID=151, trip_distance=2.4, predicted_duration=12.0),\n",
       " Pandas(Index=676, VendorID=nan, lpep_pickup_datetime=Timestamp('2020-01-06 18:09:00'), PULocationID=159, DOLocationID=169, trip_distance=2.47, predicted_duration=12.350000000000001),\n",
       " Pandas(Index=677, VendorID=1.0, lpep_pickup_datetime=Timestamp('2020-01-21 19:25:15'), PULocationID=65, DOLocationID=257, trip_distance=4.4, predicted_duration=22.0),\n",
       " Pandas(Index=678, VendorID=nan, lpep_pickup_datetime=Timestamp('2020-01-10 12:22:00'), PULocationID=61, DOLocationID=177, trip_distance=2.11, predicted_duration=10.549999999999999),\n",
       " Pandas(Index=679, VendorID=1.0, lpep_pickup_datetime=Timestamp('2020-01-02 07:16:21'), PULocationID=60, DOLocationID=147, trip_distance=1.8, predicted_duration=9.0),\n",
       " Pandas(Index=680, VendorID=nan, lpep_pickup_datetime=Timestamp('2020-01-06 07:56:00'), PULocationID=61, DOLocationID=37, trip_distance=2.12, predicted_duration=10.600000000000001),\n",
       " Pandas(Index=681, VendorID=1.0, lpep_pickup_datetime=Timestamp('2020-01-25 19:54:13'), PULocationID=129, DOLocationID=7, trip_distance=2.2, predicted_duration=11.0),\n",
       " Pandas(Index=682, VendorID=nan, lpep_pickup_datetime=Timestamp('2020-01-16 15:28:00'), PULocationID=13, DOLocationID=139, trip_distance=21.22, predicted_duration=106.1),\n",
       " Pandas(Index=683, VendorID=nan, lpep_pickup_datetime=Timestamp('2020-01-10 22:38:00'), PULocationID=9, DOLocationID=73, trip_distance=1.34, predicted_duration=6.7),\n",
       " Pandas(Index=684, VendorID=2.0, lpep_pickup_datetime=Timestamp('2020-01-29 09:08:44'), PULocationID=41, DOLocationID=74, trip_distance=1.1, predicted_duration=5.5),\n",
       " Pandas(Index=685, VendorID=2.0, lpep_pickup_datetime=Timestamp('2020-01-19 01:48:18'), PULocationID=95, DOLocationID=160, trip_distance=2.75, predicted_duration=13.75),\n",
       " Pandas(Index=686, VendorID=2.0, lpep_pickup_datetime=Timestamp('2020-01-22 09:32:21'), PULocationID=75, DOLocationID=74, trip_distance=0.7, predicted_duration=3.5),\n",
       " Pandas(Index=687, VendorID=2.0, lpep_pickup_datetime=Timestamp('2020-01-09 19:30:17'), PULocationID=33, DOLocationID=195, trip_distance=2.18, predicted_duration=10.9),\n",
       " Pandas(Index=688, VendorID=2.0, lpep_pickup_datetime=Timestamp('2020-01-25 17:05:13'), PULocationID=82, DOLocationID=7, trip_distance=2.77, predicted_duration=13.85),\n",
       " Pandas(Index=689, VendorID=2.0, lpep_pickup_datetime=Timestamp('2020-01-02 23:02:31'), PULocationID=74, DOLocationID=141, trip_distance=2.0, predicted_duration=10.0),\n",
       " Pandas(Index=690, VendorID=2.0, lpep_pickup_datetime=Timestamp('2020-01-09 08:49:38'), PULocationID=244, DOLocationID=244, trip_distance=0.59, predicted_duration=2.9499999999999997),\n",
       " Pandas(Index=691, VendorID=2.0, lpep_pickup_datetime=Timestamp('2020-01-25 13:34:23'), PULocationID=181, DOLocationID=25, trip_distance=1.44, predicted_duration=7.199999999999999),\n",
       " Pandas(Index=692, VendorID=2.0, lpep_pickup_datetime=Timestamp('2020-01-16 17:52:01'), PULocationID=66, DOLocationID=97, trip_distance=1.78, predicted_duration=8.9),\n",
       " Pandas(Index=693, VendorID=2.0, lpep_pickup_datetime=Timestamp('2020-01-03 16:04:27'), PULocationID=196, DOLocationID=95, trip_distance=1.02, predicted_duration=5.1),\n",
       " Pandas(Index=694, VendorID=2.0, lpep_pickup_datetime=Timestamp('2020-01-28 16:44:43'), PULocationID=223, DOLocationID=223, trip_distance=1.27, predicted_duration=6.35),\n",
       " Pandas(Index=695, VendorID=2.0, lpep_pickup_datetime=Timestamp('2020-01-07 19:33:02'), PULocationID=41, DOLocationID=116, trip_distance=2.22, predicted_duration=11.100000000000001),\n",
       " Pandas(Index=696, VendorID=2.0, lpep_pickup_datetime=Timestamp('2020-01-23 21:48:31'), PULocationID=256, DOLocationID=49, trip_distance=1.98, predicted_duration=9.9),\n",
       " Pandas(Index=697, VendorID=2.0, lpep_pickup_datetime=Timestamp('2020-01-25 13:54:04'), PULocationID=244, DOLocationID=166, trip_distance=2.05, predicted_duration=10.25),\n",
       " Pandas(Index=698, VendorID=2.0, lpep_pickup_datetime=Timestamp('2020-01-12 22:31:36'), PULocationID=75, DOLocationID=244, trip_distance=3.82, predicted_duration=19.099999999999998),\n",
       " Pandas(Index=699, VendorID=2.0, lpep_pickup_datetime=Timestamp('2020-01-20 10:40:23'), PULocationID=75, DOLocationID=74, trip_distance=0.76, predicted_duration=3.8),\n",
       " Pandas(Index=700, VendorID=2.0, lpep_pickup_datetime=Timestamp('2020-01-13 20:14:07'), PULocationID=95, DOLocationID=95, trip_distance=0.55, predicted_duration=2.75),\n",
       " Pandas(Index=701, VendorID=2.0, lpep_pickup_datetime=Timestamp('2020-01-08 20:39:30'), PULocationID=33, DOLocationID=79, trip_distance=5.49, predicted_duration=27.450000000000003),\n",
       " Pandas(Index=702, VendorID=2.0, lpep_pickup_datetime=Timestamp('2020-01-24 18:38:11'), PULocationID=166, DOLocationID=75, trip_distance=2.12, predicted_duration=10.600000000000001),\n",
       " Pandas(Index=703, VendorID=1.0, lpep_pickup_datetime=Timestamp('2020-01-14 18:51:39'), PULocationID=9, DOLocationID=179, trip_distance=0.0, predicted_duration=0.0),\n",
       " Pandas(Index=704, VendorID=2.0, lpep_pickup_datetime=Timestamp('2020-01-23 08:41:56'), PULocationID=145, DOLocationID=112, trip_distance=1.84, predicted_duration=9.200000000000001),\n",
       " Pandas(Index=705, VendorID=2.0, lpep_pickup_datetime=Timestamp('2020-01-10 10:48:57'), PULocationID=166, DOLocationID=74, trip_distance=1.91, predicted_duration=9.549999999999999),\n",
       " Pandas(Index=706, VendorID=nan, lpep_pickup_datetime=Timestamp('2020-01-11 23:30:00'), PULocationID=17, DOLocationID=76, trip_distance=5.16, predicted_duration=25.8),\n",
       " Pandas(Index=707, VendorID=2.0, lpep_pickup_datetime=Timestamp('2020-01-28 18:57:10'), PULocationID=75, DOLocationID=74, trip_distance=1.34, predicted_duration=6.7),\n",
       " Pandas(Index=708, VendorID=1.0, lpep_pickup_datetime=Timestamp('2020-01-13 12:49:17'), PULocationID=169, DOLocationID=212, trip_distance=0.0, predicted_duration=0.0),\n",
       " Pandas(Index=709, VendorID=2.0, lpep_pickup_datetime=Timestamp('2020-01-04 23:09:19'), PULocationID=95, DOLocationID=95, trip_distance=0.0, predicted_duration=0.0),\n",
       " Pandas(Index=710, VendorID=nan, lpep_pickup_datetime=Timestamp('2020-01-31 14:48:00'), PULocationID=136, DOLocationID=254, trip_distance=5.05, predicted_duration=25.25),\n",
       " Pandas(Index=711, VendorID=1.0, lpep_pickup_datetime=Timestamp('2020-01-10 08:58:46'), PULocationID=75, DOLocationID=137, trip_distance=5.5, predicted_duration=27.5),\n",
       " Pandas(Index=712, VendorID=nan, lpep_pickup_datetime=Timestamp('2020-01-03 06:35:00'), PULocationID=49, DOLocationID=145, trip_distance=5.28, predicted_duration=26.400000000000002),\n",
       " Pandas(Index=713, VendorID=1.0, lpep_pickup_datetime=Timestamp('2020-01-29 23:12:14'), PULocationID=21, DOLocationID=21, trip_distance=0.0, predicted_duration=0.0),\n",
       " Pandas(Index=714, VendorID=nan, lpep_pickup_datetime=Timestamp('2020-01-23 12:47:00'), PULocationID=174, DOLocationID=51, trip_distance=4.2, predicted_duration=21.0),\n",
       " Pandas(Index=715, VendorID=2.0, lpep_pickup_datetime=Timestamp('2020-01-23 19:56:59'), PULocationID=25, DOLocationID=34, trip_distance=2.05, predicted_duration=10.25),\n",
       " Pandas(Index=716, VendorID=2.0, lpep_pickup_datetime=Timestamp('2020-01-30 19:47:56'), PULocationID=95, DOLocationID=82, trip_distance=2.12, predicted_duration=10.600000000000001),\n",
       " Pandas(Index=717, VendorID=1.0, lpep_pickup_datetime=Timestamp('2020-01-31 20:29:29'), PULocationID=65, DOLocationID=188, trip_distance=2.6, predicted_duration=13.0),\n",
       " Pandas(Index=718, VendorID=2.0, lpep_pickup_datetime=Timestamp('2020-01-14 16:20:16'), PULocationID=95, DOLocationID=95, trip_distance=0.51, predicted_duration=2.55),\n",
       " Pandas(Index=719, VendorID=1.0, lpep_pickup_datetime=Timestamp('2020-01-07 03:17:12'), PULocationID=244, DOLocationID=116, trip_distance=1.5, predicted_duration=7.5),\n",
       " Pandas(Index=720, VendorID=nan, lpep_pickup_datetime=Timestamp('2020-01-24 09:40:00'), PULocationID=216, DOLocationID=196, trip_distance=5.62, predicted_duration=28.1),\n",
       " Pandas(Index=721, VendorID=2.0, lpep_pickup_datetime=Timestamp('2020-01-12 18:49:05'), PULocationID=95, DOLocationID=95, trip_distance=7.74, predicted_duration=38.7),\n",
       " Pandas(Index=722, VendorID=nan, lpep_pickup_datetime=Timestamp('2020-01-06 10:41:00'), PULocationID=95, DOLocationID=95, trip_distance=1.81, predicted_duration=9.05),\n",
       " Pandas(Index=723, VendorID=1.0, lpep_pickup_datetime=Timestamp('2020-01-30 13:17:05'), PULocationID=74, DOLocationID=75, trip_distance=1.2, predicted_duration=6.0),\n",
       " Pandas(Index=724, VendorID=2.0, lpep_pickup_datetime=Timestamp('2020-01-10 12:38:57'), PULocationID=82, DOLocationID=160, trip_distance=2.02, predicted_duration=10.1),\n",
       " Pandas(Index=725, VendorID=nan, lpep_pickup_datetime=Timestamp('2020-01-23 08:56:00'), PULocationID=157, DOLocationID=95, trip_distance=5.05, predicted_duration=25.25),\n",
       " Pandas(Index=726, VendorID=1.0, lpep_pickup_datetime=Timestamp('2020-01-06 05:19:54'), PULocationID=80, DOLocationID=112, trip_distance=0.8, predicted_duration=4.0),\n",
       " Pandas(Index=727, VendorID=2.0, lpep_pickup_datetime=Timestamp('2020-01-26 15:28:53'), PULocationID=41, DOLocationID=247, trip_distance=2.24, predicted_duration=11.200000000000001),\n",
       " Pandas(Index=728, VendorID=nan, lpep_pickup_datetime=Timestamp('2020-01-12 12:23:00'), PULocationID=185, DOLocationID=246, trip_distance=14.19, predicted_duration=70.95),\n",
       " Pandas(Index=729, VendorID=2.0, lpep_pickup_datetime=Timestamp('2020-01-11 19:35:56'), PULocationID=24, DOLocationID=249, trip_distance=6.5, predicted_duration=32.5),\n",
       " Pandas(Index=730, VendorID=2.0, lpep_pickup_datetime=Timestamp('2020-01-13 08:37:13'), PULocationID=42, DOLocationID=42, trip_distance=0.67, predicted_duration=3.35),\n",
       " Pandas(Index=731, VendorID=2.0, lpep_pickup_datetime=Timestamp('2020-01-28 14:31:53'), PULocationID=52, DOLocationID=52, trip_distance=0.4, predicted_duration=2.0),\n",
       " Pandas(Index=732, VendorID=2.0, lpep_pickup_datetime=Timestamp('2020-01-22 09:02:04'), PULocationID=75, DOLocationID=74, trip_distance=0.6, predicted_duration=3.0),\n",
       " Pandas(Index=733, VendorID=2.0, lpep_pickup_datetime=Timestamp('2020-01-17 17:05:35'), PULocationID=220, DOLocationID=127, trip_distance=1.19, predicted_duration=5.949999999999999),\n",
       " Pandas(Index=734, VendorID=2.0, lpep_pickup_datetime=Timestamp('2020-01-21 16:55:42'), PULocationID=52, DOLocationID=181, trip_distance=2.07, predicted_duration=10.35),\n",
       " Pandas(Index=735, VendorID=nan, lpep_pickup_datetime=Timestamp('2020-01-14 10:57:00'), PULocationID=45, DOLocationID=45, trip_distance=1.23, predicted_duration=6.15),\n",
       " Pandas(Index=736, VendorID=2.0, lpep_pickup_datetime=Timestamp('2020-01-15 21:12:07'), PULocationID=18, DOLocationID=61, trip_distance=17.93, predicted_duration=89.65),\n",
       " Pandas(Index=737, VendorID=nan, lpep_pickup_datetime=Timestamp('2020-01-11 14:24:00'), PULocationID=39, DOLocationID=76, trip_distance=1.49, predicted_duration=7.45),\n",
       " Pandas(Index=738, VendorID=2.0, lpep_pickup_datetime=Timestamp('2020-01-20 16:23:44'), PULocationID=188, DOLocationID=181, trip_distance=3.21, predicted_duration=16.05),\n",
       " Pandas(Index=739, VendorID=1.0, lpep_pickup_datetime=Timestamp('2020-01-06 16:45:58'), PULocationID=228, DOLocationID=21, trip_distance=0.0, predicted_duration=0.0),\n",
       " Pandas(Index=740, VendorID=2.0, lpep_pickup_datetime=Timestamp('2020-01-19 22:44:05'), PULocationID=129, DOLocationID=82, trip_distance=1.03, predicted_duration=5.15),\n",
       " Pandas(Index=741, VendorID=1.0, lpep_pickup_datetime=Timestamp('2020-01-03 16:26:17'), PULocationID=75, DOLocationID=238, trip_distance=0.9, predicted_duration=4.5),\n",
       " Pandas(Index=742, VendorID=2.0, lpep_pickup_datetime=Timestamp('2020-01-22 19:19:46'), PULocationID=42, DOLocationID=42, trip_distance=0.98, predicted_duration=4.9),\n",
       " Pandas(Index=743, VendorID=2.0, lpep_pickup_datetime=Timestamp('2020-01-07 01:26:41'), PULocationID=255, DOLocationID=264, trip_distance=0.0, predicted_duration=0.0),\n",
       " Pandas(Index=744, VendorID=2.0, lpep_pickup_datetime=Timestamp('2020-01-19 09:10:24'), PULocationID=42, DOLocationID=142, trip_distance=4.52, predicted_duration=22.599999999999998),\n",
       " Pandas(Index=745, VendorID=2.0, lpep_pickup_datetime=Timestamp('2020-01-25 01:33:19'), PULocationID=7, DOLocationID=82, trip_distance=3.29, predicted_duration=16.45),\n",
       " Pandas(Index=746, VendorID=2.0, lpep_pickup_datetime=Timestamp('2020-01-16 15:47:55'), PULocationID=152, DOLocationID=238, trip_distance=2.44, predicted_duration=12.2),\n",
       " Pandas(Index=747, VendorID=1.0, lpep_pickup_datetime=Timestamp('2020-01-16 20:34:29'), PULocationID=75, DOLocationID=75, trip_distance=0.0, predicted_duration=0.0),\n",
       " Pandas(Index=748, VendorID=2.0, lpep_pickup_datetime=Timestamp('2020-01-26 19:16:13'), PULocationID=82, DOLocationID=82, trip_distance=0.07, predicted_duration=0.35000000000000003),\n",
       " Pandas(Index=749, VendorID=nan, lpep_pickup_datetime=Timestamp('2020-01-28 16:40:00'), PULocationID=261, DOLocationID=248, trip_distance=16.1, predicted_duration=80.5),\n",
       " Pandas(Index=750, VendorID=2.0, lpep_pickup_datetime=Timestamp('2020-01-20 12:04:13'), PULocationID=74, DOLocationID=262, trip_distance=2.92, predicted_duration=14.6),\n",
       " Pandas(Index=751, VendorID=nan, lpep_pickup_datetime=Timestamp('2020-01-29 12:30:00'), PULocationID=42, DOLocationID=151, trip_distance=3.11, predicted_duration=15.549999999999999),\n",
       " Pandas(Index=752, VendorID=2.0, lpep_pickup_datetime=Timestamp('2020-01-11 15:36:12'), PULocationID=83, DOLocationID=135, trip_distance=6.74, predicted_duration=33.7),\n",
       " Pandas(Index=753, VendorID=1.0, lpep_pickup_datetime=Timestamp('2020-01-22 19:31:40'), PULocationID=223, DOLocationID=223, trip_distance=0.5, predicted_duration=2.5),\n",
       " Pandas(Index=754, VendorID=2.0, lpep_pickup_datetime=Timestamp('2020-01-18 22:56:22'), PULocationID=7, DOLocationID=179, trip_distance=1.08, predicted_duration=5.4),\n",
       " Pandas(Index=755, VendorID=2.0, lpep_pickup_datetime=Timestamp('2020-01-21 18:29:45'), PULocationID=166, DOLocationID=116, trip_distance=1.48, predicted_duration=7.4),\n",
       " Pandas(Index=756, VendorID=2.0, lpep_pickup_datetime=Timestamp('2020-01-21 07:16:53'), PULocationID=74, DOLocationID=69, trip_distance=2.82, predicted_duration=14.1),\n",
       " Pandas(Index=757, VendorID=nan, lpep_pickup_datetime=Timestamp('2020-01-09 10:19:00'), PULocationID=64, DOLocationID=64, trip_distance=1.52, predicted_duration=7.6),\n",
       " Pandas(Index=758, VendorID=2.0, lpep_pickup_datetime=Timestamp('2020-01-11 13:42:17'), PULocationID=75, DOLocationID=238, trip_distance=1.42, predicted_duration=7.1),\n",
       " Pandas(Index=759, VendorID=nan, lpep_pickup_datetime=Timestamp('2020-01-08 20:20:00'), PULocationID=168, DOLocationID=197, trip_distance=13.52, predicted_duration=67.6),\n",
       " Pandas(Index=760, VendorID=2.0, lpep_pickup_datetime=Timestamp('2020-01-02 19:07:47'), PULocationID=255, DOLocationID=256, trip_distance=0.87, predicted_duration=4.35),\n",
       " Pandas(Index=761, VendorID=2.0, lpep_pickup_datetime=Timestamp('2020-01-21 16:22:05'), PULocationID=244, DOLocationID=116, trip_distance=0.92, predicted_duration=4.6000000000000005),\n",
       " Pandas(Index=762, VendorID=2.0, lpep_pickup_datetime=Timestamp('2020-01-11 17:43:40'), PULocationID=82, DOLocationID=129, trip_distance=0.96, predicted_duration=4.8),\n",
       " Pandas(Index=763, VendorID=nan, lpep_pickup_datetime=Timestamp('2020-01-07 12:07:00'), PULocationID=126, DOLocationID=78, trip_distance=2.9, predicted_duration=14.5),\n",
       " Pandas(Index=764, VendorID=2.0, lpep_pickup_datetime=Timestamp('2020-01-28 16:18:55'), PULocationID=210, DOLocationID=29, trip_distance=1.83, predicted_duration=9.15),\n",
       " Pandas(Index=765, VendorID=2.0, lpep_pickup_datetime=Timestamp('2020-01-15 17:31:02'), PULocationID=130, DOLocationID=205, trip_distance=2.32, predicted_duration=11.6),\n",
       " Pandas(Index=766, VendorID=1.0, lpep_pickup_datetime=Timestamp('2020-01-27 17:49:33'), PULocationID=75, DOLocationID=238, trip_distance=0.6, predicted_duration=3.0),\n",
       " Pandas(Index=767, VendorID=2.0, lpep_pickup_datetime=Timestamp('2020-01-08 18:10:04'), PULocationID=33, DOLocationID=142, trip_distance=7.59, predicted_duration=37.95),\n",
       " Pandas(Index=768, VendorID=2.0, lpep_pickup_datetime=Timestamp('2020-01-04 19:31:11'), PULocationID=7, DOLocationID=142, trip_distance=4.51, predicted_duration=22.549999999999997),\n",
       " Pandas(Index=769, VendorID=2.0, lpep_pickup_datetime=Timestamp('2020-01-11 14:18:37'), PULocationID=52, DOLocationID=40, trip_distance=1.05, predicted_duration=5.25),\n",
       " Pandas(Index=770, VendorID=nan, lpep_pickup_datetime=Timestamp('2020-01-14 09:38:00'), PULocationID=222, DOLocationID=71, trip_distance=3.58, predicted_duration=17.9),\n",
       " Pandas(Index=771, VendorID=1.0, lpep_pickup_datetime=Timestamp('2020-01-10 19:33:54'), PULocationID=129, DOLocationID=129, trip_distance=1.1, predicted_duration=5.5),\n",
       " Pandas(Index=772, VendorID=2.0, lpep_pickup_datetime=Timestamp('2020-01-01 03:53:17'), PULocationID=179, DOLocationID=216, trip_distance=11.0, predicted_duration=55.0),\n",
       " Pandas(Index=773, VendorID=2.0, lpep_pickup_datetime=Timestamp('2020-01-18 20:03:07'), PULocationID=75, DOLocationID=74, trip_distance=1.56, predicted_duration=7.800000000000001),\n",
       " Pandas(Index=774, VendorID=2.0, lpep_pickup_datetime=Timestamp('2020-01-13 12:27:40'), PULocationID=41, DOLocationID=236, trip_distance=2.11, predicted_duration=10.549999999999999),\n",
       " Pandas(Index=775, VendorID=2.0, lpep_pickup_datetime=Timestamp('2020-01-04 19:43:28'), PULocationID=66, DOLocationID=198, trip_distance=5.37, predicted_duration=26.85),\n",
       " Pandas(Index=776, VendorID=2.0, lpep_pickup_datetime=Timestamp('2020-01-07 19:18:48'), PULocationID=95, DOLocationID=19, trip_distance=6.83, predicted_duration=34.15),\n",
       " Pandas(Index=777, VendorID=2.0, lpep_pickup_datetime=Timestamp('2020-01-04 22:51:04'), PULocationID=193, DOLocationID=193, trip_distance=0.0, predicted_duration=0.0),\n",
       " Pandas(Index=778, VendorID=1.0, lpep_pickup_datetime=Timestamp('2020-01-05 08:53:43'), PULocationID=129, DOLocationID=28, trip_distance=6.8, predicted_duration=34.0),\n",
       " Pandas(Index=779, VendorID=2.0, lpep_pickup_datetime=Timestamp('2020-01-29 07:49:04'), PULocationID=74, DOLocationID=263, trip_distance=1.76, predicted_duration=8.8),\n",
       " Pandas(Index=780, VendorID=2.0, lpep_pickup_datetime=Timestamp('2020-01-06 12:33:52'), PULocationID=181, DOLocationID=138, trip_distance=22.61, predicted_duration=113.05),\n",
       " Pandas(Index=781, VendorID=2.0, lpep_pickup_datetime=Timestamp('2020-01-04 12:09:29'), PULocationID=74, DOLocationID=138, trip_distance=5.56, predicted_duration=27.799999999999997),\n",
       " Pandas(Index=782, VendorID=nan, lpep_pickup_datetime=Timestamp('2020-01-31 10:25:00'), PULocationID=195, DOLocationID=225, trip_distance=5.7, predicted_duration=28.5),\n",
       " Pandas(Index=783, VendorID=2.0, lpep_pickup_datetime=Timestamp('2020-01-11 03:26:51'), PULocationID=255, DOLocationID=157, trip_distance=3.44, predicted_duration=17.2),\n",
       " Pandas(Index=784, VendorID=nan, lpep_pickup_datetime=Timestamp('2020-01-25 17:35:00'), PULocationID=69, DOLocationID=213, trip_distance=4.61, predicted_duration=23.05),\n",
       " Pandas(Index=785, VendorID=2.0, lpep_pickup_datetime=Timestamp('2020-01-17 18:48:47'), PULocationID=82, DOLocationID=56, trip_distance=1.14, predicted_duration=5.699999999999999),\n",
       " Pandas(Index=786, VendorID=2.0, lpep_pickup_datetime=Timestamp('2020-01-27 13:03:21'), PULocationID=74, DOLocationID=74, trip_distance=0.91, predicted_duration=4.55),\n",
       " Pandas(Index=787, VendorID=1.0, lpep_pickup_datetime=Timestamp('2020-01-30 20:54:49'), PULocationID=223, DOLocationID=223, trip_distance=0.9, predicted_duration=4.5),\n",
       " Pandas(Index=788, VendorID=1.0, lpep_pickup_datetime=Timestamp('2020-01-27 08:20:18'), PULocationID=175, DOLocationID=9, trip_distance=0.0, predicted_duration=0.0),\n",
       " Pandas(Index=789, VendorID=2.0, lpep_pickup_datetime=Timestamp('2020-01-06 11:05:08'), PULocationID=40, DOLocationID=33, trip_distance=0.96, predicted_duration=4.8),\n",
       " Pandas(Index=790, VendorID=1.0, lpep_pickup_datetime=Timestamp('2020-01-15 19:19:03'), PULocationID=22, DOLocationID=257, trip_distance=0.0, predicted_duration=0.0),\n",
       " Pandas(Index=791, VendorID=nan, lpep_pickup_datetime=Timestamp('2020-01-08 16:04:00'), PULocationID=89, DOLocationID=226, trip_distance=12.67, predicted_duration=63.35),\n",
       " Pandas(Index=792, VendorID=2.0, lpep_pickup_datetime=Timestamp('2020-01-22 17:39:04'), PULocationID=33, DOLocationID=40, trip_distance=1.69, predicted_duration=8.45),\n",
       " Pandas(Index=793, VendorID=nan, lpep_pickup_datetime=Timestamp('2020-01-14 14:17:00'), PULocationID=82, DOLocationID=197, trip_distance=4.55, predicted_duration=22.75),\n",
       " Pandas(Index=794, VendorID=2.0, lpep_pickup_datetime=Timestamp('2020-01-10 11:25:26'), PULocationID=65, DOLocationID=225, trip_distance=3.05, predicted_duration=15.25),\n",
       " Pandas(Index=795, VendorID=2.0, lpep_pickup_datetime=Timestamp('2020-01-21 17:43:50'), PULocationID=24, DOLocationID=41, trip_distance=0.81, predicted_duration=4.050000000000001),\n",
       " Pandas(Index=796, VendorID=nan, lpep_pickup_datetime=Timestamp('2020-01-02 19:10:00'), PULocationID=226, DOLocationID=74, trip_distance=5.84, predicted_duration=29.2),\n",
       " Pandas(Index=797, VendorID=nan, lpep_pickup_datetime=Timestamp('2020-01-30 13:53:00'), PULocationID=33, DOLocationID=37, trip_distance=4.86, predicted_duration=24.3),\n",
       " Pandas(Index=798, VendorID=2.0, lpep_pickup_datetime=Timestamp('2020-01-27 19:45:24'), PULocationID=82, DOLocationID=92, trip_distance=3.42, predicted_duration=17.1),\n",
       " Pandas(Index=799, VendorID=1.0, lpep_pickup_datetime=Timestamp('2020-01-07 07:39:03'), PULocationID=71, DOLocationID=22, trip_distance=0.0, predicted_duration=0.0),\n",
       " Pandas(Index=800, VendorID=2.0, lpep_pickup_datetime=Timestamp('2020-01-30 21:15:01'), PULocationID=41, DOLocationID=151, trip_distance=1.46, predicted_duration=7.3),\n",
       " Pandas(Index=801, VendorID=1.0, lpep_pickup_datetime=Timestamp('2020-01-14 14:40:03'), PULocationID=41, DOLocationID=236, trip_distance=2.2, predicted_duration=11.0),\n",
       " Pandas(Index=802, VendorID=2.0, lpep_pickup_datetime=Timestamp('2020-01-22 19:28:53'), PULocationID=66, DOLocationID=181, trip_distance=2.69, predicted_duration=13.45),\n",
       " Pandas(Index=803, VendorID=1.0, lpep_pickup_datetime=Timestamp('2020-01-17 08:28:51'), PULocationID=42, DOLocationID=42, trip_distance=0.5, predicted_duration=2.5),\n",
       " Pandas(Index=804, VendorID=nan, lpep_pickup_datetime=Timestamp('2020-01-01 23:05:00'), PULocationID=216, DOLocationID=193, trip_distance=13.66, predicted_duration=68.3),\n",
       " Pandas(Index=805, VendorID=2.0, lpep_pickup_datetime=Timestamp('2020-01-06 15:14:50'), PULocationID=179, DOLocationID=7, trip_distance=0.52, predicted_duration=2.6),\n",
       " Pandas(Index=806, VendorID=2.0, lpep_pickup_datetime=Timestamp('2020-01-12 17:09:54'), PULocationID=244, DOLocationID=238, trip_distance=5.25, predicted_duration=26.25),\n",
       " Pandas(Index=807, VendorID=2.0, lpep_pickup_datetime=Timestamp('2020-01-15 16:16:11'), PULocationID=97, DOLocationID=97, trip_distance=0.47, predicted_duration=2.3499999999999996),\n",
       " Pandas(Index=808, VendorID=2.0, lpep_pickup_datetime=Timestamp('2020-01-24 18:00:54'), PULocationID=223, DOLocationID=7, trip_distance=0.87, predicted_duration=4.35),\n",
       " Pandas(Index=809, VendorID=2.0, lpep_pickup_datetime=Timestamp('2020-01-08 09:02:49'), PULocationID=116, DOLocationID=116, trip_distance=0.61, predicted_duration=3.05),\n",
       " Pandas(Index=810, VendorID=2.0, lpep_pickup_datetime=Timestamp('2020-01-31 18:41:43'), PULocationID=74, DOLocationID=152, trip_distance=1.61, predicted_duration=8.05),\n",
       " Pandas(Index=811, VendorID=2.0, lpep_pickup_datetime=Timestamp('2020-01-08 07:54:58'), PULocationID=33, DOLocationID=25, trip_distance=0.54, predicted_duration=2.7),\n",
       " Pandas(Index=812, VendorID=2.0, lpep_pickup_datetime=Timestamp('2020-01-04 10:36:50'), PULocationID=7, DOLocationID=229, trip_distance=3.5, predicted_duration=17.5),\n",
       " Pandas(Index=813, VendorID=2.0, lpep_pickup_datetime=Timestamp('2020-01-11 16:12:09'), PULocationID=82, DOLocationID=223, trip_distance=3.47, predicted_duration=17.35),\n",
       " Pandas(Index=814, VendorID=nan, lpep_pickup_datetime=Timestamp('2020-01-06 16:25:00'), PULocationID=49, DOLocationID=213, trip_distance=14.93, predicted_duration=74.65),\n",
       " Pandas(Index=815, VendorID=2.0, lpep_pickup_datetime=Timestamp('2020-01-30 05:03:30'), PULocationID=129, DOLocationID=83, trip_distance=1.67, predicted_duration=8.35),\n",
       " Pandas(Index=816, VendorID=2.0, lpep_pickup_datetime=Timestamp('2020-01-14 10:56:33'), PULocationID=196, DOLocationID=95, trip_distance=1.34, predicted_duration=6.7),\n",
       " Pandas(Index=817, VendorID=nan, lpep_pickup_datetime=Timestamp('2020-01-08 10:56:00'), PULocationID=29, DOLocationID=201, trip_distance=9.19, predicted_duration=45.949999999999996),\n",
       " Pandas(Index=818, VendorID=nan, lpep_pickup_datetime=Timestamp('2020-01-24 11:36:00'), PULocationID=74, DOLocationID=213, trip_distance=4.62, predicted_duration=23.1),\n",
       " Pandas(Index=819, VendorID=2.0, lpep_pickup_datetime=Timestamp('2020-01-09 08:32:20'), PULocationID=33, DOLocationID=90, trip_distance=3.93, predicted_duration=19.650000000000002),\n",
       " Pandas(Index=820, VendorID=2.0, lpep_pickup_datetime=Timestamp('2020-01-08 09:43:13'), PULocationID=33, DOLocationID=106, trip_distance=2.44, predicted_duration=12.2),\n",
       " Pandas(Index=821, VendorID=nan, lpep_pickup_datetime=Timestamp('2020-01-28 21:00:00'), PULocationID=92, DOLocationID=119, trip_distance=11.11, predicted_duration=55.55),\n",
       " Pandas(Index=822, VendorID=1.0, lpep_pickup_datetime=Timestamp('2020-01-17 10:50:25'), PULocationID=181, DOLocationID=265, trip_distance=9.6, predicted_duration=48.0),\n",
       " Pandas(Index=823, VendorID=1.0, lpep_pickup_datetime=Timestamp('2020-01-06 09:38:22'), PULocationID=223, DOLocationID=7, trip_distance=2.7, predicted_duration=13.5),\n",
       " Pandas(Index=824, VendorID=2.0, lpep_pickup_datetime=Timestamp('2020-01-30 09:50:11'), PULocationID=33, DOLocationID=145, trip_distance=7.33, predicted_duration=36.65),\n",
       " Pandas(Index=825, VendorID=1.0, lpep_pickup_datetime=Timestamp('2020-01-21 19:43:11'), PULocationID=65, DOLocationID=254, trip_distance=0.0, predicted_duration=0.0),\n",
       " Pandas(Index=826, VendorID=1.0, lpep_pickup_datetime=Timestamp('2020-01-13 21:53:13'), PULocationID=244, DOLocationID=236, trip_distance=5.9, predicted_duration=29.5),\n",
       " Pandas(Index=827, VendorID=2.0, lpep_pickup_datetime=Timestamp('2020-01-29 19:26:07'), PULocationID=95, DOLocationID=121, trip_distance=2.53, predicted_duration=12.649999999999999),\n",
       " Pandas(Index=828, VendorID=2.0, lpep_pickup_datetime=Timestamp('2020-01-18 13:10:43'), PULocationID=25, DOLocationID=49, trip_distance=1.11, predicted_duration=5.550000000000001),\n",
       " Pandas(Index=829, VendorID=nan, lpep_pickup_datetime=Timestamp('2020-01-16 12:00:00'), PULocationID=39, DOLocationID=76, trip_distance=3.48, predicted_duration=17.4),\n",
       " Pandas(Index=830, VendorID=1.0, lpep_pickup_datetime=Timestamp('2020-01-19 13:54:50'), PULocationID=210, DOLocationID=150, trip_distance=1.1, predicted_duration=5.5),\n",
       " Pandas(Index=831, VendorID=2.0, lpep_pickup_datetime=Timestamp('2020-01-28 19:53:41'), PULocationID=130, DOLocationID=219, trip_distance=5.69, predicted_duration=28.450000000000003),\n",
       " Pandas(Index=832, VendorID=nan, lpep_pickup_datetime=Timestamp('2020-01-05 06:58:00'), PULocationID=218, DOLocationID=198, trip_distance=10.04, predicted_duration=50.199999999999996),\n",
       " Pandas(Index=833, VendorID=nan, lpep_pickup_datetime=Timestamp('2020-01-10 13:11:00'), PULocationID=81, DOLocationID=3, trip_distance=0.72, predicted_duration=3.5999999999999996),\n",
       " Pandas(Index=834, VendorID=2.0, lpep_pickup_datetime=Timestamp('2020-01-28 08:44:10'), PULocationID=226, DOLocationID=162, trip_distance=3.16, predicted_duration=15.8),\n",
       " Pandas(Index=835, VendorID=1.0, lpep_pickup_datetime=Timestamp('2020-01-02 09:24:18'), PULocationID=41, DOLocationID=238, trip_distance=1.4, predicted_duration=7.0),\n",
       " Pandas(Index=836, VendorID=2.0, lpep_pickup_datetime=Timestamp('2020-01-30 16:04:11'), PULocationID=75, DOLocationID=75, trip_distance=0.0, predicted_duration=0.0),\n",
       " Pandas(Index=837, VendorID=2.0, lpep_pickup_datetime=Timestamp('2020-01-03 15:30:49'), PULocationID=7, DOLocationID=146, trip_distance=0.82, predicted_duration=4.1),\n",
       " Pandas(Index=838, VendorID=nan, lpep_pickup_datetime=Timestamp('2020-01-01 01:23:00'), PULocationID=212, DOLocationID=235, trip_distance=3.84, predicted_duration=19.2),\n",
       " Pandas(Index=839, VendorID=2.0, lpep_pickup_datetime=Timestamp('2020-01-23 12:04:35'), PULocationID=33, DOLocationID=217, trip_distance=2.16, predicted_duration=10.8),\n",
       " Pandas(Index=840, VendorID=2.0, lpep_pickup_datetime=Timestamp('2020-01-21 16:13:45'), PULocationID=29, DOLocationID=150, trip_distance=1.86, predicted_duration=9.3),\n",
       " Pandas(Index=841, VendorID=1.0, lpep_pickup_datetime=Timestamp('2020-01-24 15:07:02'), PULocationID=112, DOLocationID=80, trip_distance=0.0, predicted_duration=0.0),\n",
       " Pandas(Index=842, VendorID=2.0, lpep_pickup_datetime=Timestamp('2020-01-13 12:14:25'), PULocationID=33, DOLocationID=52, trip_distance=0.59, predicted_duration=2.9499999999999997),\n",
       " Pandas(Index=843, VendorID=2.0, lpep_pickup_datetime=Timestamp('2020-01-06 09:44:56'), PULocationID=75, DOLocationID=74, trip_distance=1.39, predicted_duration=6.949999999999999),\n",
       " Pandas(Index=844, VendorID=2.0, lpep_pickup_datetime=Timestamp('2020-01-27 08:41:09'), PULocationID=25, DOLocationID=52, trip_distance=0.62, predicted_duration=3.1),\n",
       " Pandas(Index=845, VendorID=2.0, lpep_pickup_datetime=Timestamp('2020-01-25 01:32:11'), PULocationID=129, DOLocationID=129, trip_distance=1.4, predicted_duration=7.0),\n",
       " Pandas(Index=846, VendorID=2.0, lpep_pickup_datetime=Timestamp('2020-01-09 18:23:41'), PULocationID=92, DOLocationID=92, trip_distance=2.55, predicted_duration=12.75),\n",
       " Pandas(Index=847, VendorID=nan, lpep_pickup_datetime=Timestamp('2020-01-09 16:52:00'), PULocationID=33, DOLocationID=139, trip_distance=14.26, predicted_duration=71.3),\n",
       " Pandas(Index=848, VendorID=2.0, lpep_pickup_datetime=Timestamp('2020-01-11 22:57:46'), PULocationID=7, DOLocationID=179, trip_distance=0.91, predicted_duration=4.55),\n",
       " Pandas(Index=849, VendorID=2.0, lpep_pickup_datetime=Timestamp('2020-01-22 22:34:02'), PULocationID=75, DOLocationID=42, trip_distance=1.4, predicted_duration=7.0),\n",
       " Pandas(Index=850, VendorID=2.0, lpep_pickup_datetime=Timestamp('2020-01-08 21:02:39'), PULocationID=130, DOLocationID=205, trip_distance=3.31, predicted_duration=16.55),\n",
       " Pandas(Index=851, VendorID=nan, lpep_pickup_datetime=Timestamp('2020-01-28 06:30:00'), PULocationID=203, DOLocationID=97, trip_distance=12.9, predicted_duration=64.5),\n",
       " Pandas(Index=852, VendorID=1.0, lpep_pickup_datetime=Timestamp('2020-01-10 09:11:22'), PULocationID=244, DOLocationID=126, trip_distance=0.0, predicted_duration=0.0),\n",
       " Pandas(Index=853, VendorID=2.0, lpep_pickup_datetime=Timestamp('2020-01-21 20:05:54'), PULocationID=152, DOLocationID=41, trip_distance=1.63, predicted_duration=8.149999999999999),\n",
       " Pandas(Index=854, VendorID=2.0, lpep_pickup_datetime=Timestamp('2020-01-11 16:03:32'), PULocationID=74, DOLocationID=74, trip_distance=0.63, predicted_duration=3.15),\n",
       " Pandas(Index=855, VendorID=2.0, lpep_pickup_datetime=Timestamp('2020-01-11 16:36:21'), PULocationID=42, DOLocationID=48, trip_distance=4.19, predicted_duration=20.950000000000003),\n",
       " Pandas(Index=856, VendorID=1.0, lpep_pickup_datetime=Timestamp('2020-01-10 23:29:26'), PULocationID=260, DOLocationID=260, trip_distance=0.7, predicted_duration=3.5),\n",
       " Pandas(Index=857, VendorID=2.0, lpep_pickup_datetime=Timestamp('2020-01-23 11:35:47'), PULocationID=159, DOLocationID=119, trip_distance=2.3, predicted_duration=11.5),\n",
       " Pandas(Index=858, VendorID=1.0, lpep_pickup_datetime=Timestamp('2020-01-11 11:12:54'), PULocationID=40, DOLocationID=52, trip_distance=0.4, predicted_duration=2.0),\n",
       " Pandas(Index=859, VendorID=nan, lpep_pickup_datetime=Timestamp('2020-01-09 09:29:00'), PULocationID=35, DOLocationID=34, trip_distance=6.12, predicted_duration=30.6),\n",
       " Pandas(Index=860, VendorID=2.0, lpep_pickup_datetime=Timestamp('2020-01-16 07:53:43'), PULocationID=42, DOLocationID=43, trip_distance=2.61, predicted_duration=13.049999999999999),\n",
       " Pandas(Index=861, VendorID=nan, lpep_pickup_datetime=Timestamp('2020-01-30 06:24:00'), PULocationID=121, DOLocationID=192, trip_distance=1.82, predicted_duration=9.1),\n",
       " Pandas(Index=862, VendorID=2.0, lpep_pickup_datetime=Timestamp('2020-01-28 11:26:26'), PULocationID=7, DOLocationID=237, trip_distance=3.78, predicted_duration=18.9),\n",
       " Pandas(Index=863, VendorID=2.0, lpep_pickup_datetime=Timestamp('2020-01-13 19:59:00'), PULocationID=41, DOLocationID=244, trip_distance=3.44, predicted_duration=17.2),\n",
       " Pandas(Index=864, VendorID=2.0, lpep_pickup_datetime=Timestamp('2020-01-04 19:18:03'), PULocationID=112, DOLocationID=255, trip_distance=1.48, predicted_duration=7.4),\n",
       " Pandas(Index=865, VendorID=2.0, lpep_pickup_datetime=Timestamp('2020-01-07 21:11:13'), PULocationID=74, DOLocationID=116, trip_distance=3.67, predicted_duration=18.35),\n",
       " Pandas(Index=866, VendorID=nan, lpep_pickup_datetime=Timestamp('2020-01-27 14:56:00'), PULocationID=193, DOLocationID=193, trip_distance=0.74, predicted_duration=3.7),\n",
       " Pandas(Index=867, VendorID=2.0, lpep_pickup_datetime=Timestamp('2020-01-17 14:17:05'), PULocationID=95, DOLocationID=121, trip_distance=2.66, predicted_duration=13.3),\n",
       " Pandas(Index=868, VendorID=2.0, lpep_pickup_datetime=Timestamp('2020-01-13 22:44:21'), PULocationID=82, DOLocationID=141, trip_distance=5.14, predicted_duration=25.7),\n",
       " Pandas(Index=869, VendorID=2.0, lpep_pickup_datetime=Timestamp('2020-01-24 17:41:15'), PULocationID=74, DOLocationID=151, trip_distance=2.3, predicted_duration=11.5),\n",
       " Pandas(Index=870, VendorID=2.0, lpep_pickup_datetime=Timestamp('2020-01-01 04:10:25'), PULocationID=181, DOLocationID=181, trip_distance=1.0, predicted_duration=5.0),\n",
       " Pandas(Index=871, VendorID=2.0, lpep_pickup_datetime=Timestamp('2020-01-27 19:10:56'), PULocationID=244, DOLocationID=244, trip_distance=0.65, predicted_duration=3.25),\n",
       " Pandas(Index=872, VendorID=nan, lpep_pickup_datetime=Timestamp('2020-01-15 09:49:00'), PULocationID=145, DOLocationID=32, trip_distance=12.06, predicted_duration=60.300000000000004),\n",
       " Pandas(Index=873, VendorID=nan, lpep_pickup_datetime=Timestamp('2020-01-29 07:41:00'), PULocationID=254, DOLocationID=168, trip_distance=7.36, predicted_duration=36.800000000000004),\n",
       " Pandas(Index=874, VendorID=2.0, lpep_pickup_datetime=Timestamp('2020-01-26 02:01:57'), PULocationID=260, DOLocationID=157, trip_distance=2.97, predicted_duration=14.850000000000001),\n",
       " Pandas(Index=875, VendorID=2.0, lpep_pickup_datetime=Timestamp('2020-01-23 15:04:44'), PULocationID=33, DOLocationID=33, trip_distance=0.84, predicted_duration=4.2),\n",
       " Pandas(Index=876, VendorID=2.0, lpep_pickup_datetime=Timestamp('2020-01-17 17:13:04'), PULocationID=95, DOLocationID=130, trip_distance=3.06, predicted_duration=15.3),\n",
       " Pandas(Index=877, VendorID=2.0, lpep_pickup_datetime=Timestamp('2020-01-16 02:35:18'), PULocationID=129, DOLocationID=129, trip_distance=1.37, predicted_duration=6.8500000000000005),\n",
       " Pandas(Index=878, VendorID=2.0, lpep_pickup_datetime=Timestamp('2020-01-18 02:43:28'), PULocationID=255, DOLocationID=37, trip_distance=1.69, predicted_duration=8.45),\n",
       " Pandas(Index=879, VendorID=2.0, lpep_pickup_datetime=Timestamp('2020-01-29 17:37:46'), PULocationID=82, DOLocationID=129, trip_distance=1.45, predicted_duration=7.25),\n",
       " Pandas(Index=880, VendorID=2.0, lpep_pickup_datetime=Timestamp('2020-01-10 22:19:42'), PULocationID=255, DOLocationID=181, trip_distance=7.64, predicted_duration=38.199999999999996),\n",
       " Pandas(Index=881, VendorID=2.0, lpep_pickup_datetime=Timestamp('2020-01-11 09:57:44'), PULocationID=74, DOLocationID=114, trip_distance=7.99, predicted_duration=39.95),\n",
       " Pandas(Index=882, VendorID=1.0, lpep_pickup_datetime=Timestamp('2020-01-12 02:16:13'), PULocationID=255, DOLocationID=189, trip_distance=3.9, predicted_duration=19.5),\n",
       " Pandas(Index=883, VendorID=nan, lpep_pickup_datetime=Timestamp('2020-01-09 12:00:00'), PULocationID=41, DOLocationID=25, trip_distance=11.22, predicted_duration=56.1),\n",
       " Pandas(Index=884, VendorID=nan, lpep_pickup_datetime=Timestamp('2020-01-09 06:21:00'), PULocationID=76, DOLocationID=72, trip_distance=3.74, predicted_duration=18.700000000000003),\n",
       " Pandas(Index=885, VendorID=nan, lpep_pickup_datetime=Timestamp('2020-01-08 05:49:00'), PULocationID=62, DOLocationID=165, trip_distance=3.55, predicted_duration=17.75),\n",
       " Pandas(Index=886, VendorID=1.0, lpep_pickup_datetime=Timestamp('2020-01-05 13:16:48'), PULocationID=74, DOLocationID=41, trip_distance=1.4, predicted_duration=7.0),\n",
       " Pandas(Index=887, VendorID=1.0, lpep_pickup_datetime=Timestamp('2020-01-04 15:32:05'), PULocationID=97, DOLocationID=225, trip_distance=2.7, predicted_duration=13.5),\n",
       " Pandas(Index=888, VendorID=2.0, lpep_pickup_datetime=Timestamp('2020-01-03 12:27:46'), PULocationID=42, DOLocationID=42, trip_distance=0.71, predicted_duration=3.55),\n",
       " Pandas(Index=889, VendorID=nan, lpep_pickup_datetime=Timestamp('2020-01-07 15:26:00'), PULocationID=130, DOLocationID=130, trip_distance=0.0, predicted_duration=0.0),\n",
       " Pandas(Index=890, VendorID=nan, lpep_pickup_datetime=Timestamp('2020-01-09 10:34:00'), PULocationID=14, DOLocationID=39, trip_distance=12.99, predicted_duration=64.95),\n",
       " Pandas(Index=891, VendorID=2.0, lpep_pickup_datetime=Timestamp('2020-01-21 23:28:27'), PULocationID=244, DOLocationID=125, trip_distance=9.32, predicted_duration=46.6),\n",
       " Pandas(Index=892, VendorID=nan, lpep_pickup_datetime=Timestamp('2020-01-28 10:04:00'), PULocationID=259, DOLocationID=254, trip_distance=1.0, predicted_duration=5.0),\n",
       " Pandas(Index=893, VendorID=2.0, lpep_pickup_datetime=Timestamp('2020-01-02 19:50:16'), PULocationID=75, DOLocationID=244, trip_distance=3.76, predicted_duration=18.799999999999997),\n",
       " Pandas(Index=894, VendorID=1.0, lpep_pickup_datetime=Timestamp('2020-01-08 21:50:55'), PULocationID=74, DOLocationID=236, trip_distance=1.6, predicted_duration=8.0),\n",
       " Pandas(Index=895, VendorID=2.0, lpep_pickup_datetime=Timestamp('2020-01-15 14:00:29'), PULocationID=193, DOLocationID=7, trip_distance=0.32, predicted_duration=1.6),\n",
       " Pandas(Index=896, VendorID=2.0, lpep_pickup_datetime=Timestamp('2020-01-12 21:24:14'), PULocationID=181, DOLocationID=228, trip_distance=1.48, predicted_duration=7.4),\n",
       " Pandas(Index=897, VendorID=nan, lpep_pickup_datetime=Timestamp('2020-01-08 09:54:00'), PULocationID=244, DOLocationID=186, trip_distance=8.5, predicted_duration=42.5),\n",
       " Pandas(Index=898, VendorID=2.0, lpep_pickup_datetime=Timestamp('2020-01-25 11:43:45'), PULocationID=223, DOLocationID=260, trip_distance=2.52, predicted_duration=12.6),\n",
       " Pandas(Index=899, VendorID=nan, lpep_pickup_datetime=Timestamp('2020-01-07 21:47:00'), PULocationID=208, DOLocationID=208, trip_distance=1.36, predicted_duration=6.800000000000001),\n",
       " Pandas(Index=900, VendorID=2.0, lpep_pickup_datetime=Timestamp('2020-01-08 09:51:04'), PULocationID=41, DOLocationID=246, trip_distance=6.67, predicted_duration=33.35),\n",
       " Pandas(Index=901, VendorID=nan, lpep_pickup_datetime=Timestamp('2020-01-08 09:08:00'), PULocationID=76, DOLocationID=76, trip_distance=1.99, predicted_duration=9.95),\n",
       " Pandas(Index=902, VendorID=nan, lpep_pickup_datetime=Timestamp('2020-01-23 06:29:00'), PULocationID=159, DOLocationID=237, trip_distance=5.3, predicted_duration=26.5),\n",
       " Pandas(Index=903, VendorID=2.0, lpep_pickup_datetime=Timestamp('2020-01-22 17:59:01'), PULocationID=7, DOLocationID=234, trip_distance=5.07, predicted_duration=25.35),\n",
       " Pandas(Index=904, VendorID=2.0, lpep_pickup_datetime=Timestamp('2020-01-17 17:46:42'), PULocationID=24, DOLocationID=74, trip_distance=1.96, predicted_duration=9.8),\n",
       " Pandas(Index=905, VendorID=1.0, lpep_pickup_datetime=Timestamp('2020-01-10 10:03:09'), PULocationID=37, DOLocationID=165, trip_distance=0.0, predicted_duration=0.0),\n",
       " Pandas(Index=906, VendorID=2.0, lpep_pickup_datetime=Timestamp('2020-01-29 22:35:41'), PULocationID=260, DOLocationID=160, trip_distance=2.42, predicted_duration=12.1),\n",
       " Pandas(Index=907, VendorID=2.0, lpep_pickup_datetime=Timestamp('2020-01-25 15:41:15'), PULocationID=181, DOLocationID=89, trip_distance=2.68, predicted_duration=13.4),\n",
       " Pandas(Index=908, VendorID=nan, lpep_pickup_datetime=Timestamp('2020-01-25 00:23:00'), PULocationID=108, DOLocationID=34, trip_distance=12.59, predicted_duration=62.95),\n",
       " Pandas(Index=909, VendorID=2.0, lpep_pickup_datetime=Timestamp('2020-01-14 19:58:43'), PULocationID=43, DOLocationID=50, trip_distance=4.08, predicted_duration=20.4),\n",
       " Pandas(Index=910, VendorID=nan, lpep_pickup_datetime=Timestamp('2020-01-12 11:02:00'), PULocationID=226, DOLocationID=226, trip_distance=1.47, predicted_duration=7.35),\n",
       " Pandas(Index=911, VendorID=2.0, lpep_pickup_datetime=Timestamp('2020-01-13 18:52:50'), PULocationID=82, DOLocationID=260, trip_distance=2.8, predicted_duration=14.0),\n",
       " Pandas(Index=912, VendorID=2.0, lpep_pickup_datetime=Timestamp('2020-01-29 16:32:57'), PULocationID=82, DOLocationID=138, trip_distance=3.06, predicted_duration=15.3),\n",
       " Pandas(Index=913, VendorID=nan, lpep_pickup_datetime=Timestamp('2020-01-07 13:17:00'), PULocationID=10, DOLocationID=139, trip_distance=2.92, predicted_duration=14.6),\n",
       " Pandas(Index=914, VendorID=1.0, lpep_pickup_datetime=Timestamp('2020-01-01 22:30:31'), PULocationID=74, DOLocationID=74, trip_distance=0.6, predicted_duration=3.0),\n",
       " Pandas(Index=915, VendorID=nan, lpep_pickup_datetime=Timestamp('2020-01-07 11:07:00'), PULocationID=181, DOLocationID=14, trip_distance=4.32, predicted_duration=21.6),\n",
       " Pandas(Index=916, VendorID=nan, lpep_pickup_datetime=Timestamp('2020-01-12 13:26:00'), PULocationID=250, DOLocationID=182, trip_distance=0.71, predicted_duration=3.55),\n",
       " Pandas(Index=917, VendorID=nan, lpep_pickup_datetime=Timestamp('2020-01-29 17:22:00'), PULocationID=225, DOLocationID=155, trip_distance=6.98, predicted_duration=34.900000000000006),\n",
       " Pandas(Index=918, VendorID=1.0, lpep_pickup_datetime=Timestamp('2020-01-30 13:57:33'), PULocationID=116, DOLocationID=166, trip_distance=1.1, predicted_duration=5.5),\n",
       " Pandas(Index=919, VendorID=nan, lpep_pickup_datetime=Timestamp('2020-01-31 11:45:00'), PULocationID=123, DOLocationID=77, trip_distance=6.25, predicted_duration=31.25),\n",
       " Pandas(Index=920, VendorID=2.0, lpep_pickup_datetime=Timestamp('2020-01-12 03:37:37'), PULocationID=42, DOLocationID=42, trip_distance=0.64, predicted_duration=3.2),\n",
       " Pandas(Index=921, VendorID=2.0, lpep_pickup_datetime=Timestamp('2020-01-25 21:47:28'), PULocationID=166, DOLocationID=41, trip_distance=0.8, predicted_duration=4.0),\n",
       " Pandas(Index=922, VendorID=2.0, lpep_pickup_datetime=Timestamp('2020-01-07 01:12:10'), PULocationID=215, DOLocationID=130, trip_distance=0.98, predicted_duration=4.9),\n",
       " Pandas(Index=923, VendorID=1.0, lpep_pickup_datetime=Timestamp('2020-01-05 08:09:47'), PULocationID=56, DOLocationID=129, trip_distance=1.9, predicted_duration=9.5),\n",
       " Pandas(Index=924, VendorID=nan, lpep_pickup_datetime=Timestamp('2020-01-03 16:20:00'), PULocationID=133, DOLocationID=95, trip_distance=14.3, predicted_duration=71.5),\n",
       " Pandas(Index=925, VendorID=2.0, lpep_pickup_datetime=Timestamp('2020-01-21 18:45:33'), PULocationID=83, DOLocationID=260, trip_distance=1.2, predicted_duration=6.0),\n",
       " Pandas(Index=926, VendorID=2.0, lpep_pickup_datetime=Timestamp('2020-01-21 16:13:03'), PULocationID=33, DOLocationID=25, trip_distance=0.44, predicted_duration=2.2),\n",
       " Pandas(Index=927, VendorID=nan, lpep_pickup_datetime=Timestamp('2020-01-24 08:17:00'), PULocationID=150, DOLocationID=210, trip_distance=0.72, predicted_duration=3.5999999999999996),\n",
       " Pandas(Index=928, VendorID=2.0, lpep_pickup_datetime=Timestamp('2020-01-17 18:50:05'), PULocationID=223, DOLocationID=7, trip_distance=0.78, predicted_duration=3.9000000000000004),\n",
       " Pandas(Index=929, VendorID=2.0, lpep_pickup_datetime=Timestamp('2020-01-10 22:30:38'), PULocationID=42, DOLocationID=116, trip_distance=0.69, predicted_duration=3.4499999999999997),\n",
       " Pandas(Index=930, VendorID=2.0, lpep_pickup_datetime=Timestamp('2020-01-06 07:35:24'), PULocationID=41, DOLocationID=42, trip_distance=1.02, predicted_duration=5.1),\n",
       " Pandas(Index=931, VendorID=nan, lpep_pickup_datetime=Timestamp('2020-01-02 09:33:00'), PULocationID=141, DOLocationID=129, trip_distance=8.05, predicted_duration=40.25),\n",
       " Pandas(Index=932, VendorID=2.0, lpep_pickup_datetime=Timestamp('2020-01-07 09:28:13'), PULocationID=257, DOLocationID=138, trip_distance=14.35, predicted_duration=71.75),\n",
       " Pandas(Index=933, VendorID=2.0, lpep_pickup_datetime=Timestamp('2020-01-13 17:20:32'), PULocationID=146, DOLocationID=95, trip_distance=8.56, predicted_duration=42.800000000000004),\n",
       " Pandas(Index=934, VendorID=2.0, lpep_pickup_datetime=Timestamp('2020-01-01 20:18:30'), PULocationID=92, DOLocationID=70, trip_distance=2.32, predicted_duration=11.6),\n",
       " Pandas(Index=935, VendorID=2.0, lpep_pickup_datetime=Timestamp('2020-01-06 18:46:31'), PULocationID=74, DOLocationID=263, trip_distance=2.28, predicted_duration=11.399999999999999),\n",
       " Pandas(Index=936, VendorID=nan, lpep_pickup_datetime=Timestamp('2020-01-08 05:45:00'), PULocationID=218, DOLocationID=145, trip_distance=11.35, predicted_duration=56.75),\n",
       " Pandas(Index=937, VendorID=2.0, lpep_pickup_datetime=Timestamp('2020-01-04 17:06:36'), PULocationID=129, DOLocationID=82, trip_distance=0.3, predicted_duration=1.5),\n",
       " Pandas(Index=938, VendorID=2.0, lpep_pickup_datetime=Timestamp('2020-01-24 16:47:37'), PULocationID=181, DOLocationID=228, trip_distance=2.16, predicted_duration=10.8),\n",
       " Pandas(Index=939, VendorID=2.0, lpep_pickup_datetime=Timestamp('2020-01-07 15:56:32'), PULocationID=61, DOLocationID=225, trip_distance=0.49, predicted_duration=2.45),\n",
       " Pandas(Index=940, VendorID=2.0, lpep_pickup_datetime=Timestamp('2020-01-08 16:39:15'), PULocationID=95, DOLocationID=121, trip_distance=3.85, predicted_duration=19.25),\n",
       " Pandas(Index=941, VendorID=2.0, lpep_pickup_datetime=Timestamp('2020-01-30 09:49:34'), PULocationID=116, DOLocationID=50, trip_distance=5.17, predicted_duration=25.85),\n",
       " Pandas(Index=942, VendorID=2.0, lpep_pickup_datetime=Timestamp('2020-01-10 10:26:04'), PULocationID=7, DOLocationID=179, trip_distance=0.67, predicted_duration=3.35),\n",
       " Pandas(Index=943, VendorID=1.0, lpep_pickup_datetime=Timestamp('2020-01-11 20:52:07'), PULocationID=95, DOLocationID=70, trip_distance=4.1, predicted_duration=20.5),\n",
       " Pandas(Index=944, VendorID=2.0, lpep_pickup_datetime=Timestamp('2020-01-16 17:10:03'), PULocationID=126, DOLocationID=159, trip_distance=1.41, predicted_duration=7.05),\n",
       " Pandas(Index=945, VendorID=1.0, lpep_pickup_datetime=Timestamp('2020-01-14 12:04:12'), PULocationID=81, DOLocationID=213, trip_distance=0.0, predicted_duration=0.0),\n",
       " Pandas(Index=946, VendorID=2.0, lpep_pickup_datetime=Timestamp('2020-01-05 07:39:49'), PULocationID=116, DOLocationID=247, trip_distance=1.79, predicted_duration=8.95),\n",
       " Pandas(Index=947, VendorID=nan, lpep_pickup_datetime=Timestamp('2020-01-27 18:26:00'), PULocationID=165, DOLocationID=62, trip_distance=4.74, predicted_duration=23.700000000000003),\n",
       " Pandas(Index=948, VendorID=2.0, lpep_pickup_datetime=Timestamp('2020-01-06 11:30:54'), PULocationID=33, DOLocationID=88, trip_distance=3.08, predicted_duration=15.4),\n",
       " Pandas(Index=949, VendorID=2.0, lpep_pickup_datetime=Timestamp('2020-01-12 20:07:53'), PULocationID=130, DOLocationID=10, trip_distance=1.29, predicted_duration=6.45),\n",
       " Pandas(Index=950, VendorID=2.0, lpep_pickup_datetime=Timestamp('2020-01-07 07:54:50'), PULocationID=74, DOLocationID=43, trip_distance=1.51, predicted_duration=7.55),\n",
       " Pandas(Index=951, VendorID=nan, lpep_pickup_datetime=Timestamp('2020-01-06 18:15:00'), PULocationID=140, DOLocationID=200, trip_distance=10.66, predicted_duration=53.3),\n",
       " Pandas(Index=952, VendorID=2.0, lpep_pickup_datetime=Timestamp('2020-01-02 17:33:54'), PULocationID=244, DOLocationID=142, trip_distance=6.04, predicted_duration=30.2),\n",
       " Pandas(Index=953, VendorID=2.0, lpep_pickup_datetime=Timestamp('2020-01-19 20:25:46'), PULocationID=74, DOLocationID=236, trip_distance=1.93, predicted_duration=9.65),\n",
       " Pandas(Index=954, VendorID=nan, lpep_pickup_datetime=Timestamp('2020-01-08 19:13:00'), PULocationID=69, DOLocationID=230, trip_distance=8.43, predicted_duration=42.15),\n",
       " Pandas(Index=955, VendorID=2.0, lpep_pickup_datetime=Timestamp('2020-01-28 07:59:24'), PULocationID=74, DOLocationID=41, trip_distance=0.59, predicted_duration=2.9499999999999997),\n",
       " Pandas(Index=956, VendorID=nan, lpep_pickup_datetime=Timestamp('2020-01-28 17:05:00'), PULocationID=117, DOLocationID=139, trip_distance=7.93, predicted_duration=39.65),\n",
       " Pandas(Index=957, VendorID=nan, lpep_pickup_datetime=Timestamp('2020-01-19 21:47:00'), PULocationID=76, DOLocationID=72, trip_distance=3.43, predicted_duration=17.150000000000002),\n",
       " Pandas(Index=958, VendorID=2.0, lpep_pickup_datetime=Timestamp('2020-01-20 02:50:20'), PULocationID=255, DOLocationID=97, trip_distance=4.62, predicted_duration=23.1),\n",
       " Pandas(Index=959, VendorID=nan, lpep_pickup_datetime=Timestamp('2020-01-28 13:06:00'), PULocationID=41, DOLocationID=263, trip_distance=2.31, predicted_duration=11.55),\n",
       " Pandas(Index=960, VendorID=2.0, lpep_pickup_datetime=Timestamp('2020-01-06 22:13:57'), PULocationID=181, DOLocationID=189, trip_distance=0.97, predicted_duration=4.85),\n",
       " Pandas(Index=961, VendorID=2.0, lpep_pickup_datetime=Timestamp('2020-01-04 21:10:43'), PULocationID=74, DOLocationID=75, trip_distance=0.78, predicted_duration=3.9000000000000004),\n",
       " Pandas(Index=962, VendorID=2.0, lpep_pickup_datetime=Timestamp('2020-01-27 07:54:35'), PULocationID=74, DOLocationID=41, trip_distance=0.83, predicted_duration=4.1499999999999995),\n",
       " Pandas(Index=963, VendorID=2.0, lpep_pickup_datetime=Timestamp('2020-01-08 18:41:12'), PULocationID=40, DOLocationID=54, trip_distance=0.55, predicted_duration=2.75),\n",
       " Pandas(Index=964, VendorID=2.0, lpep_pickup_datetime=Timestamp('2020-01-15 12:46:57'), PULocationID=42, DOLocationID=74, trip_distance=1.11, predicted_duration=5.550000000000001),\n",
       " Pandas(Index=965, VendorID=2.0, lpep_pickup_datetime=Timestamp('2020-01-29 15:11:51'), PULocationID=243, DOLocationID=18, trip_distance=3.87, predicted_duration=19.35),\n",
       " Pandas(Index=966, VendorID=2.0, lpep_pickup_datetime=Timestamp('2020-01-11 21:42:54'), PULocationID=17, DOLocationID=225, trip_distance=1.71, predicted_duration=8.55),\n",
       " Pandas(Index=967, VendorID=nan, lpep_pickup_datetime=Timestamp('2020-01-16 05:51:00'), PULocationID=130, DOLocationID=197, trip_distance=1.36, predicted_duration=6.800000000000001),\n",
       " Pandas(Index=968, VendorID=nan, lpep_pickup_datetime=Timestamp('2020-01-02 11:19:00'), PULocationID=49, DOLocationID=177, trip_distance=4.96, predicted_duration=24.8),\n",
       " Pandas(Index=969, VendorID=1.0, lpep_pickup_datetime=Timestamp('2020-01-14 16:13:07'), PULocationID=82, DOLocationID=56, trip_distance=0.5, predicted_duration=2.5),\n",
       " Pandas(Index=970, VendorID=2.0, lpep_pickup_datetime=Timestamp('2020-01-03 08:49:53'), PULocationID=41, DOLocationID=42, trip_distance=1.1, predicted_duration=5.5),\n",
       " Pandas(Index=971, VendorID=2.0, lpep_pickup_datetime=Timestamp('2020-01-15 21:07:39'), PULocationID=7, DOLocationID=223, trip_distance=1.73, predicted_duration=8.65),\n",
       " Pandas(Index=972, VendorID=1.0, lpep_pickup_datetime=Timestamp('2020-01-24 15:13:06'), PULocationID=129, DOLocationID=260, trip_distance=1.3, predicted_duration=6.5),\n",
       " Pandas(Index=973, VendorID=1.0, lpep_pickup_datetime=Timestamp('2020-01-14 17:08:52'), PULocationID=55, DOLocationID=55, trip_distance=3.7, predicted_duration=18.5),\n",
       " Pandas(Index=974, VendorID=2.0, lpep_pickup_datetime=Timestamp('2020-01-14 16:08:08'), PULocationID=260, DOLocationID=160, trip_distance=2.35, predicted_duration=11.75),\n",
       " Pandas(Index=975, VendorID=2.0, lpep_pickup_datetime=Timestamp('2020-01-10 20:26:05'), PULocationID=97, DOLocationID=62, trip_distance=3.17, predicted_duration=15.85),\n",
       " Pandas(Index=976, VendorID=2.0, lpep_pickup_datetime=Timestamp('2020-01-21 07:38:31'), PULocationID=201, DOLocationID=244, trip_distance=29.64, predicted_duration=148.2),\n",
       " Pandas(Index=977, VendorID=1.0, lpep_pickup_datetime=Timestamp('2020-01-22 18:38:59'), PULocationID=82, DOLocationID=193, trip_distance=5.1, predicted_duration=25.5),\n",
       " Pandas(Index=978, VendorID=1.0, lpep_pickup_datetime=Timestamp('2020-01-08 16:00:14'), PULocationID=25, DOLocationID=188, trip_distance=0.0, predicted_duration=0.0),\n",
       " Pandas(Index=979, VendorID=nan, lpep_pickup_datetime=Timestamp('2020-01-31 13:52:00'), PULocationID=69, DOLocationID=119, trip_distance=1.04, predicted_duration=5.2),\n",
       " Pandas(Index=980, VendorID=nan, lpep_pickup_datetime=Timestamp('2020-01-26 12:54:00'), PULocationID=210, DOLocationID=210, trip_distance=1.05, predicted_duration=5.25),\n",
       " Pandas(Index=981, VendorID=1.0, lpep_pickup_datetime=Timestamp('2020-01-30 22:45:59'), PULocationID=210, DOLocationID=210, trip_distance=0.8, predicted_duration=4.0),\n",
       " Pandas(Index=982, VendorID=nan, lpep_pickup_datetime=Timestamp('2020-01-03 06:37:00'), PULocationID=248, DOLocationID=51, trip_distance=6.54, predicted_duration=32.7),\n",
       " Pandas(Index=983, VendorID=2.0, lpep_pickup_datetime=Timestamp('2020-01-30 13:51:33'), PULocationID=42, DOLocationID=42, trip_distance=0.82, predicted_duration=4.1),\n",
       " Pandas(Index=984, VendorID=2.0, lpep_pickup_datetime=Timestamp('2020-01-16 23:40:37'), PULocationID=42, DOLocationID=75, trip_distance=2.03, predicted_duration=10.149999999999999),\n",
       " Pandas(Index=985, VendorID=2.0, lpep_pickup_datetime=Timestamp('2020-01-03 06:11:06'), PULocationID=7, DOLocationID=7, trip_distance=0.0, predicted_duration=0.0),\n",
       " Pandas(Index=986, VendorID=2.0, lpep_pickup_datetime=Timestamp('2020-01-30 10:53:53'), PULocationID=41, DOLocationID=74, trip_distance=0.84, predicted_duration=4.2),\n",
       " Pandas(Index=987, VendorID=2.0, lpep_pickup_datetime=Timestamp('2020-01-26 12:53:20'), PULocationID=33, DOLocationID=40, trip_distance=0.75, predicted_duration=3.75),\n",
       " Pandas(Index=988, VendorID=1.0, lpep_pickup_datetime=Timestamp('2020-01-08 12:51:27'), PULocationID=97, DOLocationID=170, trip_distance=7.0, predicted_duration=35.0),\n",
       " Pandas(Index=989, VendorID=1.0, lpep_pickup_datetime=Timestamp('2020-01-25 19:57:30'), PULocationID=155, DOLocationID=123, trip_distance=0.0, predicted_duration=0.0),\n",
       " Pandas(Index=990, VendorID=2.0, lpep_pickup_datetime=Timestamp('2020-01-17 08:11:27'), PULocationID=24, DOLocationID=74, trip_distance=1.8, predicted_duration=9.0),\n",
       " Pandas(Index=991, VendorID=2.0, lpep_pickup_datetime=Timestamp('2020-01-30 05:38:54'), PULocationID=244, DOLocationID=169, trip_distance=1.73, predicted_duration=8.65),\n",
       " Pandas(Index=992, VendorID=2.0, lpep_pickup_datetime=Timestamp('2020-01-06 13:53:18'), PULocationID=223, DOLocationID=223, trip_distance=0.74, predicted_duration=3.7),\n",
       " Pandas(Index=993, VendorID=nan, lpep_pickup_datetime=Timestamp('2020-01-08 12:34:00'), PULocationID=49, DOLocationID=265, trip_distance=14.37, predicted_duration=71.85),\n",
       " Pandas(Index=994, VendorID=2.0, lpep_pickup_datetime=Timestamp('2020-01-27 18:28:10'), PULocationID=7, DOLocationID=7, trip_distance=0.73, predicted_duration=3.65),\n",
       " Pandas(Index=995, VendorID=2.0, lpep_pickup_datetime=Timestamp('2020-01-12 02:05:43'), PULocationID=226, DOLocationID=262, trip_distance=4.1, predicted_duration=20.5),\n",
       " Pandas(Index=996, VendorID=2.0, lpep_pickup_datetime=Timestamp('2020-01-09 17:06:15'), PULocationID=82, DOLocationID=138, trip_distance=3.83, predicted_duration=19.15),\n",
       " Pandas(Index=997, VendorID=nan, lpep_pickup_datetime=Timestamp('2020-01-12 09:05:00'), PULocationID=119, DOLocationID=222, trip_distance=21.81, predicted_duration=109.05),\n",
       " Pandas(Index=998, VendorID=2.0, lpep_pickup_datetime=Timestamp('2020-01-18 07:39:52'), PULocationID=41, DOLocationID=166, trip_distance=0.92, predicted_duration=4.6000000000000005),\n",
       " Pandas(Index=999, VendorID=nan, lpep_pickup_datetime=Timestamp('2020-01-04 20:44:00'), PULocationID=235, DOLocationID=259, trip_distance=5.23, predicted_duration=26.150000000000002),\n",
       " ...]"
      ]
     },
     "execution_count": 51,
     "metadata": {},
     "output_type": "execute_result"
    }
   ],
   "source": [
    "duration_rdd.mapPartitions(apply_model_in_batch).collect()"
   ]
  },
  {
   "cell_type": "code",
   "execution_count": 58,
   "id": "e00c7b58-cb54-4c07-983e-1148037b6b3d",
   "metadata": {},
   "outputs": [
    {
     "name": "stderr",
     "output_type": "stream",
     "text": [
      "                                                                                \r"
     ]
    }
   ],
   "source": [
    "df_predicts = duration_rdd \\\n",
    "    .mapPartitions(apply_model_in_batch)\\\n",
    "    .toDF() \\\n",
    "    .drop('Index')"
   ]
  },
  {
   "cell_type": "code",
   "execution_count": 59,
   "id": "0d7837ff-5783-45f9-bdb1-47e9df88c1ab",
   "metadata": {},
   "outputs": [
    {
     "name": "stderr",
     "output_type": "stream",
     "text": [
      "[Stage 32:>                                                         (0 + 1) / 1]\r"
     ]
    },
    {
     "name": "stdout",
     "output_type": "stream",
     "text": [
      "+------------------+\n",
      "|predicted_duration|\n",
      "+------------------+\n",
      "| 4.050000000000001|\n",
      "|              15.1|\n",
      "|6.6000000000000005|\n",
      "|              4.45|\n",
      "|             14.15|\n",
      "|              6.65|\n",
      "|             17.05|\n",
      "|               7.5|\n",
      "|               1.0|\n",
      "|12.350000000000001|\n",
      "|              97.6|\n",
      "|               2.6|\n",
      "|              40.9|\n",
      "|             14.75|\n",
      "|               7.9|\n",
      "|               4.3|\n",
      "|              79.2|\n",
      "| 6.550000000000001|\n",
      "|3.5999999999999996|\n",
      "|               5.5|\n",
      "+------------------+\n",
      "only showing top 20 rows\n",
      "\n"
     ]
    },
    {
     "name": "stderr",
     "output_type": "stream",
     "text": [
      "                                                                                \r"
     ]
    }
   ],
   "source": [
    "df_predicts.select('predicted_duration').show()"
   ]
  },
  {
   "cell_type": "code",
   "execution_count": null,
   "id": "b41c8b29-6b4a-4cdd-af39-0fd7d4870cff",
   "metadata": {},
   "outputs": [],
   "source": []
  }
 ],
 "metadata": {
  "kernelspec": {
   "display_name": "Python 3 (ipykernel)",
   "language": "python",
   "name": "python3"
  },
  "language_info": {
   "codemirror_mode": {
    "name": "ipython",
    "version": 3
   },
   "file_extension": ".py",
   "mimetype": "text/x-python",
   "name": "python",
   "nbconvert_exporter": "python",
   "pygments_lexer": "ipython3",
   "version": "3.10.13"
  }
 },
 "nbformat": 4,
 "nbformat_minor": 5
}
