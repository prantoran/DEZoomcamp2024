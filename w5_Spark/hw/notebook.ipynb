{
 "cells": [
  {
   "cell_type": "markdown",
   "id": "1182dd8d-b9f6-4bb9-9e45-2d6dcc0c8b0b",
   "metadata": {},
   "source": [
    "## Week 5 Homework \n",
    "\n",
    "In this homework we'll put what we learned about Spark in practice.\n",
    "\n",
    "For this homework we will be using the FHV 2019-10 data found here. [FHV Data](https://github.com/DataTalksClub/nyc-tlc-data/releases/download/fhv/fhv_tripdata_2019-10.csv.gz)"
   ]
  },
  {
   "cell_type": "code",
   "execution_count": 1,
   "id": "8d3c5bb0-072c-4bd4-99a2-9378d2728cf9",
   "metadata": {},
   "outputs": [],
   "source": [
    "import pyspark\n",
    "from pyspark.sql import SparkSession"
   ]
  },
  {
   "cell_type": "code",
   "execution_count": 2,
   "id": "e1819926-68b2-43d7-9dff-19ee243406ad",
   "metadata": {},
   "outputs": [
    {
     "name": "stdout",
     "output_type": "stream",
     "text": [
      "24/03/06 05:23:44 WARN Utils: Your hostname, queen resolves to a loopback address: 127.0.1.1; using 192.168.1.134 instead (on interface wlo1)\n",
      "24/03/06 05:23:44 WARN Utils: Set SPARK_LOCAL_IP if you need to bind to another address\n"
     ]
    },
    {
     "name": "stderr",
     "output_type": "stream",
     "text": [
      "Setting default log level to \"WARN\".\n",
      "To adjust logging level use sc.setLogLevel(newLevel). For SparkR, use setLogLevel(newLevel).\n"
     ]
    },
    {
     "name": "stdout",
     "output_type": "stream",
     "text": [
      "24/03/06 05:23:45 WARN NativeCodeLoader: Unable to load native-hadoop library for your platform... using builtin-java classes where applicable\n"
     ]
    }
   ],
   "source": [
    "spark = SparkSession.builder \\\n",
    "    .master(\"local[*]\") \\\n",
    "    .appName('test') \\\n",
    "    .getOrCreate()"
   ]
  },
  {
   "cell_type": "markdown",
   "id": "7b012f1e-a169-4a4c-b482-f427a8eeef84",
   "metadata": {},
   "source": [
    "### Question 1\n",
    "**Install Spark and PySpark** \n",
    "\n",
    "- Install Spark\n",
    "- Run PySpark\n",
    "- Create a local spark session\n",
    "- Execute spark.version.\n",
    "\n",
    "What's the output?\n",
    "\n",
    "> [!NOTE]\n",
    "> To install PySpark follow this [guide](https://github.com/DataTalksClub/data-engineering-zoomcamp/blob/main/05-batch/setup/pyspark.md)"
   ]
  },
  {
   "cell_type": "code",
   "execution_count": 3,
   "id": "c20a2e82-f90e-47a8-87b1-0921568c2158",
   "metadata": {},
   "outputs": [
    {
     "name": "stdout",
     "output_type": "stream",
     "text": [
      "3.3.2\n"
     ]
    }
   ],
   "source": [
    "print(spark.version)"
   ]
  },
  {
   "cell_type": "markdown",
   "id": "5ebabfbb-6eb1-4834-b985-fe3550b0437a",
   "metadata": {},
   "source": [
    "### Question 2\n",
    "\n",
    "**FHV October 2019**\n",
    "\n",
    "Read the October 2019 FHV into a Spark Dataframe with a schema as we did in the lessons.\n",
    "\n",
    "Repartition the Dataframe to 6 partitions and save it to parquet.\n",
    "\n",
    "What is the average size of the Parquet (ending with .parquet extension) Files that were created (in MB)? Select the answer which most closely matches.\n",
    "\n",
    "- 1MB\n",
    "- 6MB\n",
    "- 25MB\n",
    "- 87MB\n"
   ]
  },
  {
   "cell_type": "code",
   "execution_count": 4,
   "id": "ecdc86e6-e4d7-4709-ab13-8d1d59d05979",
   "metadata": {},
   "outputs": [
    {
     "name": "stdout",
     "output_type": "stream",
     "text": [
      "1897494 fhv_tripdata_2019-10.csv\n"
     ]
    }
   ],
   "source": [
    "!wc -l fhv_tripdata_2019-10.csv"
   ]
  },
  {
   "cell_type": "code",
   "execution_count": 5,
   "id": "85797d3b-f5d9-401a-8fec-76b9ae75cc88",
   "metadata": {},
   "outputs": [],
   "source": [
    "df = spark.read \\\n",
    "    .option(\"header\", \"true\") \\\n",
    "    .csv('fhv_tripdata_2019-10.csv')"
   ]
  },
  {
   "cell_type": "code",
   "execution_count": 6,
   "id": "4ad45048-c331-4cbc-820b-3dacecb097f1",
   "metadata": {},
   "outputs": [
    {
     "data": {
      "text/plain": [
       "Row(dispatching_base_num='B00009', pickup_datetime='2019-10-01 00:23:00', dropOff_datetime='2019-10-01 00:35:00', PUlocationID='264', DOlocationID='264', SR_Flag=None, Affiliated_base_number='B00009')"
      ]
     },
     "execution_count": 6,
     "metadata": {},
     "output_type": "execute_result"
    }
   ],
   "source": [
    "df.head()"
   ]
  },
  {
   "cell_type": "code",
   "execution_count": 7,
   "id": "dc34628c-b0ee-4b3d-9880-a233de578aea",
   "metadata": {},
   "outputs": [],
   "source": [
    "import pandas as pd\n"
   ]
  },
  {
   "cell_type": "code",
   "execution_count": 8,
   "id": "95d754e1-7943-4c54-8d20-ed4707efc727",
   "metadata": {},
   "outputs": [],
   "source": [
    "!head -n 1001 fhv_tripdata_2019-10.csv > head.csv"
   ]
  },
  {
   "cell_type": "code",
   "execution_count": 14,
   "id": "64dae4cf-a67c-4ed9-831b-3f7568a080f4",
   "metadata": {},
   "outputs": [],
   "source": [
    "df_pandas = pd.read_csv('head.csv')"
   ]
  },
  {
   "cell_type": "code",
   "execution_count": 15,
   "id": "873dbcfd-25f4-4e09-a375-e89c7bf6a603",
   "metadata": {},
   "outputs": [],
   "source": [
    "df_pandas.iteritems = df_pandas.items"
   ]
  },
  {
   "cell_type": "code",
   "execution_count": 11,
   "id": "f20a4e8c-5902-437b-aa11-97c630bfd3e3",
   "metadata": {},
   "outputs": [
    {
     "ename": "TypeError",
     "evalue": "field Affiliated_base_number: Can not merge type <class 'pyspark.sql.types.StringType'> and <class 'pyspark.sql.types.DoubleType'>",
     "output_type": "error",
     "traceback": [
      "\u001b[0;31m---------------------------------------------------------------------------\u001b[0m",
      "\u001b[0;31mTypeError\u001b[0m                                 Traceback (most recent call last)",
      "Cell \u001b[0;32mIn[11], line 1\u001b[0m\n\u001b[0;32m----> 1\u001b[0m \u001b[43mspark\u001b[49m\u001b[38;5;241;43m.\u001b[39;49m\u001b[43mcreateDataFrame\u001b[49m\u001b[43m(\u001b[49m\u001b[43mdf_pandas\u001b[49m\u001b[43m)\u001b[49m\u001b[38;5;241m.\u001b[39mschema\n",
      "File \u001b[0;32m~/spark/spark-3.3.2-bin-hadoop3/python/pyspark/sql/session.py:891\u001b[0m, in \u001b[0;36mSparkSession.createDataFrame\u001b[0;34m(self, data, schema, samplingRatio, verifySchema)\u001b[0m\n\u001b[1;32m    888\u001b[0m     has_pandas \u001b[38;5;241m=\u001b[39m \u001b[38;5;28;01mFalse\u001b[39;00m\n\u001b[1;32m    889\u001b[0m \u001b[38;5;28;01mif\u001b[39;00m has_pandas \u001b[38;5;129;01mand\u001b[39;00m \u001b[38;5;28misinstance\u001b[39m(data, pandas\u001b[38;5;241m.\u001b[39mDataFrame):\n\u001b[1;32m    890\u001b[0m     \u001b[38;5;66;03m# Create a DataFrame from pandas DataFrame.\u001b[39;00m\n\u001b[0;32m--> 891\u001b[0m     \u001b[38;5;28;01mreturn\u001b[39;00m \u001b[38;5;28;43msuper\u001b[39;49m\u001b[43m(\u001b[49m\u001b[43mSparkSession\u001b[49m\u001b[43m,\u001b[49m\u001b[43m \u001b[49m\u001b[38;5;28;43mself\u001b[39;49m\u001b[43m)\u001b[49m\u001b[38;5;241;43m.\u001b[39;49m\u001b[43mcreateDataFrame\u001b[49m\u001b[43m(\u001b[49m\u001b[43m  \u001b[49m\u001b[38;5;66;43;03m# type: ignore[call-overload]\u001b[39;49;00m\n\u001b[1;32m    892\u001b[0m \u001b[43m        \u001b[49m\u001b[43mdata\u001b[49m\u001b[43m,\u001b[49m\u001b[43m \u001b[49m\u001b[43mschema\u001b[49m\u001b[43m,\u001b[49m\u001b[43m \u001b[49m\u001b[43msamplingRatio\u001b[49m\u001b[43m,\u001b[49m\u001b[43m \u001b[49m\u001b[43mverifySchema\u001b[49m\n\u001b[1;32m    893\u001b[0m \u001b[43m    \u001b[49m\u001b[43m)\u001b[49m\n\u001b[1;32m    894\u001b[0m \u001b[38;5;28;01mreturn\u001b[39;00m \u001b[38;5;28mself\u001b[39m\u001b[38;5;241m.\u001b[39m_create_dataframe(\n\u001b[1;32m    895\u001b[0m     data, schema, samplingRatio, verifySchema  \u001b[38;5;66;03m# type: ignore[arg-type]\u001b[39;00m\n\u001b[1;32m    896\u001b[0m )\n",
      "File \u001b[0;32m~/spark/spark-3.3.2-bin-hadoop3/python/pyspark/sql/pandas/conversion.py:437\u001b[0m, in \u001b[0;36mSparkConversionMixin.createDataFrame\u001b[0;34m(self, data, schema, samplingRatio, verifySchema)\u001b[0m\n\u001b[1;32m    435\u001b[0m             \u001b[38;5;28;01mraise\u001b[39;00m\n\u001b[1;32m    436\u001b[0m converted_data \u001b[38;5;241m=\u001b[39m \u001b[38;5;28mself\u001b[39m\u001b[38;5;241m.\u001b[39m_convert_from_pandas(data, schema, timezone)\n\u001b[0;32m--> 437\u001b[0m \u001b[38;5;28;01mreturn\u001b[39;00m \u001b[38;5;28;43mself\u001b[39;49m\u001b[38;5;241;43m.\u001b[39;49m\u001b[43m_create_dataframe\u001b[49m\u001b[43m(\u001b[49m\u001b[43mconverted_data\u001b[49m\u001b[43m,\u001b[49m\u001b[43m \u001b[49m\u001b[43mschema\u001b[49m\u001b[43m,\u001b[49m\u001b[43m \u001b[49m\u001b[43msamplingRatio\u001b[49m\u001b[43m,\u001b[49m\u001b[43m \u001b[49m\u001b[43mverifySchema\u001b[49m\u001b[43m)\u001b[49m\n",
      "File \u001b[0;32m~/spark/spark-3.3.2-bin-hadoop3/python/pyspark/sql/session.py:936\u001b[0m, in \u001b[0;36mSparkSession._create_dataframe\u001b[0;34m(self, data, schema, samplingRatio, verifySchema)\u001b[0m\n\u001b[1;32m    934\u001b[0m     rdd, struct \u001b[38;5;241m=\u001b[39m \u001b[38;5;28mself\u001b[39m\u001b[38;5;241m.\u001b[39m_createFromRDD(data\u001b[38;5;241m.\u001b[39mmap(prepare), schema, samplingRatio)\n\u001b[1;32m    935\u001b[0m \u001b[38;5;28;01melse\u001b[39;00m:\n\u001b[0;32m--> 936\u001b[0m     rdd, struct \u001b[38;5;241m=\u001b[39m \u001b[38;5;28;43mself\u001b[39;49m\u001b[38;5;241;43m.\u001b[39;49m\u001b[43m_createFromLocal\u001b[49m\u001b[43m(\u001b[49m\u001b[38;5;28;43mmap\u001b[39;49m\u001b[43m(\u001b[49m\u001b[43mprepare\u001b[49m\u001b[43m,\u001b[49m\u001b[43m \u001b[49m\u001b[43mdata\u001b[49m\u001b[43m)\u001b[49m\u001b[43m,\u001b[49m\u001b[43m \u001b[49m\u001b[43mschema\u001b[49m\u001b[43m)\u001b[49m\n\u001b[1;32m    937\u001b[0m \u001b[38;5;28;01massert\u001b[39;00m \u001b[38;5;28mself\u001b[39m\u001b[38;5;241m.\u001b[39m_jvm \u001b[38;5;129;01mis\u001b[39;00m \u001b[38;5;129;01mnot\u001b[39;00m \u001b[38;5;28;01mNone\u001b[39;00m\n\u001b[1;32m    938\u001b[0m jrdd \u001b[38;5;241m=\u001b[39m \u001b[38;5;28mself\u001b[39m\u001b[38;5;241m.\u001b[39m_jvm\u001b[38;5;241m.\u001b[39mSerDeUtil\u001b[38;5;241m.\u001b[39mtoJavaArray(rdd\u001b[38;5;241m.\u001b[39m_to_java_object_rdd())\n",
      "File \u001b[0;32m~/spark/spark-3.3.2-bin-hadoop3/python/pyspark/sql/session.py:631\u001b[0m, in \u001b[0;36mSparkSession._createFromLocal\u001b[0;34m(self, data, schema)\u001b[0m\n\u001b[1;32m    628\u001b[0m     data \u001b[38;5;241m=\u001b[39m \u001b[38;5;28mlist\u001b[39m(data)\n\u001b[1;32m    630\u001b[0m \u001b[38;5;28;01mif\u001b[39;00m schema \u001b[38;5;129;01mis\u001b[39;00m \u001b[38;5;28;01mNone\u001b[39;00m \u001b[38;5;129;01mor\u001b[39;00m \u001b[38;5;28misinstance\u001b[39m(schema, (\u001b[38;5;28mlist\u001b[39m, \u001b[38;5;28mtuple\u001b[39m)):\n\u001b[0;32m--> 631\u001b[0m     struct \u001b[38;5;241m=\u001b[39m \u001b[38;5;28;43mself\u001b[39;49m\u001b[38;5;241;43m.\u001b[39;49m\u001b[43m_inferSchemaFromList\u001b[49m\u001b[43m(\u001b[49m\u001b[43mdata\u001b[49m\u001b[43m,\u001b[49m\u001b[43m \u001b[49m\u001b[43mnames\u001b[49m\u001b[38;5;241;43m=\u001b[39;49m\u001b[43mschema\u001b[49m\u001b[43m)\u001b[49m\n\u001b[1;32m    632\u001b[0m     converter \u001b[38;5;241m=\u001b[39m _create_converter(struct)\n\u001b[1;32m    633\u001b[0m     tupled_data: Iterable[Tuple] \u001b[38;5;241m=\u001b[39m \u001b[38;5;28mmap\u001b[39m(converter, data)\n",
      "File \u001b[0;32m~/spark/spark-3.3.2-bin-hadoop3/python/pyspark/sql/session.py:517\u001b[0m, in \u001b[0;36mSparkSession._inferSchemaFromList\u001b[0;34m(self, data, names)\u001b[0m\n\u001b[1;32m    515\u001b[0m infer_dict_as_struct \u001b[38;5;241m=\u001b[39m \u001b[38;5;28mself\u001b[39m\u001b[38;5;241m.\u001b[39m_jconf\u001b[38;5;241m.\u001b[39minferDictAsStruct()\n\u001b[1;32m    516\u001b[0m prefer_timestamp_ntz \u001b[38;5;241m=\u001b[39m is_timestamp_ntz_preferred()\n\u001b[0;32m--> 517\u001b[0m schema \u001b[38;5;241m=\u001b[39m \u001b[43mreduce\u001b[49m\u001b[43m(\u001b[49m\n\u001b[1;32m    518\u001b[0m \u001b[43m    \u001b[49m\u001b[43m_merge_type\u001b[49m\u001b[43m,\u001b[49m\n\u001b[1;32m    519\u001b[0m \u001b[43m    \u001b[49m\u001b[43m(\u001b[49m\u001b[43m_infer_schema\u001b[49m\u001b[43m(\u001b[49m\u001b[43mrow\u001b[49m\u001b[43m,\u001b[49m\u001b[43m \u001b[49m\u001b[43mnames\u001b[49m\u001b[43m,\u001b[49m\u001b[43m \u001b[49m\u001b[43minfer_dict_as_struct\u001b[49m\u001b[43m,\u001b[49m\u001b[43m \u001b[49m\u001b[43mprefer_timestamp_ntz\u001b[49m\u001b[43m)\u001b[49m\u001b[43m \u001b[49m\u001b[38;5;28;43;01mfor\u001b[39;49;00m\u001b[43m \u001b[49m\u001b[43mrow\u001b[49m\u001b[43m \u001b[49m\u001b[38;5;129;43;01min\u001b[39;49;00m\u001b[43m \u001b[49m\u001b[43mdata\u001b[49m\u001b[43m)\u001b[49m\u001b[43m,\u001b[49m\n\u001b[1;32m    520\u001b[0m \u001b[43m\u001b[49m\u001b[43m)\u001b[49m\n\u001b[1;32m    521\u001b[0m \u001b[38;5;28;01mif\u001b[39;00m _has_nulltype(schema):\n\u001b[1;32m    522\u001b[0m     \u001b[38;5;28;01mraise\u001b[39;00m \u001b[38;5;167;01mValueError\u001b[39;00m(\u001b[38;5;124m\"\u001b[39m\u001b[38;5;124mSome of types cannot be determined after inferring\u001b[39m\u001b[38;5;124m\"\u001b[39m)\n",
      "File \u001b[0;32m~/spark/spark-3.3.2-bin-hadoop3/python/pyspark/sql/types.py:1383\u001b[0m, in \u001b[0;36m_merge_type\u001b[0;34m(a, b, name)\u001b[0m\n\u001b[1;32m   1381\u001b[0m \u001b[38;5;28;01mif\u001b[39;00m \u001b[38;5;28misinstance\u001b[39m(a, StructType):\n\u001b[1;32m   1382\u001b[0m     nfs \u001b[38;5;241m=\u001b[39m \u001b[38;5;28mdict\u001b[39m((f\u001b[38;5;241m.\u001b[39mname, f\u001b[38;5;241m.\u001b[39mdataType) \u001b[38;5;28;01mfor\u001b[39;00m f \u001b[38;5;129;01min\u001b[39;00m cast(StructType, b)\u001b[38;5;241m.\u001b[39mfields)\n\u001b[0;32m-> 1383\u001b[0m     fields \u001b[38;5;241m=\u001b[39m [\n\u001b[1;32m   1384\u001b[0m         StructField(\n\u001b[1;32m   1385\u001b[0m             f\u001b[38;5;241m.\u001b[39mname, _merge_type(f\u001b[38;5;241m.\u001b[39mdataType, nfs\u001b[38;5;241m.\u001b[39mget(f\u001b[38;5;241m.\u001b[39mname, NullType()), name\u001b[38;5;241m=\u001b[39mnew_name(f\u001b[38;5;241m.\u001b[39mname))\n\u001b[1;32m   1386\u001b[0m         )\n\u001b[1;32m   1387\u001b[0m         \u001b[38;5;28;01mfor\u001b[39;00m f \u001b[38;5;129;01min\u001b[39;00m a\u001b[38;5;241m.\u001b[39mfields\n\u001b[1;32m   1388\u001b[0m     ]\n\u001b[1;32m   1389\u001b[0m     names \u001b[38;5;241m=\u001b[39m \u001b[38;5;28mset\u001b[39m([f\u001b[38;5;241m.\u001b[39mname \u001b[38;5;28;01mfor\u001b[39;00m f \u001b[38;5;129;01min\u001b[39;00m fields])\n\u001b[1;32m   1390\u001b[0m     \u001b[38;5;28;01mfor\u001b[39;00m n \u001b[38;5;129;01min\u001b[39;00m nfs:\n",
      "File \u001b[0;32m~/spark/spark-3.3.2-bin-hadoop3/python/pyspark/sql/types.py:1385\u001b[0m, in \u001b[0;36m<listcomp>\u001b[0;34m(.0)\u001b[0m\n\u001b[1;32m   1381\u001b[0m \u001b[38;5;28;01mif\u001b[39;00m \u001b[38;5;28misinstance\u001b[39m(a, StructType):\n\u001b[1;32m   1382\u001b[0m     nfs \u001b[38;5;241m=\u001b[39m \u001b[38;5;28mdict\u001b[39m((f\u001b[38;5;241m.\u001b[39mname, f\u001b[38;5;241m.\u001b[39mdataType) \u001b[38;5;28;01mfor\u001b[39;00m f \u001b[38;5;129;01min\u001b[39;00m cast(StructType, b)\u001b[38;5;241m.\u001b[39mfields)\n\u001b[1;32m   1383\u001b[0m     fields \u001b[38;5;241m=\u001b[39m [\n\u001b[1;32m   1384\u001b[0m         StructField(\n\u001b[0;32m-> 1385\u001b[0m             f\u001b[38;5;241m.\u001b[39mname, \u001b[43m_merge_type\u001b[49m\u001b[43m(\u001b[49m\u001b[43mf\u001b[49m\u001b[38;5;241;43m.\u001b[39;49m\u001b[43mdataType\u001b[49m\u001b[43m,\u001b[49m\u001b[43m \u001b[49m\u001b[43mnfs\u001b[49m\u001b[38;5;241;43m.\u001b[39;49m\u001b[43mget\u001b[49m\u001b[43m(\u001b[49m\u001b[43mf\u001b[49m\u001b[38;5;241;43m.\u001b[39;49m\u001b[43mname\u001b[49m\u001b[43m,\u001b[49m\u001b[43m \u001b[49m\u001b[43mNullType\u001b[49m\u001b[43m(\u001b[49m\u001b[43m)\u001b[49m\u001b[43m)\u001b[49m\u001b[43m,\u001b[49m\u001b[43m \u001b[49m\u001b[43mname\u001b[49m\u001b[38;5;241;43m=\u001b[39;49m\u001b[43mnew_name\u001b[49m\u001b[43m(\u001b[49m\u001b[43mf\u001b[49m\u001b[38;5;241;43m.\u001b[39;49m\u001b[43mname\u001b[49m\u001b[43m)\u001b[49m\u001b[43m)\u001b[49m\n\u001b[1;32m   1386\u001b[0m         )\n\u001b[1;32m   1387\u001b[0m         \u001b[38;5;28;01mfor\u001b[39;00m f \u001b[38;5;129;01min\u001b[39;00m a\u001b[38;5;241m.\u001b[39mfields\n\u001b[1;32m   1388\u001b[0m     ]\n\u001b[1;32m   1389\u001b[0m     names \u001b[38;5;241m=\u001b[39m \u001b[38;5;28mset\u001b[39m([f\u001b[38;5;241m.\u001b[39mname \u001b[38;5;28;01mfor\u001b[39;00m f \u001b[38;5;129;01min\u001b[39;00m fields])\n\u001b[1;32m   1390\u001b[0m     \u001b[38;5;28;01mfor\u001b[39;00m n \u001b[38;5;129;01min\u001b[39;00m nfs:\n",
      "File \u001b[0;32m~/spark/spark-3.3.2-bin-hadoop3/python/pyspark/sql/types.py:1378\u001b[0m, in \u001b[0;36m_merge_type\u001b[0;34m(a, b, name)\u001b[0m\n\u001b[1;32m   1375\u001b[0m     \u001b[38;5;28;01mreturn\u001b[39;00m b\n\u001b[1;32m   1376\u001b[0m \u001b[38;5;28;01melif\u001b[39;00m \u001b[38;5;28mtype\u001b[39m(a) \u001b[38;5;129;01mis\u001b[39;00m \u001b[38;5;129;01mnot\u001b[39;00m \u001b[38;5;28mtype\u001b[39m(b):\n\u001b[1;32m   1377\u001b[0m     \u001b[38;5;66;03m# TODO: type cast (such as int -> long)\u001b[39;00m\n\u001b[0;32m-> 1378\u001b[0m     \u001b[38;5;28;01mraise\u001b[39;00m \u001b[38;5;167;01mTypeError\u001b[39;00m(new_msg(\u001b[38;5;124m\"\u001b[39m\u001b[38;5;124mCan not merge type \u001b[39m\u001b[38;5;132;01m%s\u001b[39;00m\u001b[38;5;124m and \u001b[39m\u001b[38;5;132;01m%s\u001b[39;00m\u001b[38;5;124m\"\u001b[39m \u001b[38;5;241m%\u001b[39m (\u001b[38;5;28mtype\u001b[39m(a), \u001b[38;5;28mtype\u001b[39m(b))))\n\u001b[1;32m   1380\u001b[0m \u001b[38;5;66;03m# same type\u001b[39;00m\n\u001b[1;32m   1381\u001b[0m \u001b[38;5;28;01mif\u001b[39;00m \u001b[38;5;28misinstance\u001b[39m(a, StructType):\n",
      "\u001b[0;31mTypeError\u001b[0m: field Affiliated_base_number: Can not merge type <class 'pyspark.sql.types.StringType'> and <class 'pyspark.sql.types.DoubleType'>"
     ]
    }
   ],
   "source": [
    "spark.createDataFrame(df_pandas).schema"
   ]
  },
  {
   "cell_type": "code",
   "execution_count": 18,
   "id": "2c4ab90e-2016-4c7d-a440-f900c1e54e8f",
   "metadata": {},
   "outputs": [],
   "source": [
    "df_pandas['Affiliated_base_number'] = df_pandas['Affiliated_base_number'].fillna(\"\")"
   ]
  },
  {
   "cell_type": "code",
   "execution_count": 19,
   "id": "09e50128-4de1-4eea-9cf8-7848bbe25a83",
   "metadata": {},
   "outputs": [
    {
     "data": {
      "text/plain": [
       "StructType([StructField('dispatching_base_num', StringType(), True), StructField('pickup_datetime', StringType(), True), StructField('dropOff_datetime', StringType(), True), StructField('PUlocationID', DoubleType(), True), StructField('DOlocationID', DoubleType(), True), StructField('SR_Flag', DoubleType(), True), StructField('Affiliated_base_number', StringType(), True)])"
      ]
     },
     "execution_count": 19,
     "metadata": {},
     "output_type": "execute_result"
    }
   ],
   "source": [
    "spark.createDataFrame(df_pandas).schema"
   ]
  },
  {
   "cell_type": "code",
   "execution_count": 20,
   "id": "f41d42b6-6f72-40c6-8b37-c1ba07c2c7a1",
   "metadata": {},
   "outputs": [],
   "source": [
    "from pyspark.sql import types"
   ]
  },
  {
   "cell_type": "code",
   "execution_count": 21,
   "id": "3d37884a-7f83-4b33-8715-b93abbf22356",
   "metadata": {},
   "outputs": [],
   "source": [
    "schema = types.StructType([\n",
    "    types.StructField('dispatching_base_num', types.StringType(), True), \n",
    "    types.StructField('pickup_datetime', types.TimestampType(), True), \n",
    "    types.StructField('dropOff_datetime', types.TimestampType(), True), \n",
    "    types.StructField('PUlocationID', types.LongType(), True), \n",
    "    types.StructField('DOlocationID', types.LongType(), True), \n",
    "    types.StructField('SR_Flag', types.StringType(), True), \n",
    "    types.StructField('Affiliated_base_number', types.StringType(), True)]\n",
    ")"
   ]
  },
  {
   "cell_type": "code",
   "execution_count": 24,
   "id": "24ddbf7d-6633-4c51-95ba-496e7d499937",
   "metadata": {},
   "outputs": [],
   "source": [
    "df = spark.read \\\n",
    "    .option(\"header\", \"true\") \\\n",
    "    .schema(schema) \\\n",
    "    .csv('fhv_tripdata_2019-10.csv.gz')"
   ]
  },
  {
   "cell_type": "code",
   "execution_count": 25,
   "id": "5ef14f9c-1ec8-491b-8e29-017c972f367f",
   "metadata": {},
   "outputs": [
    {
     "name": "stderr",
     "output_type": "stream",
     "text": [
      "                                                                                \r"
     ]
    }
   ],
   "source": [
    "df.repartition(6).write.parquet('./data')"
   ]
  },
  {
   "cell_type": "code",
   "execution_count": 26,
   "id": "76118502-87fe-435d-9ec2-4cf4e54cc8da",
   "metadata": {},
   "outputs": [
    {
     "name": "stdout",
     "output_type": "stream",
     "text": [
      "total 39M\n",
      "drwxr-xr-x 2 pinku pinku 4.0K Mar  6 06:22 .\n",
      "drwxrwxr-x 4 pinku pinku 4.0K Mar  6 06:23 ..\n",
      "-rw-r--r-- 1 pinku pinku 6.4M Mar  6 06:22 part-00000-d10de12e-114c-4ad3-9b70-7b13ce852549-c000.snappy.parquet\n",
      "-rw-r--r-- 1 pinku pinku  51K Mar  6 06:22 .part-00000-d10de12e-114c-4ad3-9b70-7b13ce852549-c000.snappy.parquet.crc\n",
      "-rw-r--r-- 1 pinku pinku 6.4M Mar  6 06:22 part-00001-d10de12e-114c-4ad3-9b70-7b13ce852549-c000.snappy.parquet\n",
      "-rw-r--r-- 1 pinku pinku  51K Mar  6 06:22 .part-00001-d10de12e-114c-4ad3-9b70-7b13ce852549-c000.snappy.parquet.crc\n",
      "-rw-r--r-- 1 pinku pinku 6.4M Mar  6 06:22 part-00002-d10de12e-114c-4ad3-9b70-7b13ce852549-c000.snappy.parquet\n",
      "-rw-r--r-- 1 pinku pinku  51K Mar  6 06:22 .part-00002-d10de12e-114c-4ad3-9b70-7b13ce852549-c000.snappy.parquet.crc\n",
      "-rw-r--r-- 1 pinku pinku 6.4M Mar  6 06:22 part-00003-d10de12e-114c-4ad3-9b70-7b13ce852549-c000.snappy.parquet\n",
      "-rw-r--r-- 1 pinku pinku  51K Mar  6 06:22 .part-00003-d10de12e-114c-4ad3-9b70-7b13ce852549-c000.snappy.parquet.crc\n",
      "-rw-r--r-- 1 pinku pinku 6.4M Mar  6 06:22 part-00004-d10de12e-114c-4ad3-9b70-7b13ce852549-c000.snappy.parquet\n",
      "-rw-r--r-- 1 pinku pinku  51K Mar  6 06:22 .part-00004-d10de12e-114c-4ad3-9b70-7b13ce852549-c000.snappy.parquet.crc\n",
      "-rw-r--r-- 1 pinku pinku 6.4M Mar  6 06:22 part-00005-d10de12e-114c-4ad3-9b70-7b13ce852549-c000.snappy.parquet\n",
      "-rw-r--r-- 1 pinku pinku  51K Mar  6 06:22 .part-00005-d10de12e-114c-4ad3-9b70-7b13ce852549-c000.snappy.parquet.crc\n",
      "-rw-r--r-- 1 pinku pinku    0 Mar  6 06:22 _SUCCESS\n",
      "-rw-r--r-- 1 pinku pinku    8 Mar  6 06:22 ._SUCCESS.crc\n"
     ]
    }
   ],
   "source": [
    "!ls -lah ./data"
   ]
  },
  {
   "cell_type": "markdown",
   "id": "d3cd120b-a6e7-4f7e-ad36-c51740428a63",
   "metadata": {},
   "source": [
    "### Question 3: \n",
    "\n",
    "**Count records** \n",
    "\n",
    "How many taxi trips were there on the 15th of October?\n",
    "\n",
    "Consider only trips that started on the 15th of October.\n",
    "\n",
    "- 108,164\n",
    "- 12,856\n",
    "- 452,470\n",
    "- 62,610\n",
    "\n",
    "> [!IMPORTANT]\n",
    "> Be aware of columns order when defining schema\n"
   ]
  },
  {
   "cell_type": "code",
   "execution_count": 28,
   "id": "bd432ade-d4be-4fa8-aa8d-5dafe883e71d",
   "metadata": {},
   "outputs": [],
   "source": [
    "df.createOrReplaceTempView(\"FHV_Records\")"
   ]
  },
  {
   "cell_type": "code",
   "execution_count": 29,
   "id": "b3db44f4-f139-431a-8631-00f1aba6e6a6",
   "metadata": {},
   "outputs": [
    {
     "name": "stderr",
     "output_type": "stream",
     "text": [
      "[Stage 5:>                                                          (0 + 1) / 1]\r"
     ]
    },
    {
     "name": "stdout",
     "output_type": "stream",
     "text": [
      "+--------+\n",
      "|count(1)|\n",
      "+--------+\n",
      "|   62610|\n",
      "+--------+\n",
      "\n"
     ]
    },
    {
     "name": "stderr",
     "output_type": "stream",
     "text": [
      "                                                                                \r"
     ]
    }
   ],
   "source": [
    "spark.sql(\"\"\"\n",
    "SELECT count(*)\n",
    "FROM FHV_Records\n",
    "WHERE pickup_datetime >= '2019-10-15'\n",
    "    AND pickup_datetime < '2019-10-16'\n",
    "\"\"\").show()"
   ]
  },
  {
   "cell_type": "markdown",
   "id": "b9597da3-1194-4cd7-bae7-18e66172006c",
   "metadata": {},
   "source": [
    "### Question 4: \n",
    "\n",
    "**Longest trip for each day** \n",
    "\n",
    "What is the length of the longest trip in the dataset in hours?\n",
    "\n",
    "- 631,152.50 Hours\n",
    "- 243.44 Hours\n",
    "- 7.68 Hours\n",
    "- 3.32 Hours\n"
   ]
  },
  {
   "cell_type": "code",
   "execution_count": 30,
   "id": "80ae8762-963a-4587-9dd7-8ae190f5a9b8",
   "metadata": {},
   "outputs": [
    {
     "name": "stderr",
     "output_type": "stream",
     "text": [
      "[Stage 8:>                                                          (0 + 1) / 1]\r"
     ]
    },
    {
     "name": "stdout",
     "output_type": "stream",
     "text": [
      "+-------------------+-------------------+------------------+\n",
      "|    pickup_datetime|   dropoff_datetime|          tripdiff|\n",
      "+-------------------+-------------------+------------------+\n",
      "|2019-10-11 18:00:00|2091-10-11 18:30:00|          631152.5|\n",
      "|2019-10-28 09:00:00|2091-10-28 09:30:00|          631152.5|\n",
      "|2019-10-31 23:46:33|2029-11-01 00:13:00| 87672.44083333333|\n",
      "|2019-10-01 21:43:42|2027-10-01 21:45:23| 70128.02805555555|\n",
      "|2019-10-17 14:00:00|2020-10-18 00:00:00|            8794.0|\n",
      "|2019-10-26 21:26:00|2020-10-26 21:36:00| 8784.166666666666|\n",
      "|2019-10-30 12:30:04|2019-12-30 13:02:08|1465.5344444444445|\n",
      "|2019-10-25 07:04:57|2019-12-08 07:54:33|1057.8266666666666|\n",
      "|2019-10-25 07:04:57|2019-12-08 07:21:11|1057.2705555555556|\n",
      "|2019-10-01 13:47:17|2019-11-03 15:20:28| 794.5530555555556|\n",
      "+-------------------+-------------------+------------------+\n",
      "\n"
     ]
    },
    {
     "name": "stderr",
     "output_type": "stream",
     "text": [
      "                                                                                \r"
     ]
    }
   ],
   "source": [
    "spark.sql(\"\"\"\n",
    "SELECT pickup_datetime\n",
    "    , dropoff_datetime\n",
    "    , (unix_timestamp(dropoff_datetime) - unix_timestamp(pickup_datetime)) / 3600  as tripdiff\n",
    "FROM FHV_Records\n",
    "ORDER BY tripdiff desc \n",
    "LIMIT 10\n",
    "\"\"\").show()"
   ]
  },
  {
   "cell_type": "markdown",
   "id": "afa07b30-9ac5-4039-8e76-5aa5cada634e",
   "metadata": {},
   "source": [
    "\n",
    "\n",
    "### Question 5: \n",
    "\n",
    "**User Interface**\n",
    "\n",
    "Spark’s User Interface which shows the application's dashboard runs on which local port?\n",
    "\n",
    "- 80\n",
    "- 443\n",
    "- 4040\n",
    "- 8080"
   ]
  },
  {
   "cell_type": "markdown",
   "id": "5c60f393-fada-4336-b4fe-3453680a1060",
   "metadata": {},
   "source": [
    "### Question 6: \n",
    "\n",
    "**Least frequent pickup location zone**\n",
    "\n",
    "Load the zone lookup data into a temp view in Spark</br>\n",
    "[Zone Data](https://github.com/DataTalksClub/nyc-tlc-data/releases/download/misc/taxi_zone_lookup.csv)\n",
    "\n",
    "Using the zone lookup data and the FHV October 2019 data, what is the name of the LEAST frequent pickup location Zone?</br>\n",
    "\n",
    "- East Chelsea\n",
    "- Jamaica Bay\n",
    "- Union Sq\n",
    "- Crown Heights North"
   ]
  },
  {
   "cell_type": "code",
   "execution_count": 31,
   "id": "1f77c9f7-c4ff-4607-b827-dca00e900e97",
   "metadata": {},
   "outputs": [],
   "source": [
    "zone_df = spark.read.csv(\"taxi_zone_lookup.csv\", header=True)"
   ]
  },
  {
   "cell_type": "code",
   "execution_count": 33,
   "id": "7b71dc7a-006c-457e-bc29-a397316dfc2f",
   "metadata": {},
   "outputs": [],
   "source": [
    "zone_df.createOrReplaceTempView(\"zones\")"
   ]
  },
  {
   "cell_type": "code",
   "execution_count": 34,
   "id": "c991fe16-c32f-46b7-95be-c98579b7bcf7",
   "metadata": {},
   "outputs": [
    {
     "name": "stdout",
     "output_type": "stream",
     "text": [
      "root\n",
      " |-- LocationID: string (nullable = true)\n",
      " |-- Borough: string (nullable = true)\n",
      " |-- Zone: string (nullable = true)\n",
      " |-- service_zone: string (nullable = true)\n",
      "\n"
     ]
    }
   ],
   "source": [
    "zone_df.printSchema()"
   ]
  },
  {
   "cell_type": "code",
   "execution_count": 36,
   "id": "ee6867de-47a6-4605-bca5-ae8e4477d5e4",
   "metadata": {},
   "outputs": [
    {
     "name": "stdout",
     "output_type": "stream",
     "text": [
      "+----------+-------------+--------------------+------------+\n",
      "|LocationID|      Borough|                Zone|service_zone|\n",
      "+----------+-------------+--------------------+------------+\n",
      "|         1|          EWR|      Newark Airport|         EWR|\n",
      "|         2|       Queens|         Jamaica Bay|   Boro Zone|\n",
      "|         3|        Bronx|Allerton/Pelham G...|   Boro Zone|\n",
      "|         4|    Manhattan|       Alphabet City| Yellow Zone|\n",
      "|         5|Staten Island|       Arden Heights|   Boro Zone|\n",
      "+----------+-------------+--------------------+------------+\n",
      "\n"
     ]
    }
   ],
   "source": [
    "spark.sql(\"\"\"\n",
    "SELECT * \n",
    "FROM zones\n",
    "LIMIT 5\"\"\").show()"
   ]
  },
  {
   "cell_type": "code",
   "execution_count": 39,
   "id": "0fedc565-515d-43c6-a4fe-2366a3cec297",
   "metadata": {},
   "outputs": [
    {
     "name": "stdout",
     "output_type": "stream",
     "text": [
      "+--------------------+-------------------+-------------------+------------+------------+-------+----------------------+\n",
      "|dispatching_base_num|    pickup_datetime|   dropOff_datetime|PUlocationID|DOlocationID|SR_Flag|Affiliated_base_number|\n",
      "+--------------------+-------------------+-------------------+------------+------------+-------+----------------------+\n",
      "|              B00009|2019-10-01 00:23:00|2019-10-01 00:35:00|         264|         264|   null|                B00009|\n",
      "|              B00013|2019-10-01 00:11:29|2019-10-01 00:13:22|         264|         264|   null|                B00013|\n",
      "|              B00014|2019-10-01 00:11:43|2019-10-01 00:37:20|         264|         264|   null|                B00014|\n",
      "|              B00014|2019-10-01 00:56:29|2019-10-01 00:57:47|         264|         264|   null|                B00014|\n",
      "|              B00014|2019-10-01 00:23:09|2019-10-01 00:28:27|         264|         264|   null|                B00014|\n",
      "+--------------------+-------------------+-------------------+------------+------------+-------+----------------------+\n",
      "\n"
     ]
    }
   ],
   "source": [
    "spark.sql(\"\"\"\n",
    "SELECT * \n",
    "FROM fhv_records\n",
    "LIMIT 5\"\"\").show()"
   ]
  },
  {
   "cell_type": "code",
   "execution_count": 37,
   "id": "ede461dc-8c65-4b3b-99fb-dc4d6a8fa350",
   "metadata": {},
   "outputs": [
    {
     "name": "stdout",
     "output_type": "stream",
     "text": [
      "+---------+-----------+-----------+\n",
      "|namespace|   viewName|isTemporary|\n",
      "+---------+-----------+-----------+\n",
      "|         |fhv_records|       true|\n",
      "|         |      zones|       true|\n",
      "+---------+-----------+-----------+\n",
      "\n"
     ]
    }
   ],
   "source": [
    "spark.sql(\"\"\"\n",
    "SHOW VIEWS;\n",
    "\"\"\").show()"
   ]
  },
  {
   "cell_type": "code",
   "execution_count": 38,
   "id": "f15a2fa6-caf8-44af-be36-8023b2febddc",
   "metadata": {},
   "outputs": [
    {
     "name": "stdout",
     "output_type": "stream",
     "text": [
      "+---------+-----------+-----------+\n",
      "|namespace|  tableName|isTemporary|\n",
      "+---------+-----------+-----------+\n",
      "|         |fhv_records|       true|\n",
      "|         |      zones|       true|\n",
      "+---------+-----------+-----------+\n",
      "\n"
     ]
    }
   ],
   "source": [
    "spark.sql(\"\"\"\n",
    "SHOW TABLES;\n",
    "\"\"\").show()"
   ]
  },
  {
   "cell_type": "code",
   "execution_count": 42,
   "id": "d4b97eec-f70b-4c76-bf95-f63915f68b0f",
   "metadata": {},
   "outputs": [
    {
     "name": "stderr",
     "output_type": "stream",
     "text": [
      "[Stage 25:>                                                         (0 + 1) / 1]\r"
     ]
    },
    {
     "name": "stdout",
     "output_type": "stream",
     "text": [
      "+------------+--------------------+---+\n",
      "|PULocationID|                zone|cnt|\n",
      "+------------+--------------------+---+\n",
      "|           2|         Jamaica Bay|  1|\n",
      "|         105|Governor's Island...|  2|\n",
      "|         111| Green-Wood Cemetery|  5|\n",
      "|          30|       Broad Channel|  8|\n",
      "|         120|     Highbridge Park| 14|\n",
      "|          12|        Battery Park| 15|\n",
      "|         207|Saint Michaels Ce...| 23|\n",
      "|          27|Breezy Point/Fort...| 25|\n",
      "|         154|Marine Park/Floyd...| 26|\n",
      "|           8|        Astoria Park| 29|\n",
      "|         128|    Inwood Hill Park| 39|\n",
      "|         253|       Willets Point| 47|\n",
      "|          96|Forest Park/Highl...| 53|\n",
      "|          34|  Brooklyn Navy Yard| 57|\n",
      "|          59|        Crotona Park| 62|\n",
      "|          58|        Country Club| 77|\n",
      "|          99|     Freshkills Park| 89|\n",
      "|         190|       Prospect Park| 98|\n",
      "|          54|     Columbia Street|105|\n",
      "|         217|  South Williamsburg|110|\n",
      "+------------+--------------------+---+\n",
      "only showing top 20 rows\n",
      "\n"
     ]
    },
    {
     "name": "stderr",
     "output_type": "stream",
     "text": [
      "                                                                                \r"
     ]
    }
   ],
   "source": [
    "spark.sql(\"\"\"\n",
    "SELECT PULocationID\n",
    "    , zone\n",
    "    , COUNT(*) as cnt\n",
    "FROM fhv_records \n",
    "    INNER JOIN zones\n",
    "        ON PULocationID = LocationID\n",
    "GROUP BY PULocationID, zone\n",
    "ORDER BY cnt ASC\n",
    "\"\"\").show()"
   ]
  },
  {
   "cell_type": "code",
   "execution_count": 41,
   "id": "3658c168-e4d7-4795-aef7-5ff629759a76",
   "metadata": {},
   "outputs": [
    {
     "name": "stdout",
     "output_type": "stream",
     "text": [
      "+----------+-------------+--------------------+------------+\n",
      "|LocationID|      Borough|                Zone|service_zone|\n",
      "+----------+-------------+--------------------+------------+\n",
      "|         1|          EWR|      Newark Airport|         EWR|\n",
      "|         2|       Queens|         Jamaica Bay|   Boro Zone|\n",
      "|         3|        Bronx|Allerton/Pelham G...|   Boro Zone|\n",
      "|         4|    Manhattan|       Alphabet City| Yellow Zone|\n",
      "|         5|Staten Island|       Arden Heights|   Boro Zone|\n",
      "|         6|Staten Island|Arrochar/Fort Wad...|   Boro Zone|\n",
      "|         7|       Queens|             Astoria|   Boro Zone|\n",
      "|         8|       Queens|        Astoria Park|   Boro Zone|\n",
      "|         9|       Queens|          Auburndale|   Boro Zone|\n",
      "|        10|       Queens|        Baisley Park|   Boro Zone|\n",
      "|        11|     Brooklyn|          Bath Beach|   Boro Zone|\n",
      "|        12|    Manhattan|        Battery Park| Yellow Zone|\n",
      "|        13|    Manhattan|   Battery Park City| Yellow Zone|\n",
      "|        14|     Brooklyn|           Bay Ridge|   Boro Zone|\n",
      "|        15|       Queens|Bay Terrace/Fort ...|   Boro Zone|\n",
      "|        16|       Queens|             Bayside|   Boro Zone|\n",
      "|        17|     Brooklyn|             Bedford|   Boro Zone|\n",
      "|        18|        Bronx|        Bedford Park|   Boro Zone|\n",
      "|        19|       Queens|           Bellerose|   Boro Zone|\n",
      "|        20|        Bronx|             Belmont|   Boro Zone|\n",
      "|        21|     Brooklyn|    Bensonhurst East|   Boro Zone|\n",
      "|        22|     Brooklyn|    Bensonhurst West|   Boro Zone|\n",
      "|        23|Staten Island|Bloomfield/Emerso...|   Boro Zone|\n",
      "|        24|    Manhattan|        Bloomingdale| Yellow Zone|\n",
      "|        25|     Brooklyn|         Boerum Hill|   Boro Zone|\n",
      "|        26|     Brooklyn|        Borough Park|   Boro Zone|\n",
      "|        27|       Queens|Breezy Point/Fort...|   Boro Zone|\n",
      "|        28|       Queens|Briarwood/Jamaica...|   Boro Zone|\n",
      "|        29|     Brooklyn|      Brighton Beach|   Boro Zone|\n",
      "|        30|       Queens|       Broad Channel|   Boro Zone|\n",
      "|        31|        Bronx|          Bronx Park|   Boro Zone|\n",
      "|        32|        Bronx|           Bronxdale|   Boro Zone|\n",
      "|        33|     Brooklyn|    Brooklyn Heights|   Boro Zone|\n",
      "|        34|     Brooklyn|  Brooklyn Navy Yard|   Boro Zone|\n",
      "|        35|     Brooklyn|         Brownsville|   Boro Zone|\n",
      "|        36|     Brooklyn|      Bushwick North|   Boro Zone|\n",
      "|        37|     Brooklyn|      Bushwick South|   Boro Zone|\n",
      "|        38|       Queens|     Cambria Heights|   Boro Zone|\n",
      "|        39|     Brooklyn|            Canarsie|   Boro Zone|\n",
      "|        40|     Brooklyn|     Carroll Gardens|   Boro Zone|\n",
      "|        41|    Manhattan|      Central Harlem|   Boro Zone|\n",
      "|        42|    Manhattan|Central Harlem North|   Boro Zone|\n",
      "|        43|    Manhattan|        Central Park| Yellow Zone|\n",
      "|        44|Staten Island|Charleston/Totten...|   Boro Zone|\n",
      "|        45|    Manhattan|           Chinatown| Yellow Zone|\n",
      "|        46|        Bronx|         City Island|   Boro Zone|\n",
      "|        47|        Bronx|  Claremont/Bathgate|   Boro Zone|\n",
      "|        48|    Manhattan|        Clinton East| Yellow Zone|\n",
      "|        49|     Brooklyn|        Clinton Hill|   Boro Zone|\n",
      "|        50|    Manhattan|        Clinton West| Yellow Zone|\n",
      "|        51|        Bronx|          Co-Op City|   Boro Zone|\n",
      "|        52|     Brooklyn|         Cobble Hill|   Boro Zone|\n",
      "|        53|       Queens|       College Point|   Boro Zone|\n",
      "|        54|     Brooklyn|     Columbia Street|   Boro Zone|\n",
      "|        55|     Brooklyn|        Coney Island|   Boro Zone|\n",
      "|        56|       Queens|              Corona|   Boro Zone|\n",
      "|        57|       Queens|              Corona|   Boro Zone|\n",
      "|        58|        Bronx|        Country Club|   Boro Zone|\n",
      "|        59|        Bronx|        Crotona Park|   Boro Zone|\n",
      "|        60|        Bronx|   Crotona Park East|   Boro Zone|\n",
      "|        61|     Brooklyn| Crown Heights North|   Boro Zone|\n",
      "|        62|     Brooklyn| Crown Heights South|   Boro Zone|\n",
      "|        63|     Brooklyn|       Cypress Hills|   Boro Zone|\n",
      "|        64|       Queens|          Douglaston|   Boro Zone|\n",
      "|        65|     Brooklyn|Downtown Brooklyn...|   Boro Zone|\n",
      "|        66|     Brooklyn|  DUMBO/Vinegar Hill|   Boro Zone|\n",
      "|        67|     Brooklyn|       Dyker Heights|   Boro Zone|\n",
      "|        68|    Manhattan|        East Chelsea| Yellow Zone|\n",
      "|        69|        Bronx|East Concourse/Co...|   Boro Zone|\n",
      "|        70|       Queens|       East Elmhurst|   Boro Zone|\n",
      "|        71|     Brooklyn|East Flatbush/Far...|   Boro Zone|\n",
      "|        72|     Brooklyn|East Flatbush/Rem...|   Boro Zone|\n",
      "|        73|       Queens|       East Flushing|   Boro Zone|\n",
      "|        74|    Manhattan|   East Harlem North|   Boro Zone|\n",
      "|        75|    Manhattan|   East Harlem South|   Boro Zone|\n",
      "|        76|     Brooklyn|       East New York|   Boro Zone|\n",
      "|        77|     Brooklyn|East New York/Pen...|   Boro Zone|\n",
      "|        78|        Bronx|        East Tremont|   Boro Zone|\n",
      "|        79|    Manhattan|        East Village| Yellow Zone|\n",
      "|        80|     Brooklyn|   East Williamsburg|   Boro Zone|\n",
      "|        81|        Bronx|         Eastchester|   Boro Zone|\n",
      "|        82|       Queens|            Elmhurst|   Boro Zone|\n",
      "|        83|       Queens|    Elmhurst/Maspeth|   Boro Zone|\n",
      "|        84|Staten Island|Eltingville/Annad...|   Boro Zone|\n",
      "|        85|     Brooklyn|             Erasmus|   Boro Zone|\n",
      "|        86|       Queens|        Far Rockaway|   Boro Zone|\n",
      "|        87|    Manhattan|Financial Distric...| Yellow Zone|\n",
      "|        88|    Manhattan|Financial Distric...| Yellow Zone|\n",
      "|        89|     Brooklyn|Flatbush/Ditmas Park|   Boro Zone|\n",
      "|        90|    Manhattan|            Flatiron| Yellow Zone|\n",
      "|        91|     Brooklyn|           Flatlands|   Boro Zone|\n",
      "|        92|       Queens|            Flushing|   Boro Zone|\n",
      "|        93|       Queens|Flushing Meadows-...|   Boro Zone|\n",
      "|        94|        Bronx|       Fordham South|   Boro Zone|\n",
      "|        95|       Queens|        Forest Hills|   Boro Zone|\n",
      "|        96|       Queens|Forest Park/Highl...|   Boro Zone|\n",
      "|        97|     Brooklyn|         Fort Greene|   Boro Zone|\n",
      "|        98|       Queens|       Fresh Meadows|   Boro Zone|\n",
      "|        99|Staten Island|     Freshkills Park|   Boro Zone|\n",
      "|       100|    Manhattan|    Garment District| Yellow Zone|\n",
      "|       101|       Queens|           Glen Oaks|   Boro Zone|\n",
      "|       102|       Queens|            Glendale|   Boro Zone|\n",
      "|       103|    Manhattan|Governor's Island...| Yellow Zone|\n",
      "|       104|    Manhattan|Governor's Island...| Yellow Zone|\n",
      "|       105|    Manhattan|Governor's Island...| Yellow Zone|\n",
      "|       106|     Brooklyn|             Gowanus|   Boro Zone|\n",
      "|       107|    Manhattan|            Gramercy| Yellow Zone|\n",
      "|       108|     Brooklyn|           Gravesend|   Boro Zone|\n",
      "|       109|Staten Island|         Great Kills|   Boro Zone|\n",
      "|       110|Staten Island|    Great Kills Park|   Boro Zone|\n",
      "|       111|     Brooklyn| Green-Wood Cemetery|   Boro Zone|\n",
      "|       112|     Brooklyn|          Greenpoint|   Boro Zone|\n",
      "|       113|    Manhattan|Greenwich Village...| Yellow Zone|\n",
      "|       114|    Manhattan|Greenwich Village...| Yellow Zone|\n",
      "|       115|Staten Island| Grymes Hill/Clifton|   Boro Zone|\n",
      "|       116|    Manhattan|    Hamilton Heights|   Boro Zone|\n",
      "|       117|       Queens|     Hammels/Arverne|   Boro Zone|\n",
      "|       118|Staten Island|Heartland Village...|   Boro Zone|\n",
      "|       119|        Bronx|          Highbridge|   Boro Zone|\n",
      "|       120|    Manhattan|     Highbridge Park|   Boro Zone|\n",
      "|       121|       Queens|   Hillcrest/Pomonok|   Boro Zone|\n",
      "|       122|       Queens|              Hollis|   Boro Zone|\n",
      "|       123|     Brooklyn|           Homecrest|   Boro Zone|\n",
      "|       124|       Queens|        Howard Beach|   Boro Zone|\n",
      "|       125|    Manhattan|           Hudson Sq| Yellow Zone|\n",
      "|       126|        Bronx|         Hunts Point|   Boro Zone|\n",
      "|       127|    Manhattan|              Inwood|   Boro Zone|\n",
      "|       128|    Manhattan|    Inwood Hill Park|   Boro Zone|\n",
      "|       129|       Queens|     Jackson Heights|   Boro Zone|\n",
      "|       130|       Queens|             Jamaica|   Boro Zone|\n",
      "|       131|       Queens|     Jamaica Estates|   Boro Zone|\n",
      "|       132|       Queens|         JFK Airport|    Airports|\n",
      "|       133|     Brooklyn|          Kensington|   Boro Zone|\n",
      "|       134|       Queens|         Kew Gardens|   Boro Zone|\n",
      "|       135|       Queens|   Kew Gardens Hills|   Boro Zone|\n",
      "|       136|        Bronx| Kingsbridge Heights|   Boro Zone|\n",
      "|       137|    Manhattan|            Kips Bay| Yellow Zone|\n",
      "|       138|       Queens|   LaGuardia Airport|    Airports|\n",
      "|       139|       Queens|           Laurelton|   Boro Zone|\n",
      "|       140|    Manhattan|     Lenox Hill East| Yellow Zone|\n",
      "|       141|    Manhattan|     Lenox Hill West| Yellow Zone|\n",
      "|       142|    Manhattan| Lincoln Square East| Yellow Zone|\n",
      "|       143|    Manhattan| Lincoln Square West| Yellow Zone|\n",
      "|       144|    Manhattan| Little Italy/NoLiTa| Yellow Zone|\n",
      "|       145|       Queens|Long Island City/...|   Boro Zone|\n",
      "|       146|       Queens|Long Island City/...|   Boro Zone|\n",
      "|       147|        Bronx|            Longwood|   Boro Zone|\n",
      "|       148|    Manhattan|     Lower East Side| Yellow Zone|\n",
      "|       149|     Brooklyn|             Madison|   Boro Zone|\n",
      "|       150|     Brooklyn|     Manhattan Beach|   Boro Zone|\n",
      "|       151|    Manhattan|    Manhattan Valley| Yellow Zone|\n",
      "|       152|    Manhattan|      Manhattanville|   Boro Zone|\n",
      "|       153|    Manhattan|         Marble Hill|   Boro Zone|\n",
      "|       154|     Brooklyn|Marine Park/Floyd...|   Boro Zone|\n",
      "|       155|     Brooklyn|Marine Park/Mill ...|   Boro Zone|\n",
      "|       156|Staten Island|     Mariners Harbor|   Boro Zone|\n",
      "|       157|       Queens|             Maspeth|   Boro Zone|\n",
      "|       158|    Manhattan|Meatpacking/West ...| Yellow Zone|\n",
      "|       159|        Bronx|       Melrose South|   Boro Zone|\n",
      "|       160|       Queens|      Middle Village|   Boro Zone|\n",
      "|       161|    Manhattan|      Midtown Center| Yellow Zone|\n",
      "|       162|    Manhattan|        Midtown East| Yellow Zone|\n",
      "|       163|    Manhattan|       Midtown North| Yellow Zone|\n",
      "|       164|    Manhattan|       Midtown South| Yellow Zone|\n",
      "|       165|     Brooklyn|             Midwood|   Boro Zone|\n",
      "|       166|    Manhattan| Morningside Heights|   Boro Zone|\n",
      "|       167|        Bronx|  Morrisania/Melrose|   Boro Zone|\n",
      "|       168|        Bronx|Mott Haven/Port M...|   Boro Zone|\n",
      "|       169|        Bronx|          Mount Hope|   Boro Zone|\n",
      "|       170|    Manhattan|         Murray Hill| Yellow Zone|\n",
      "|       171|       Queens|  Murray Hill-Queens|   Boro Zone|\n",
      "|       172|Staten Island|New Dorp/Midland ...|   Boro Zone|\n",
      "|       173|       Queens|        North Corona|   Boro Zone|\n",
      "|       174|        Bronx|             Norwood|   Boro Zone|\n",
      "|       175|       Queens|     Oakland Gardens|   Boro Zone|\n",
      "|       176|Staten Island|             Oakwood|   Boro Zone|\n",
      "|       177|     Brooklyn|          Ocean Hill|   Boro Zone|\n",
      "|       178|     Brooklyn| Ocean Parkway South|   Boro Zone|\n",
      "|       179|       Queens|         Old Astoria|   Boro Zone|\n",
      "|       180|       Queens|          Ozone Park|   Boro Zone|\n",
      "|       181|     Brooklyn|          Park Slope|   Boro Zone|\n",
      "|       182|        Bronx|         Parkchester|   Boro Zone|\n",
      "|       183|        Bronx|          Pelham Bay|   Boro Zone|\n",
      "|       184|        Bronx|     Pelham Bay Park|   Boro Zone|\n",
      "|       185|        Bronx|      Pelham Parkway|   Boro Zone|\n",
      "|       186|    Manhattan|Penn Station/Madi...| Yellow Zone|\n",
      "|       187|Staten Island|       Port Richmond|   Boro Zone|\n",
      "|       188|     Brooklyn|Prospect-Lefferts...|   Boro Zone|\n",
      "|       189|     Brooklyn|    Prospect Heights|   Boro Zone|\n",
      "|       190|     Brooklyn|       Prospect Park|   Boro Zone|\n",
      "|       191|       Queens|      Queens Village|   Boro Zone|\n",
      "|       192|       Queens|     Queensboro Hill|   Boro Zone|\n",
      "|       193|       Queens|Queensbridge/Rave...|   Boro Zone|\n",
      "|       194|    Manhattan|     Randalls Island| Yellow Zone|\n",
      "|       195|     Brooklyn|            Red Hook|   Boro Zone|\n",
      "|       196|       Queens|           Rego Park|   Boro Zone|\n",
      "|       197|       Queens|       Richmond Hill|   Boro Zone|\n",
      "|       198|       Queens|           Ridgewood|   Boro Zone|\n",
      "|       199|        Bronx|       Rikers Island|   Boro Zone|\n",
      "|       200|        Bronx|Riverdale/North R...|   Boro Zone|\n",
      "|       201|       Queens|       Rockaway Park|   Boro Zone|\n",
      "|       202|    Manhattan|    Roosevelt Island|   Boro Zone|\n",
      "|       203|       Queens|            Rosedale|   Boro Zone|\n",
      "|       204|Staten Island|   Rossville/Woodrow|   Boro Zone|\n",
      "|       205|       Queens|        Saint Albans|   Boro Zone|\n",
      "|       206|Staten Island|Saint George/New ...|   Boro Zone|\n",
      "|       207|       Queens|Saint Michaels Ce...|   Boro Zone|\n",
      "|       208|        Bronx|Schuylerville/Edg...|   Boro Zone|\n",
      "|       209|    Manhattan|             Seaport| Yellow Zone|\n",
      "|       210|     Brooklyn|      Sheepshead Bay|   Boro Zone|\n",
      "|       211|    Manhattan|                SoHo| Yellow Zone|\n",
      "|       212|        Bronx|  Soundview/Bruckner|   Boro Zone|\n",
      "|       213|        Bronx|Soundview/Castle ...|   Boro Zone|\n",
      "|       214|Staten Island|South Beach/Donga...|   Boro Zone|\n",
      "|       215|       Queens|       South Jamaica|   Boro Zone|\n",
      "|       216|       Queens|    South Ozone Park|   Boro Zone|\n",
      "|       217|     Brooklyn|  South Williamsburg|   Boro Zone|\n",
      "|       218|       Queens|Springfield Garde...|   Boro Zone|\n",
      "|       219|       Queens|Springfield Garde...|   Boro Zone|\n",
      "|       220|        Bronx|Spuyten Duyvil/Ki...|   Boro Zone|\n",
      "|       221|Staten Island|           Stapleton|   Boro Zone|\n",
      "|       222|     Brooklyn|       Starrett City|   Boro Zone|\n",
      "|       223|       Queens|            Steinway|   Boro Zone|\n",
      "|       224|    Manhattan|Stuy Town/Peter C...| Yellow Zone|\n",
      "|       225|     Brooklyn|  Stuyvesant Heights|   Boro Zone|\n",
      "|       226|       Queens|           Sunnyside|   Boro Zone|\n",
      "|       227|     Brooklyn|    Sunset Park East|   Boro Zone|\n",
      "|       228|     Brooklyn|    Sunset Park West|   Boro Zone|\n",
      "|       229|    Manhattan|Sutton Place/Turt...| Yellow Zone|\n",
      "|       230|    Manhattan|Times Sq/Theatre ...| Yellow Zone|\n",
      "|       231|    Manhattan|TriBeCa/Civic Center| Yellow Zone|\n",
      "|       232|    Manhattan|Two Bridges/Sewar...| Yellow Zone|\n",
      "|       233|    Manhattan| UN/Turtle Bay South| Yellow Zone|\n",
      "|       234|    Manhattan|            Union Sq| Yellow Zone|\n",
      "|       235|        Bronx|University Height...|   Boro Zone|\n",
      "|       236|    Manhattan|Upper East Side N...| Yellow Zone|\n",
      "|       237|    Manhattan|Upper East Side S...| Yellow Zone|\n",
      "|       238|    Manhattan|Upper West Side N...| Yellow Zone|\n",
      "|       239|    Manhattan|Upper West Side S...| Yellow Zone|\n",
      "|       240|        Bronx|  Van Cortlandt Park|   Boro Zone|\n",
      "|       241|        Bronx|Van Cortlandt Vil...|   Boro Zone|\n",
      "|       242|        Bronx|Van Nest/Morris Park|   Boro Zone|\n",
      "|       243|    Manhattan|Washington Height...|   Boro Zone|\n",
      "|       244|    Manhattan|Washington Height...|   Boro Zone|\n",
      "|       245|Staten Island|       West Brighton|   Boro Zone|\n",
      "|       246|    Manhattan|West Chelsea/Huds...| Yellow Zone|\n",
      "|       247|        Bronx|      West Concourse|   Boro Zone|\n",
      "|       248|        Bronx|West Farms/Bronx ...|   Boro Zone|\n",
      "|       249|    Manhattan|        West Village| Yellow Zone|\n",
      "|       250|        Bronx|Westchester Villa...|   Boro Zone|\n",
      "|       251|Staten Island|         Westerleigh|   Boro Zone|\n",
      "|       252|       Queens|          Whitestone|   Boro Zone|\n",
      "|       253|       Queens|       Willets Point|   Boro Zone|\n",
      "|       254|        Bronx|Williamsbridge/Ol...|   Boro Zone|\n",
      "|       255|     Brooklyn|Williamsburg (Nor...|   Boro Zone|\n",
      "|       256|     Brooklyn|Williamsburg (Sou...|   Boro Zone|\n",
      "|       257|     Brooklyn|     Windsor Terrace|   Boro Zone|\n",
      "|       258|       Queens|           Woodhaven|   Boro Zone|\n",
      "|       259|        Bronx|  Woodlawn/Wakefield|   Boro Zone|\n",
      "|       260|       Queens|            Woodside|   Boro Zone|\n",
      "|       261|    Manhattan|  World Trade Center| Yellow Zone|\n",
      "|       262|    Manhattan|      Yorkville East| Yellow Zone|\n",
      "|       263|    Manhattan|      Yorkville West| Yellow Zone|\n",
      "|       264|      Unknown|                  NV|         N/A|\n",
      "|       265|      Unknown|                  NA|         N/A|\n",
      "+----------+-------------+--------------------+------------+\n",
      "\n"
     ]
    }
   ],
   "source": [
    "zone_df.show(270)"
   ]
  },
  {
   "cell_type": "code",
   "execution_count": null,
   "id": "5dcef454-843b-4d4b-9bb9-8ba24cfc8a93",
   "metadata": {},
   "outputs": [],
   "source": []
  }
 ],
 "metadata": {
  "kernelspec": {
   "display_name": "Python 3 (ipykernel)",
   "language": "python",
   "name": "python3"
  },
  "language_info": {
   "codemirror_mode": {
    "name": "ipython",
    "version": 3
   },
   "file_extension": ".py",
   "mimetype": "text/x-python",
   "name": "python",
   "nbconvert_exporter": "python",
   "pygments_lexer": "ipython3",
   "version": "3.10.13"
  }
 },
 "nbformat": 4,
 "nbformat_minor": 5
}
